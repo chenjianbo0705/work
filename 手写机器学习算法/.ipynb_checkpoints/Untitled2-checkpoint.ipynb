{
 "cells": [
  {
   "cell_type": "code",
   "execution_count": 1,
   "metadata": {},
   "outputs": [],
   "source": [
    "def createDataSet(): \n",
    "    fr = open('lenses.txt')\n",
    "    dataSet = [inst.strip().split('\\t') for inst in fr.readlines()]\n",
    "    labels = ['ages','prescript','astigmatic','tearRate']\n",
    "    return dataSet,labels"
   ]
  },
  {
   "cell_type": "code",
   "execution_count": 5,
   "metadata": {},
   "outputs": [],
   "source": [
    "from math import log\n",
    "import operator\n",
    "import matplotlib.pyplot as plt\n",
    "def calcShannonEnt(dataSet):\n",
    "    numEntries = len(dataSet) \n",
    "    labelCounts = {}     \n",
    "    for featVec in dataSet:         \n",
    "        currentLabel = featVec[-1] \n",
    "        if currentLabel not in labelCounts.keys():         \n",
    "            labelCounts[currentLabel] = 0\n",
    "        labelCounts[currentLabel] += 1 \n",
    "    shannonEnt = 0.0 \n",
    "    for key in labelCounts:    \n",
    "        prob = float(labelCounts[key])/numEntries \n",
    "        shannonEnt -= prob * log(prob, 2)      \n",
    "    return shannonEnt "
   ]
  },
  {
   "cell_type": "code",
   "execution_count": 6,
   "metadata": {},
   "outputs": [
    {
     "data": {
      "text/plain": [
       "(['ages', 'prescript', 'astigmatic', 'tearRate'],\n",
       " [['young', 'myope', 'no', 'reduced', 'no lenses'],\n",
       "  ['young', 'myope', 'no', 'normal', 'soft'],\n",
       "  ['young', 'myope', 'yes', 'reduced', 'no lenses'],\n",
       "  ['young', 'myope', 'yes', 'normal', 'hard'],\n",
       "  ['young', 'hyper', 'no', 'reduced', 'no lenses'],\n",
       "  ['young', 'hyper', 'no', 'normal', 'soft'],\n",
       "  ['young', 'hyper', 'yes', 'reduced', 'no lenses'],\n",
       "  ['young', 'hyper', 'yes', 'normal', 'hard'],\n",
       "  ['pre', 'myope', 'no', 'reduced', 'no lenses'],\n",
       "  ['pre', 'myope', 'no', 'normal', 'soft'],\n",
       "  ['pre', 'myope', 'yes', 'reduced', 'no lenses'],\n",
       "  ['pre', 'myope', 'yes', 'normal', 'hard'],\n",
       "  ['pre', 'hyper', 'no', 'reduced', 'no lenses'],\n",
       "  ['pre', 'hyper', 'no', 'normal', 'soft'],\n",
       "  ['pre', 'hyper', 'yes', 'reduced', 'no lenses'],\n",
       "  ['pre', 'hyper', 'yes', 'normal', 'no lenses'],\n",
       "  ['presbyopic', 'myope', 'no', 'reduced', 'no lenses'],\n",
       "  ['presbyopic', 'myope', 'no', 'normal', 'no lenses'],\n",
       "  ['presbyopic', 'myope', 'yes', 'reduced', 'no lenses'],\n",
       "  ['presbyopic', 'myope', 'yes', 'normal', 'hard'],\n",
       "  ['presbyopic', 'hyper', 'no', 'reduced', 'no lenses'],\n",
       "  ['presbyopic', 'hyper', 'no', 'normal', 'soft'],\n",
       "  ['presbyopic', 'hyper', 'yes', 'reduced', 'no lenses'],\n",
       "  ['presbyopic', 'hyper', 'yes', 'normal', 'no lenses']])"
      ]
     },
     "execution_count": 6,
     "metadata": {},
     "output_type": "execute_result"
    }
   ],
   "source": [
    "myDat,labels=createDataSet()\n",
    "labels,myDat"
   ]
  },
  {
   "cell_type": "code",
   "execution_count": 7,
   "metadata": {},
   "outputs": [
    {
     "data": {
      "text/plain": [
       "1.3260875253642983"
      ]
     },
     "execution_count": 7,
     "metadata": {},
     "output_type": "execute_result"
    }
   ],
   "source": [
    "calcShannonEnt(myDat)"
   ]
  },
  {
   "cell_type": "code",
   "execution_count": 8,
   "metadata": {},
   "outputs": [],
   "source": [
    "def splitDataSet(dataSet, axis, value): \n",
    "    retDataSet = []\n",
    "    for featVec in dataSet:\n",
    "        if featVec[axis] == value:\n",
    "            reducedFeatVec = featVec[:axis]     \n",
    "            reducedFeatVec.extend(featVec[axis+1:])\n",
    "            retDataSet.append(reducedFeatVec)\n",
    "    return retDataSet"
   ]
  },
  {
   "cell_type": "code",
   "execution_count": null,
   "metadata": {},
   "outputs": [],
   "source": [
    "def chooseBestFeatureToSplit(dataSet):\n",
    "    numFeatures = len(dataSet[0]) - 1 \n",
    "    baseEntropy = calcShannonEnt(dataSet) \n",
    "    bestInfoGain = 0.0 \n",
    "    bestFeature = -1     \n",
    "    for i in range(numFeatures):  \n",
    "        featList = [example[i] for example in dataSet]\n",
    "        uniqueVals = set(featList) \n",
    "        newEntropy = 0.0 \n",
    "        for value in uniqueVals: \n",
    "            subDataSet = splitDataSet(dataSet, i, value) \n",
    "            prob = len(subDataSet)/float(len(dataSet)) \n",
    "            newEntropy += prob * calcShannonEnt(subDataSet)   \n",
    "        infoGain = baseEntropy - newEntropy             \n",
    "        if (infoGain > bestInfoGain):        \n",
    "            bestInfoGain = infoGain        \n",
    "            bestFeature = i             \n",
    "    return bestFeature "
   ]
  }
 ],
 "metadata": {
  "kernelspec": {
   "display_name": "Python 3",
   "language": "python",
   "name": "python3"
  },
  "language_info": {
   "codemirror_mode": {
    "name": "ipython",
    "version": 3
   },
   "file_extension": ".py",
   "mimetype": "text/x-python",
   "name": "python",
   "nbconvert_exporter": "python",
   "pygments_lexer": "ipython3",
   "version": "3.7.3"
  }
 },
 "nbformat": 4,
 "nbformat_minor": 2
}
