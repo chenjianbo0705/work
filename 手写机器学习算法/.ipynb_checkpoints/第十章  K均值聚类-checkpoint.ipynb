{
 "cells": [
  {
   "cell_type": "code",
   "execution_count": 133,
   "metadata": {},
   "outputs": [],
   "source": [
    "from numpy import *\n",
    "import types\n",
    "def loadDataSet(filename):\n",
    "    dataMat = []\n",
    "    fr = open(filename)\n",
    "    for line in fr.readlines():\n",
    "        curLine = line.strip().split('\\t')\n",
    "        #map函数是很简单的。意为将第二个参数（一般是数组）中的每一个项，处理为第一个参数的类型\n",
    "        #fltLine = map(float,curLine)\n",
    "        fltLine = list(map(float,curLine))\n",
    "        dataMat.append(fltLine)\n",
    "    return dataMat"
   ]
  },
  {
   "cell_type": "code",
   "execution_count": 74,
   "metadata": {},
   "outputs": [],
   "source": [
    "def distEclud(vecA,vecB):\n",
    "    return sqrt(sum(power(vecA-vecB,2)))\n",
    "def randCent(dataSet,k):\n",
    "    n =shape(dataSet)[1]  # shape:数组的维度。  n = dataSet 第一行数据有几个元素\n",
    "    centroids = mat(zeros((k,n)))\n",
    "    for j in range(n):\n",
    "        minJ = min(dataSet[:,j])\n",
    "        rangeJ = float(max(dataSet[:,j]) - minJ)\n",
    "        centroids[:,j] = minJ + rangeJ * random.rand(k,1)\n",
    "        #centroids[:,j] = mat(minJ + rangeJ * random.rand(k,1)\n",
    "    return centroids,n"
   ]
  },
  {
   "cell_type": "code",
   "execution_count": 75,
   "metadata": {},
   "outputs": [],
   "source": [
    "dataMat = mat(loadDataSet('testSet1.txt'))"
   ]
  },
  {
   "cell_type": "code",
   "execution_count": null,
   "metadata": {},
   "outputs": [],
   "source": [
    "print(dataSet[:,1])"
   ]
  },
  {
   "cell_type": "code",
   "execution_count": 76,
   "metadata": {},
   "outputs": [
    {
     "name": "stdout",
     "output_type": "stream",
     "text": [
      "[[ 1.658985  4.285136]\n",
      " [-3.453687  3.424321]\n",
      " [ 4.838138 -1.151539]\n",
      " [-5.379713 -3.362104]\n",
      " [ 0.972564  2.924086]\n",
      " [-3.567919  1.531611]\n",
      " [ 0.450614 -3.302219]\n",
      " [-3.487105 -1.724432]\n",
      " [ 2.668759  1.594842]\n",
      " [-3.156485  3.191137]\n",
      " [ 3.165506 -3.999838]\n",
      " [-2.786837 -3.099354]\n",
      " [ 4.208187  2.984927]\n",
      " [-2.123337  2.943366]\n",
      " [ 0.704199 -0.479481]\n",
      " [-0.39237  -3.963704]\n",
      " [ 2.831667  1.574018]\n",
      " [-0.790153  3.343144]\n",
      " [ 2.943496 -3.357075]\n",
      " [-3.195883 -2.283926]\n",
      " [ 2.336445  2.875106]\n",
      " [-1.786345  2.554248]\n",
      " [ 2.190101 -1.90602 ]\n",
      " [-3.403367 -2.778288]\n",
      " [ 1.778124  3.880832]\n",
      " [-1.688346  2.230267]\n",
      " [ 2.592976 -2.054368]\n",
      " [-4.007257 -3.207066]\n",
      " [ 2.257734  3.387564]\n",
      " [-2.679011  0.785119]\n",
      " [ 0.939512 -4.023563]\n",
      " [-3.674424 -2.261084]\n",
      " [ 2.046259  2.735279]\n",
      " [-3.18947   1.780269]\n",
      " [ 4.372646 -0.822248]\n",
      " [-2.579316 -3.497576]\n",
      " [ 1.889034  5.1904  ]\n",
      " [-0.798747  2.185588]\n",
      " [ 2.83652  -2.658556]\n",
      " [-3.837877 -3.253815]\n",
      " [ 2.096701  3.886007]\n",
      " [-2.709034  2.923887]\n",
      " [ 3.367037 -3.184789]\n",
      " [-2.121479 -4.232586]\n",
      " [ 2.329546  3.179764]\n",
      " [-3.284816  3.273099]\n",
      " [ 3.091414 -3.815232]\n",
      " [-3.762093 -2.432191]\n",
      " [ 3.542056  2.778832]\n",
      " [-1.736822  4.241041]\n",
      " [ 2.127073 -2.98368 ]\n",
      " [-4.323818 -3.938116]\n",
      " [ 3.792121  5.135768]\n",
      " [-4.786473  3.358547]\n",
      " [ 2.624081 -3.260715]\n",
      " [-4.009299 -2.978115]\n",
      " [ 2.493525  1.96371 ]\n",
      " [-2.513661  2.642162]\n",
      " [ 1.864375 -3.176309]\n",
      " [-3.171184 -3.572452]\n",
      " [ 2.89422   2.489128]\n",
      " [-2.562539  2.884438]\n",
      " [ 3.491078 -3.947487]\n",
      " [-2.565729 -2.012114]\n",
      " [ 3.332948  3.983102]\n",
      " [-1.616805  3.573188]\n",
      " [ 2.280615 -2.559444]\n",
      " [-2.651229 -3.103198]\n",
      " [ 2.321395  3.154987]\n",
      " [-1.685703  2.939697]\n",
      " [ 3.031012 -3.620252]\n",
      " [-4.599622 -2.185829]\n",
      " [ 4.196223  1.126677]\n",
      " [-2.133863  3.093686]\n",
      " [ 4.668892 -2.562705]\n",
      " [-2.793241 -2.149706]\n",
      " [ 2.884105  3.043438]\n",
      " [-2.967647  2.848696]\n",
      " [ 4.479332 -1.764772]\n",
      " [-4.905566 -2.91107 ]]\n"
     ]
    }
   ],
   "source": [
    "print(dataMat)"
   ]
  },
  {
   "cell_type": "code",
   "execution_count": 77,
   "metadata": {},
   "outputs": [
    {
     "name": "stdout",
     "output_type": "stream",
     "text": [
      "2\n"
     ]
    }
   ],
   "source": [
    "print(shape(dataMat)[1])"
   ]
  },
  {
   "cell_type": "code",
   "execution_count": 78,
   "metadata": {},
   "outputs": [
    {
     "name": "stdout",
     "output_type": "stream",
     "text": [
      "80\n"
     ]
    }
   ],
   "source": [
    "print(shape(dataMat)[0])"
   ]
  },
  {
   "cell_type": "code",
   "execution_count": 79,
   "metadata": {},
   "outputs": [
    {
     "name": "stdout",
     "output_type": "stream",
     "text": [
      "[[-4.905566 -2.91107 ]]\n"
     ]
    }
   ],
   "source": [
    "print(dataMat[79,:])"
   ]
  },
  {
   "cell_type": "code",
   "execution_count": 80,
   "metadata": {},
   "outputs": [
    {
     "data": {
      "text/plain": [
       "matrix([[4.838138]])"
      ]
     },
     "execution_count": 80,
     "metadata": {},
     "output_type": "execute_result"
    }
   ],
   "source": [
    "max(dataMat[:,0])"
   ]
  },
  {
   "cell_type": "code",
   "execution_count": 81,
   "metadata": {},
   "outputs": [
    {
     "data": {
      "text/plain": [
       "matrix([[1.658985, 4.285136]])"
      ]
     },
     "execution_count": 81,
     "metadata": {},
     "output_type": "execute_result"
    }
   ],
   "source": [
    "dataMat[0]"
   ]
  },
  {
   "cell_type": "code",
   "execution_count": 82,
   "metadata": {},
   "outputs": [],
   "source": [
    "y,m=randCent(dataMat,2)"
   ]
  },
  {
   "cell_type": "code",
   "execution_count": 83,
   "metadata": {},
   "outputs": [
    {
     "data": {
      "text/plain": [
       "5.184632816681332"
      ]
     },
     "execution_count": 83,
     "metadata": {},
     "output_type": "execute_result"
    }
   ],
   "source": [
    "distEclud(dataMat[0],dataMat[1])"
   ]
  },
  {
   "cell_type": "code",
   "execution_count": 84,
   "metadata": {},
   "outputs": [
    {
     "name": "stdout",
     "output_type": "stream",
     "text": [
      "2\n"
     ]
    }
   ],
   "source": [
    "print(m)"
   ]
  },
  {
   "cell_type": "code",
   "execution_count": 85,
   "metadata": {},
   "outputs": [
    {
     "data": {
      "text/plain": [
       "array([[0.63242638],\n",
       "       [0.76500133],\n",
       "       [0.36854083],\n",
       "       [0.67588869],\n",
       "       [0.95196512]])"
      ]
     },
     "execution_count": 85,
     "metadata": {},
     "output_type": "execute_result"
    }
   ],
   "source": [
    "random.rand(5,1)"
   ]
  },
  {
   "cell_type": "code",
   "execution_count": 86,
   "metadata": {},
   "outputs": [],
   "source": [
    "from numpy import *\n",
    "import types\n",
    "def loadDataSet(filename):\n",
    "    dataMat = []\n",
    "    fr = open(filename)\n",
    "    for line in fr.readlines():\n",
    "        curLine = line.strip().split('\\t')\n",
    "        #map函数是很简单的。意为将第二个参数（一般是数组）中的每一个项，处理为第一个参数的类型\n",
    "        #fltLine = map(float,curLine)\n",
    "        fltLine = list(map(float,curLine))\n",
    "        dataMat.append(fltLine)\n",
    "    return dataMat\n",
    "def distEclud(vecA,vecB):\n",
    "    return sqrt(sum(power(vecA-vecB,2)))\n",
    "def randCent(dataSet,k):\n",
    "    n =shape(dataSet)[1]\n",
    "    centroids = mat(zeros((k,n)))\n",
    "    for j in range(n):\n",
    "        minJ = min(dataSet[:,j])\n",
    "        rangeJ = float(max(dataSet[:,j]) - minJ)\n",
    "        centroids[:,j] = minJ + rangeJ * random.rand(k,1)\n",
    "        #centroids[:,j] = mat(minJ + rangeJ * random.rand(k,1)\n",
    "    return centroids"
   ]
  },
  {
   "cell_type": "code",
   "execution_count": 98,
   "metadata": {},
   "outputs": [],
   "source": [
    "def kMeans(dataSet, k, distMeas=distEclud, createCent=randCent):\n",
    "    m = shape(dataSet)[0]\n",
    "    clusterAssment = mat(zeros((m,2)))#create mat to assign data points \n",
    "                                      #to a centroid, also holds SE of each point\n",
    "    centroids = createCent(dataSet, k)\n",
    "    clusterChanged = True\n",
    "    while clusterChanged:\n",
    "        clusterChanged = False\n",
    "        for i in range(m):#for each data point assign it to the closest centroid\n",
    "            minDist = inf; minIndex = -1\n",
    "            for j in range(k):\n",
    "                distJI = distMeas(centroids[j,:],dataSet[i,:])\n",
    "                if distJI < minDist:\n",
    "                    minDist = distJI; minIndex = j\n",
    "            if clusterAssment[i,0] != minIndex: clusterChanged = True\n",
    "            clusterAssment[i,:] = minIndex,minDist**2\n",
    "        print(centroids)\n",
    "        for cent in range(k):#recalculate centroids\n",
    "            ptsInClust = dataSet[nonzero(clusterAssment[:,0].A==cent)[0]]#获得该族的所有点\n",
    "            centroids[cent,:] = mean(ptsInClust, axis=0) #将质心改为族的均值（Mean)\n",
    "    return centroids, clusterAssment"
   ]
  },
  {
   "cell_type": "code",
   "execution_count": 99,
   "metadata": {},
   "outputs": [
    {
     "name": "stdout",
     "output_type": "stream",
     "text": [
      "[[-2.43479629 -0.59713011]\n",
      " [-0.05135898 -2.51384889]\n",
      " [-0.95889528 -0.64835393]\n",
      " [ 4.08253029 -0.66841108]]\n",
      "[[-3.14846306  0.08474054]\n",
      " [ 0.57701167 -3.44442178]\n",
      " [ 0.02196575  1.99333425]\n",
      " [ 3.01956819  0.76264487]]\n",
      "[[-3.55187638 -0.92831438]\n",
      " [ 1.77234694 -3.30796739]\n",
      " [-0.31751163  3.07582358]\n",
      " [ 3.42295324  1.74017853]]\n",
      "[[-3.54251791 -2.066412  ]\n",
      " [ 2.44502437 -2.980011  ]\n",
      " [-1.43546415  3.22862095]\n",
      " [ 3.08014861  2.43996456]]\n",
      "[[-3.53973889 -2.89384326]\n",
      " [ 2.65077367 -2.79019029]\n",
      " [-2.46154315  2.78737555]\n",
      " [ 2.6265299   3.10868015]]\n"
     ]
    }
   ],
   "source": [
    "myCentroids , clustAssing = kMeans(dataMat, 4)\n"
   ]
  },
  {
   "cell_type": "code",
   "execution_count": 101,
   "metadata": {},
   "outputs": [
    {
     "name": "stdout",
     "output_type": "stream",
     "text": [
      "[[-3.53973889 -2.89384326]\n",
      " [ 2.65077367 -2.79019029]\n",
      " [-2.46154315  2.78737555]\n",
      " [ 2.6265299   3.10868015]]\n",
      "[[ 3.          2.3201915 ]\n",
      " [ 2.          1.39004893]\n",
      " [ 1.          7.46974076]\n",
      " [ 0.          3.60477283]\n",
      " [ 3.          2.7696782 ]\n",
      " [ 2.          2.80101213]\n",
      " [ 1.          5.10287596]\n",
      " [ 0.          1.37029303]\n",
      " [ 3.          2.29348924]\n",
      " [ 2.          0.64596748]\n",
      " [ 1.          1.72819697]\n",
      " [ 0.          0.60909593]\n",
      " [ 3.          2.51695402]\n",
      " [ 2.          0.13871642]\n",
      " [ 1.          9.12853034]\n",
      " [ 1.         10.63785781]\n",
      " [ 3.          2.39726914]\n",
      " [ 2.          3.1024236 ]\n",
      " [ 1.          0.40704464]\n",
      " [ 0.          0.49023594]\n",
      " [ 3.          0.13870613]\n",
      " [ 2.          0.510241  ]\n",
      " [ 1.          0.9939764 ]\n",
      " [ 0.          0.03195031]\n",
      " [ 3.          1.31601105]\n",
      " [ 2.          0.90820377]\n",
      " [ 1.          0.54477501]\n",
      " [ 0.          0.31668166]\n",
      " [ 3.          0.21378662]\n",
      " [ 2.          4.05632356]\n",
      " [ 1.          4.44962474]\n",
      " [ 0.          0.41852436]\n",
      " [ 3.          0.47614274]\n",
      " [ 2.          1.5441411 ]\n",
      " [ 1.          6.83764117]\n",
      " [ 0.          1.28690535]\n",
      " [ 3.          4.87745774]\n",
      " [ 2.          3.12703929]\n",
      " [ 1.          0.05182929]\n",
      " [ 0.          0.21846598]\n",
      " [ 3.          0.8849557 ]\n",
      " [ 2.          0.0798871 ]\n",
      " [ 1.          0.66874131]\n",
      " [ 0.          3.80369324]\n",
      " [ 3.          0.09325235]\n",
      " [ 2.          0.91370546]\n",
      " [ 1.          1.24487442]\n",
      " [ 0.          0.26256416]\n",
      " [ 3.          0.94698784]\n",
      " [ 2.          2.63836399]\n",
      " [ 1.          0.31170066]\n",
      " [ 0.          1.70528559]\n",
      " [ 3.          5.46768776]\n",
      " [ 2.          5.73153563]\n",
      " [ 1.          0.22210601]\n",
      " [ 0.          0.22758842]\n",
      " [ 3.          1.32864695]\n",
      " [ 2.          0.02380325]\n",
      " [ 1.          0.76751052]\n",
      " [ 0.          0.59634253]\n",
      " [ 3.          0.45550286]\n",
      " [ 2.          0.01962128]\n",
      " [ 1.          2.04544706]\n",
      " [ 0.          1.72614177]\n",
      " [ 3.          1.2636401 ]\n",
      " [ 2.          1.33108375]\n",
      " [ 1.          0.19026129]\n",
      " [ 0.          0.83327924]\n",
      " [ 3.          0.09525163]\n",
      " [ 2.          0.62512976]\n",
      " [ 1.          0.83358364]\n",
      " [ 0.          1.62463639]\n",
      " [ 3.          6.39227291]\n",
      " [ 2.          0.20120037]\n",
      " [ 1.          4.12455116]\n",
      " [ 0.          1.11099937]\n",
      " [ 3.          0.07060147]\n",
      " [ 2.          0.2599013 ]\n",
      " [ 1.          4.39510824]\n",
      " [ 0.          1.86578044]]\n"
     ]
    }
   ],
   "source": [
    "print(myCentroids)\n",
    "print(clustAssing)"
   ]
  },
  {
   "cell_type": "code",
   "execution_count": 89,
   "metadata": {},
   "outputs": [],
   "source": [
    "def biKmeans(dataSet, k, distMeas=distEclud):\n",
    "    m = shape(dataSet)[0]  #m = 60\n",
    "    clusterAssment = mat(zeros((m,2)))\n",
    "    #mean：  求均值  axis=0  压缩成一行  tolist转换成列表\n",
    "    centroid0 = mean(dataSet, axis=0).tolist()[0]#第一个质心\n",
    "    centList =[centroid0] \n",
    "    for j in range(m):  #m = 60\n",
    "        clusterAssment[j,1] = distMeas(mat(centroid0), dataSet[j,:])**2 #第一个质心到所有点的距离\n",
    "    while (len(centList) < k):  #  k=3\n",
    "        lowestSSE = inf\n",
    "        for i in range(len(centList)):\n",
    "            #Numpy.nonzero()返回的是数组中，非零元素的位置。 ==i 所以返回的是等于i的元素位置\n",
    "            #python中一个matrix矩阵名.A 代表将 矩阵转化为array数组类型\n",
    "            ptsInCurrCluster = dataSet[nonzero(clusterAssment[:,0].A==i)[0],:]  #??????????????\n",
    "            centroidMat, splitClustAss = kMeans(ptsInCurrCluster, 2, distMeas)\n",
    "            sseSplit = sum(splitClustAss[:,1])\n",
    "            sseNotSplit = sum(clusterAssment[nonzero(clusterAssment[:,0].A!=i)[0],1])\n",
    "            print (\"sseSplit, and notSplit: \",sseSplit,sseNotSplit)\n",
    "            if (sseSplit + sseNotSplit) < lowestSSE:\n",
    "                bestCentToSplit = i\n",
    "                bestNewCents = centroidMat  # 质心\n",
    "                bestClustAss = splitClustAss.copy() #误差\n",
    "                lowestSSE = sseSplit + sseNotSplit\n",
    "                \n",
    "                \n",
    "        bestClustAss[nonzero(bestClustAss[:,0].A == 1)[0],0] = len(centList) \n",
    "        bestClustAss[nonzero(bestClustAss[:,0].A == 0)[0],0] = bestCentToSplit\n",
    "        print ('the bestCentToSplit is: ',bestCentToSplit)\n",
    "        print ('the len of bestClustAss is: ', len(bestClustAss))\n",
    "        centList[bestCentToSplit] = bestNewCents[0,:].tolist()[0]\n",
    "        centList.append(bestNewCents[1,:].tolist()[0])\n",
    "        clusterAssment[nonzero(clusterAssment[:,0].A == bestCentToSplit)[0],:]= bestClustAss\n",
    "    return mat(centList), clusterAssment\n",
    "     "
   ]
  },
  {
   "cell_type": "code",
   "execution_count": 106,
   "metadata": {},
   "outputs": [
    {
     "name": "stdout",
     "output_type": "stream",
     "text": [
      "3.275154\n",
      "[-0.15772275000000002, 1.2253301166666664]\n"
     ]
    }
   ],
   "source": [
    "dataMat3 = mat(loadDataSet('testSet2.txt'))\n",
    "print(dataMat3[0,0])\n",
    "cent = mean(dataMat3, axis=0).tolist()[0]\n",
    "print(cent)"
   ]
  },
  {
   "cell_type": "code",
   "execution_count": 146,
   "metadata": {},
   "outputs": [
    {
     "data": {
      "text/plain": [
       "array([0, 0, 1, 1, 2, 2], dtype=int64)"
      ]
     },
     "execution_count": 146,
     "metadata": {},
     "output_type": "execute_result"
    }
   ],
   "source": [
    "import numpy\n",
    "x = numpy.eye(3)\n",
    "nonzero(x==0)[0]"
   ]
  },
  {
   "cell_type": "code",
   "execution_count": 130,
   "metadata": {},
   "outputs": [
    {
     "name": "stdout",
     "output_type": "stream",
     "text": [
      "[[ 3.275154]\n",
      " [-3.344465]\n",
      " [ 0.355083]\n",
      " [ 1.852435]\n",
      " [-2.078973]\n",
      " [-0.993756]\n",
      " [ 2.682252]\n",
      " [-3.087776]\n",
      " [-1.565978]\n",
      " [ 2.441611]\n",
      " [-0.659487]\n",
      " [-0.459601]\n",
      " [ 2.17768 ]\n",
      " [-2.920969]\n",
      " [-0.028814]\n",
      " [ 3.625746]\n",
      " [-3.912363]\n",
      " [-0.551694]\n",
      " [ 2.855808]\n",
      " [-3.594448]\n",
      " [ 0.421993]\n",
      " [ 1.650821]\n",
      " [-2.082902]\n",
      " [-0.718809]\n",
      " [ 4.513623]\n",
      " [-4.822011]\n",
      " [-0.656297]\n",
      " [ 1.919901]\n",
      " [-3.287749]\n",
      " [-1.576936]\n",
      " [ 3.598143]\n",
      " [-3.977329]\n",
      " [-1.79108 ]\n",
      " [ 3.914654]\n",
      " [-1.910108]\n",
      " [-1.226597]\n",
      " [ 1.148946]\n",
      " [-2.113864]\n",
      " [ 0.845762]\n",
      " [ 2.629062]\n",
      " [-1.640717]\n",
      " [-1.881012]\n",
      " [ 4.606999]\n",
      " [-4.366462]\n",
      " [ 0.765015]\n",
      " [ 3.121904]\n",
      " [-4.025139]\n",
      " [-0.559558]\n",
      " [ 4.376754]\n",
      " [-1.874308]\n",
      " [-0.089337]\n",
      " [ 3.997787]\n",
      " [-3.082978]\n",
      " [ 0.845235]\n",
      " [ 1.327224]\n",
      " [-2.889949]\n",
      " [-0.966018]\n",
      " [ 2.960769]\n",
      " [-3.275518]\n",
      " [ 0.639276]]\n"
     ]
    }
   ],
   "source": [
    "clustert = mat(zeros((60,2)))\n",
    "\n",
    "ptsIn= dataMat3[nonzero(clustert[:,0].A==0)[0],:]\n",
    "print(nonzero(clustert[:,0].A==0))"
   ]
  },
  {
   "cell_type": "code",
   "execution_count": 102,
   "metadata": {},
   "outputs": [
    {
     "name": "stdout",
     "output_type": "stream",
     "text": [
      "[[-4.23786639  2.01605505]\n",
      " [ 0.30247871 -3.00261523]]\n",
      "[[-1.86022831  3.40897469]\n",
      " [ 1.14419326 -0.44451574]]\n",
      "sseSplit, and notSplit:  584.8476068364444 0.0\n",
      "the bestCentToSplit is:  0\n",
      "the len of bestClustAss is:  60\n",
      "[[ 0.50465755  2.88935992]\n",
      " [-2.36252307  4.44740618]]\n",
      "[[ 1.41744171  3.60243771]\n",
      " [-3.06779095  3.33769884]]\n",
      "sseSplit, and notSplit:  40.26647540822033 441.31482269559115\n",
      "[[4.29232247 2.87894257]\n",
      " [3.95233318 0.33744971]]\n",
      "[[ 3.51185254  3.07738085]\n",
      " [-0.32150057 -2.62473743]]\n",
      "[[ 3.43540671  2.88934121]\n",
      " [-0.45965615 -2.7782156 ]]\n",
      "sseSplit, and notSplit:  51.845405378816565 143.53278414085307\n",
      "the bestCentToSplit is:  1\n",
      "the len of bestClustAss is:  34\n"
     ]
    }
   ],
   "source": [
    "centList , mynewAssments = biKmeans(dataMat3,3)"
   ]
  },
  {
   "cell_type": "code",
   "execution_count": 127,
   "metadata": {},
   "outputs": [
    {
     "name": "stdout",
     "output_type": "stream",
     "text": [
      "[[-1.86022831  3.40897469]\n",
      " [ 3.43540671  2.88934121]\n",
      " [-0.45965615 -2.7782156 ]]\n"
     ]
    }
   ],
   "source": [
    "print(centList)"
   ]
  },
  {
   "cell_type": "code",
   "execution_count": 91,
   "metadata": {},
   "outputs": [
    {
     "name": "stdout",
     "output_type": "stream",
     "text": [
      "60 (60, 2)\n"
     ]
    }
   ],
   "source": [
    "t = shape(dataMat3)[0]\n",
    "print(t,shape(dataMat3))"
   ]
  },
  {
   "cell_type": "code",
   "execution_count": 92,
   "metadata": {},
   "outputs": [
    {
     "name": "stdout",
     "output_type": "stream",
     "text": [
      "0.0\n"
     ]
    }
   ],
   "source": [
    "clt = mat(zeros((4,2)))\n",
    "print(clt[0,1])"
   ]
  },
  {
   "cell_type": "code",
   "execution_count": 93,
   "metadata": {},
   "outputs": [
    {
     "data": {
      "text/plain": [
       "[[-0.15772275000000002, 1.2253301166666664]]"
      ]
     },
     "execution_count": 93,
     "metadata": {},
     "output_type": "execute_result"
    }
   ],
   "source": [
    "mean(dataMat3,axis = 0 ).tolist()"
   ]
  },
  {
   "cell_type": "code",
   "execution_count": 94,
   "metadata": {},
   "outputs": [
    {
     "data": {
      "text/plain": [
       "[-0.15772275000000002, 1.2253301166666664]"
      ]
     },
     "execution_count": 94,
     "metadata": {},
     "output_type": "execute_result"
    }
   ],
   "source": [
    "mean(dataMat3,axis = 0 ).tolist()[0]"
   ]
  },
  {
   "cell_type": "code",
   "execution_count": 95,
   "metadata": {},
   "outputs": [
    {
     "name": "stdout",
     "output_type": "stream",
     "text": [
      "[[-3.4209782   2.23314779]\n",
      " [ 4.45085078  2.13126921]]\n",
      "[[-1.97877572  0.67837814]\n",
      " [ 2.57385671  2.04575808]]\n",
      "[[-1.70351595  0.27408125]\n",
      " [ 2.93386365  3.12782785]]\n",
      "sseSplit, and notSplit:  541.2976292649145 0.0\n",
      "the bestCentToSplit is:  0\n",
      "the len of bestClustAss is:  60\n",
      "[[-4.42389234 -1.47863511]\n",
      " [ 0.18175386 -1.60465163]]\n",
      "[[-3.30393094  3.26416112]\n",
      " [-0.63657263 -1.71930533]]\n",
      "[[-2.94737575  3.3263781 ]\n",
      " [-0.45965615 -2.7782156 ]]\n",
      "sseSplit, and notSplit:  67.2202000797829 39.52929868209309\n",
      "[[1.35412434 1.31578632]\n",
      " [2.82639392 2.09765039]]\n",
      "[[1.7952785  1.894982  ]\n",
      " [3.06037311 3.26481072]]\n",
      "[[1.77386525 2.38413375]\n",
      " [3.22386325 3.31375137]]\n",
      "[[1.76645283 2.74857633]\n",
      " [3.43418257 3.29036421]]\n",
      "[[1.788374   2.990118  ]\n",
      " [3.55066577 3.20197931]]\n",
      "sseSplit, and notSplit:  25.194262086233078 501.7683305828214\n",
      "the bestCentToSplit is:  0\n",
      "the len of bestClustAss is:  40\n"
     ]
    }
   ],
   "source": [
    "centList , mynewAssments = biKmeans(dataMat3,3)\n",
    "print(e)"
   ]
  },
  {
   "cell_type": "code",
   "execution_count": 96,
   "metadata": {},
   "outputs": [],
   "source": [
    "def distSLC(vecA, vecB):#Spherical Law of Cosines\n",
    "    a = sin(vecA[0,1]*pi/180) * sin(vecB[0,1]*pi/180)\n",
    "    b = cos(vecA[0,1]*pi/180) * cos(vecB[0,1]*pi/180) * \\\n",
    "                      cos(pi * (vecB[0,0]-vecA[0,0]) /180)\n",
    "    return arccos(a + b)*6371.0 #pi is imported with numpy\n",
    "\n",
    "import matplotlib\n",
    "import matplotlib.pyplot as plt\n",
    "def clusterClubs(numClust=5):\n",
    "    datList = []\n",
    "    for line in open('places.txt').readlines():\n",
    "        lineArr = line.split('\\t')\n",
    "        datList.append([float(lineArr[4]), float(lineArr[3])])\n",
    "    datMat = mat(datList)\n",
    "    myCentroids, clustAssing = biKmeans(datMat, numClust, distMeas=distSLC)\n",
    "    fig = plt.figure()\n",
    "    rect=[0.1,0.1,0.8,0.8]\n",
    "    scatterMarkers=['s', 'o', '^', '8', 'p', \\\n",
    "                    'd', 'v', 'h', '>', '<']\n",
    "    axprops = dict(xticks=[], yticks=[])\n",
    "    ax0=fig.add_axes(rect, label='ax0', **axprops)\n",
    "    imgP = plt.imread('Portland.png')\n",
    "    ax0.imshow(imgP)\n",
    "    ax1=fig.add_axes(rect, label='ax1', frameon=False)\n",
    "    for i in range(numClust):\n",
    "        ptsInCurrCluster = datMat[nonzero(clustAssing[:,0].A==i)[0],:]\n",
    "        markerStyle = scatterMarkers[i % len(scatterMarkers)]\n",
    "        ax1.scatter(ptsInCurrCluster[:,0].flatten().A[0], ptsInCurrCluster[:,1].flatten().A[0], marker=markerStyle, s=90)\n",
    "    ax1.scatter(myCentroids[:,0].flatten().A[0], myCentroids[:,1].flatten().A[0], marker='+', s=300)\n",
    "    plt.show()"
   ]
  },
  {
   "cell_type": "code",
   "execution_count": 21,
   "metadata": {},
   "outputs": [
    {
     "name": "stdout",
     "output_type": "stream",
     "text": [
      "[[-122.66279459   45.48368527]\n",
      " [-122.42138955   45.56246889]]\n",
      "[[-122.65717866   45.51380438]\n",
      " [-122.49720873   45.50440982]]\n",
      "[[-122.66908485   45.514168  ]\n",
      " [-122.51724976   45.50661329]]\n",
      "[[-122.6827712    45.51158464]\n",
      " [-122.53587308   45.51366054]]\n",
      "[[-122.69340632   45.5070501 ]\n",
      " [-122.54653121   45.51955717]]\n",
      "[[-122.69551477   45.50729503]\n",
      " [-122.54868607   45.51882187]]\n",
      "sseSplit, and notSplit:  3043.2633161055337 0.0\n",
      "the bestCentToSplit is:  0\n",
      "the len of bestClustAss is:  69\n",
      "[[-122.803191     45.46554396]\n",
      " [-122.62921796   45.54564481]]\n",
      "[[-122.74989475   45.46078533]\n",
      " [-122.67134589   45.527966  ]]\n",
      "[[-122.73522721   45.458631  ]\n",
      " [-122.6732758    45.53454688]]\n",
      "[[-122.7288018    45.45886713]\n",
      " [-122.67471037   45.53756246]]\n",
      "sseSplit, and notSplit:  1321.0446323762235 851.4388885817106\n",
      "[[-122.48066021   45.48699914]\n",
      " [-122.43873335   45.52218838]]\n",
      "[[-122.55544818   45.51921046]\n",
      " [-122.4540165    45.5133815 ]]\n",
      "[[-122.56706156   45.52335936]\n",
      " [-122.4568086    45.4961344 ]]\n",
      "sseSplit, and notSplit:  505.61960820164956 2191.824427523823\n",
      "the bestCentToSplit is:  0\n",
      "the len of bestClustAss is:  39\n",
      "[[-122.77140649   45.46470269]\n",
      " [-122.73251748   45.45106899]]\n",
      "[[-122.78288433   45.4942305 ]\n",
      " [-122.69274678   45.43529156]]\n",
      "sseSplit, and notSplit:  245.68445207132126 1594.3600704108155\n",
      "[[-122.58588021   45.51249128]\n",
      " [-122.51043275   45.46313076]]\n",
      "[[-122.57552155   45.53120605]\n",
      " [-122.4950151    45.4940535 ]]\n",
      "[[-122.57768158   45.53263337]\n",
      " [-122.49860291   45.49496564]]\n",
      "sseSplit, and notSplit:  464.7205983452951 1321.0446323762235\n",
      "[[-122.67375432   45.50765665]\n",
      " [-122.82710001   45.49410861]]\n",
      "[[-122.667397     45.53281165]\n",
      " [-122.842918     45.646831  ]]\n",
      "sseSplit, and notSplit:  410.1002223762699 1429.5623391288295\n",
      "the bestCentToSplit is:  1\n",
      "the len of bestClustAss is:  30\n",
      "[[-122.71760003   45.4625686 ]\n",
      " [-122.65986728   45.48941673]]\n",
      "[[-122.74989475   45.46078533]\n",
      " [-122.64443      45.45119433]]\n",
      "[[-122.761804     45.46639582]\n",
      " [-122.63804575   45.43816325]]\n",
      "sseSplit, and notSplit:  275.8556677135142 1207.6417801743996\n",
      "[[-122.53814896   45.5500448 ]\n",
      " [-122.57291472   45.49159207]]\n",
      "[[-122.57406138   45.54772485]\n",
      " [-122.58552533   45.49993517]]\n",
      "sseSplit, and notSplit:  96.01241260401198 1570.5469897424525\n",
      "[[-122.67960025   45.53926835]\n",
      " [-122.8064906    45.59137736]]\n",
      "[[-122.66154024   45.52688367]\n",
      " [-122.76690133   45.612314  ]]\n",
      "sseSplit, and notSplit:  329.4802261983689 1042.844048892414\n",
      "[[-122.3818434    45.51597933]\n",
      " [-122.43579774   45.43265263]]\n",
      "[[-122.47693475   45.51258825]\n",
      " [-122.51098471   45.48489557]]\n",
      "[[-122.4568086    45.4961344 ]\n",
      " [-122.5334315    45.49399167]]\n",
      "[[-122.42811233   45.485694  ]\n",
      " [-122.52503687   45.4984425 ]]\n",
      "[[-122.4009285    45.46897   ]\n",
      " [-122.52030833   45.50074244]]\n",
      "sseSplit, and notSplit:  87.29595083472819 1536.2628733552904\n",
      "the bestCentToSplit is:  2\n",
      "the len of bestClustAss is:  24\n"
     ]
    },
    {
     "data": {
      "image/png": "[encoded data removed]",
      "text/plain": [
       "<Figure size 432x288 with 2 Axes>"
      ]
     },
     "metadata": {
      "needs_background": "light"
     },
     "output_type": "display_data"
    }
   ],
   "source": [
    "clusterClubs(5)"
   ]
  },
  {
   "cell_type": "code",
   "execution_count": 52,
   "metadata": {},
   "outputs": [
    {
     "name": "stdout",
     "output_type": "stream",
     "text": [
      "0\n",
      "1\n",
      "2\n",
      "3\n",
      "4\n"
     ]
    }
   ],
   "source": [
    "for i  in range(5):\n",
    "    print(i)"
   ]
  },
  {
   "cell_type": "code",
   "execution_count": 108,
   "metadata": {},
   "outputs": [
    {
     "name": "stdout",
     "output_type": "stream",
     "text": [
      "1\n"
     ]
    }
   ],
   "source": [
    "d=[0]\n",
    "print(len(d))"
   ]
  },
  {
   "cell_type": "code",
   "execution_count": 144,
   "metadata": {},
   "outputs": [
    {
     "data": {
      "text/plain": [
       "(array([0, 0, 1, 1, 2, 2], dtype=int64),\n",
       " array([1, 2, 0, 2, 0, 1], dtype=int64))"
      ]
     },
     "execution_count": 144,
     "metadata": {},
     "output_type": "execute_result"
    }
   ],
   "source": [
    "\n",
    "\n"
   ]
  },
  {
   "cell_type": "code",
   "execution_count": 143,
   "metadata": {},
   "outputs": [
    {
     "data": {
      "text/plain": [
       "(array([0, 0, 1, 1, 2, 2], dtype=int64),\n",
       " array([1, 2, 0, 2, 0, 1], dtype=int64))"
      ]
     },
     "execution_count": 143,
     "metadata": {},
     "output_type": "execute_result"
    }
   ],
   "source": []
  },
  {
   "cell_type": "code",
   "execution_count": null,
   "metadata": {},
   "outputs": [],
   "source": []
  }
 ],
 "metadata": {
  "kernelspec": {
   "display_name": "Python 3",
   "language": "python",
   "name": "python3"
  },
  "language_info": {
   "codemirror_mode": {
    "name": "ipython",
    "version": 3
   },
   "file_extension": ".py",
   "mimetype": "text/x-python",
   "name": "python",
   "nbconvert_exporter": "python",
   "pygments_lexer": "ipython3",
   "version": "3.7.3"
  }
 },
 "nbformat": 4,
 "nbformat_minor": 2
}
