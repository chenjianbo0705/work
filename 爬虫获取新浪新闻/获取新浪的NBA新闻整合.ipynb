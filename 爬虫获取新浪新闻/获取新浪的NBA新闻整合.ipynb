{
 "cells": [
  {
   "cell_type": "code",
   "execution_count": 1,
   "metadata": {},
   "outputs": [],
   "source": [
    "import pandas as pd\n",
    "import requests\n",
    "from bs4 import BeautifulSoup\n",
    "from tqdm import tqdm\n",
    "import sqlite3\n",
    "r = requests.get('http://sports.sina.com.cn/nba/5.shtml')\n",
    "r.encoding = 'utf-8'\n",
    "soup = BeautifulSoup(r.text,'html.parser')"
   ]
  },
  {
   "cell_type": "code",
   "execution_count": 2,
   "metadata": {},
   "outputs": [
    {
     "name": "stdout",
     "output_type": "stream",
     "text": [
      "S_Cont_11\n",
      "S_Cont_12\n",
      "S_Cont_13\n",
      "S_Cont_14\n",
      "S_Cont_15\n",
      "S_Cont_16\n",
      "S_Cont_17\n",
      "S_Cont_18\n",
      "S_Cont_19\n"
     ]
    }
   ],
   "source": [
    "for q  in  range(11,20):\n",
    "    print('S_Cont_{page}'.format(page=q))"
   ]
  },
  {
   "cell_type": "code",
   "execution_count": null,
   "metadata": {},
   "outputs": [],
   "source": []
  },
  {
   "cell_type": "code",
   "execution_count": 3,
   "metadata": {},
   "outputs": [
    {
     "name": "stdout",
     "output_type": "stream",
     "text": [
      "S_Cont_11\n"
     ]
    },
    {
     "name": "stderr",
     "output_type": "stream",
     "text": [
      "100%|██████████████████████████████████████████████████████████████████████████████| 70/70 [00:00<00:00, 139081.61it/s]\n"
     ]
    },
    {
     "name": "stdout",
     "output_type": "stream",
     "text": [
      "S_Cont_12\n"
     ]
    },
    {
     "name": "stderr",
     "output_type": "stream",
     "text": [
      "100%|███████████████████████████████████████████████████████████████████████████████| 70/70 [00:00<00:00, 46566.42it/s]\n"
     ]
    },
    {
     "name": "stdout",
     "output_type": "stream",
     "text": [
      "S_Cont_13\n"
     ]
    },
    {
     "name": "stderr",
     "output_type": "stream",
     "text": [
      "100%|██████████████████████████████████████████████████████████████████████████████| 70/70 [00:00<00:00, 139478.04it/s]\n"
     ]
    },
    {
     "name": "stdout",
     "output_type": "stream",
     "text": [
      "S_Cont_14\n"
     ]
    },
    {
     "name": "stderr",
     "output_type": "stream",
     "text": [
      "100%|███████████████████████████████████████████████████████████████████████████████| 70/70 [00:00<00:00, 69705.91it/s]\n"
     ]
    },
    {
     "name": "stdout",
     "output_type": "stream",
     "text": [
      "S_Cont_15\n"
     ]
    },
    {
     "name": "stderr",
     "output_type": "stream",
     "text": [
      "100%|███████████████████████████████████████████████████████████████████████████████| 70/70 [00:00<00:00, 85548.16it/s]\n"
     ]
    },
    {
     "name": "stdout",
     "output_type": "stream",
     "text": [
      "S_Cont_16\n"
     ]
    },
    {
     "name": "stderr",
     "output_type": "stream",
     "text": [
      "100%|██████████████████████████████████████████████████████████████████████████████| 70/70 [00:00<00:00, 139345.65it/s]\n"
     ]
    },
    {
     "name": "stdout",
     "output_type": "stream",
     "text": [
      "S_Cont_17\n"
     ]
    },
    {
     "name": "stderr",
     "output_type": "stream",
     "text": [
      "100%|██████████████████████████████████████████████████████████████████████████████| 70/70 [00:00<00:00, 139544.33it/s]\n"
     ]
    },
    {
     "name": "stdout",
     "output_type": "stream",
     "text": [
      "S_Cont_18\n"
     ]
    },
    {
     "name": "stderr",
     "output_type": "stream",
     "text": [
      "100%|██████████████████████████████████████████████████████████████████████████████| 70/70 [00:00<00:00, 139544.33it/s]\n"
     ]
    },
    {
     "name": "stdout",
     "output_type": "stream",
     "text": [
      "S_Cont_19\n"
     ]
    },
    {
     "name": "stderr",
     "output_type": "stream",
     "text": [
      "100%|██████████████████████████████████████████████████████████████████████████████| 70/70 [00:00<00:00, 139345.65it/s]\n",
      "  6%|████▌                                                                            | 35/630 [00:09<02:09,  4.61it/s]"
     ]
    },
    {
     "name": "stdout",
     "output_type": "stream",
     "text": [
      "地址为https://sports.sina.com.cn/basketball/nba/2020-02-26/doc-iimxxstf4497793.shtml新闻抓取失败\n"
     ]
    },
    {
     "name": "stderr",
     "output_type": "stream",
     "text": [
      " 14%|███████████▌                                                                     | 90/630 [00:24<02:54,  3.09it/s]"
     ]
    },
    {
     "name": "stdout",
     "output_type": "stream",
     "text": [
      "地址为https://sports.sina.com.cn/basketball/nba/2020-02-22/doc-iimxyqvz4968005.shtml新闻抓取失败\n"
     ]
    },
    {
     "name": "stderr",
     "output_type": "stream",
     "text": [
      " 37%|█████████████████████████████▊                                                  | 235/630 [01:02<01:38,  4.00it/s]"
     ]
    },
    {
     "name": "stdout",
     "output_type": "stream",
     "text": [
      "地址为https://sports.sina.com.cn/basketball/nba/2020-02-26/doc-iimxxstf4497793.shtml新闻抓取失败\n"
     ]
    },
    {
     "name": "stderr",
     "output_type": "stream",
     "text": [
      " 46%|████████████████████████████████████▊                                           | 290/630 [01:16<01:11,  4.78it/s]"
     ]
    },
    {
     "name": "stdout",
     "output_type": "stream",
     "text": [
      "地址为https://sports.sina.com.cn/basketball/nba/2020-02-22/doc-iimxyqvz4968005.shtml新闻抓取失败\n"
     ]
    },
    {
     "name": "stderr",
     "output_type": "stream",
     "text": [
      " 69%|███████████████████████████████████████████████████████▏                        | 435/630 [01:52<00:40,  4.83it/s]"
     ]
    },
    {
     "name": "stdout",
     "output_type": "stream",
     "text": [
      "地址为https://sports.sina.com.cn/basketball/nba/2020-02-26/doc-iimxxstf4497793.shtml新闻抓取失败\n"
     ]
    },
    {
     "name": "stderr",
     "output_type": "stream",
     "text": [
      " 78%|██████████████████████████████████████████████████████████████▏                 | 490/630 [02:05<00:36,  3.88it/s]"
     ]
    },
    {
     "name": "stdout",
     "output_type": "stream",
     "text": [
      "地址为https://sports.sina.com.cn/basketball/nba/2020-02-22/doc-iimxyqvz4968005.shtml新闻抓取失败\n"
     ]
    },
    {
     "name": "stderr",
     "output_type": "stream",
     "text": [
      "100%|████████████████████████████████████████████████████████████████████████████████| 630/630 [02:41<00:00,  3.90it/s]\n"
     ]
    }
   ],
   "source": [
    "news_dict = {'title':[],'href':[],'time':[],'acticle':[]}\n",
    "for q  in  range(11,20):\n",
    "    print('S_Cont_{page}'.format(page=q))\n",
    "    new =soup.find(id='S_Cont_{page}'.format(page=q))\n",
    "    ss=new.find_all('a')\n",
    "    sd = new.find_all('span')\n",
    "    for i in tqdm(ss):\n",
    "        href = i['href']\n",
    "        title = i.text\n",
    "        news_dict['title'].append(title)\n",
    "        news_dict['href'].append(href)\n",
    "    for w in sd:\n",
    "        data = w.text\n",
    "        news_dict['time'].append(data)\n",
    "for e in  tqdm(news_dict['href']):\n",
    "    try:\n",
    "        re = requests.get(e)\n",
    "        re.encoding = 'utf-8'\n",
    "        sou = BeautifulSoup(re.text,'html.parser')\n",
    "        new = sou.find('div','article')\n",
    "        st1=new.text.replace(u'\\n\\u3000\\u3000', u' ').replace(u'\\n\\n\\n\\n',u'').replace(u'\\n\\n',u'')\n",
    "    except:\n",
    "        print('地址为{}新闻抓取失败'.format(e))\n",
    "        continue\n",
    "    news_dict['acticle'].append(st1)"
   ]
  },
  {
   "cell_type": "code",
   "execution_count": 4,
   "metadata": {},
   "outputs": [
    {
     "data": {
      "text/html": [
       "<div>\n",
       "<style scoped>\n",
       "    .dataframe tbody tr th:only-of-type {\n",
       "        vertical-align: middle;\n",
       "    }\n",
       "\n",
       "    .dataframe tbody tr th {\n",
       "        vertical-align: top;\n",
       "    }\n",
       "\n",
       "    .dataframe thead th {\n",
       "        text-align: right;\n",
       "    }\n",
       "</style>\n",
       "<table border=\"1\" class=\"dataframe\">\n",
       "  <thead>\n",
       "    <tr style=\"text-align: right;\">\n",
       "      <th></th>\n",
       "      <th>title</th>\n",
       "      <th>href</th>\n",
       "      <th>time</th>\n",
       "      <th>acticle</th>\n",
       "    </tr>\n",
       "  </thead>\n",
       "  <tbody>\n",
       "    <tr>\n",
       "      <td>0</td>\n",
       "      <td>洛杉矶警员拿科比遇难照取悦女孩 已介入调查</td>\n",
       "      <td>https://sports.sina.com.cn/basketball/nba/2020...</td>\n",
       "      <td>02/29 07:54:16</td>\n",
       "      <td>现场 北京时间2月29日，据TMZ报道，洛杉矶郡执法部门的部分警员在私底下与外界分享湖人队名...</td>\n",
       "    </tr>\n",
       "    <tr>\n",
       "      <td>1</td>\n",
       "      <td>卖奖杯拍戒指！最后的最后，科比也没原谅他们</td>\n",
       "      <td>https://sports.sina.com.cn/basketball/nba/2020...</td>\n",
       "      <td>02/29 07:00:08</td>\n",
       "      <td>文身 在科比追思会结束后，瓦妮莎在社媒上晒出了科比姐姐莎莉-华盛顿（Sharia Wahin...</td>\n",
       "    </tr>\n",
       "    <tr>\n",
       "      <td>2</td>\n",
       "      <td>明日客战灰熊 詹姆斯出战成疑 浓眉大概率出战</td>\n",
       "      <td>https://sports.sina.com.cn/basketball/nba/2020...</td>\n",
       "      <td>02/29 06:42:43</td>\n",
       "      <td>詹姆斯与浓眉 直播吧2月29日讯 据美媒《FantasyLabs NBA》报道，明天对阵灰熊...</td>\n",
       "    </tr>\n",
       "    <tr>\n",
       "      <td>3</td>\n",
       "      <td>科比追悼会第2天！体坛第一美女也跟着退役了</td>\n",
       "      <td>https://sports.sina.com.cn/basketball/nba/2020...</td>\n",
       "      <td>02/29 06:30:00</td>\n",
       "      <td>莎拉波娃 搜微信篮球有毒9527，回复666领球星纪念公仔和手机壳！ 近日，根据多家知名外媒...</td>\n",
       "    </tr>\n",
       "    <tr>\n",
       "      <td>4</td>\n",
       "      <td>老照片！我要跳过大学，把天赋带进NBA！</td>\n",
       "      <td>https://sports.sina.com.cn/basketball/nba/2020...</td>\n",
       "      <td>02/29 06:30:00</td>\n",
       "      <td>\\n 超多图流 1996年宣布参加选秀的科比布莱恩特\\n （墨镜很有意思） “我决定跳过大学...</td>\n",
       "    </tr>\n",
       "    <tr>\n",
       "      <td>...</td>\n",
       "      <td>...</td>\n",
       "      <td>...</td>\n",
       "      <td>...</td>\n",
       "      <td>...</td>\n",
       "    </tr>\n",
       "    <tr>\n",
       "      <td>117</td>\n",
       "      <td>湖人最后一签终于浮出水面！快船想抢都抢不到</td>\n",
       "      <td>https://sports.sina.com.cn/basketball/nba/2020...</td>\n",
       "      <td>02/20 06:30:00</td>\n",
       "      <td>普罗科皮奥 今天是科比离开这个世界的第24天。 本文为知名体育网站《The Athletic...</td>\n",
       "    </tr>\n",
       "    <tr>\n",
       "      <td>118</td>\n",
       "      <td>拳王不满詹姆斯是最佳！他36分钟拿走3亿美元</td>\n",
       "      <td>https://sports.sina.com.cn/basketball/nba/2020...</td>\n",
       "      <td>02/20 06:30:00</td>\n",
       "      <td>奥多姆和女儿\\n 北京时间2月19日，据美媒报道，洛杉矶湖人名宿拉玛尔-奥多姆的女儿在社交媒...</td>\n",
       "    </tr>\n",
       "    <tr>\n",
       "      <td>119</td>\n",
       "      <td>我给科比当了三年半教练，一分钱都没收！</td>\n",
       "      <td>https://sports.sina.com.cn/basketball/nba/2020...</td>\n",
       "      <td>02/20 06:30:00</td>\n",
       "      <td>哈克莱斯防守詹姆斯\\n 北京时间2月19日，据著名NBA记者萨姆-阿米科报道，洛杉矶湖人队将...</td>\n",
       "    </tr>\n",
       "    <tr>\n",
       "      <td>120</td>\n",
       "      <td>女儿曝奥多姆遭未婚妻家暴 后者曾因家暴坐牢</td>\n",
       "      <td>https://sports.sina.com.cn/basketball/nba/2020...</td>\n",
       "      <td>02/19 10:52:58</td>\n",
       "      <td>\\n 北京时间2月19日，据TMZ报道，最近一位科比死忠球迷制作了一部科比主题的兰博基尼跑车...</td>\n",
       "    </tr>\n",
       "    <tr>\n",
       "      <td>121</td>\n",
       "      <td>曝湖人有意场均5+4快船弃将 签他不用担心被抢</td>\n",
       "      <td>https://sports.sina.com.cn/basketball/nba/2020...</td>\n",
       "      <td>02/19 09:12:02</td>\n",
       "      <td>詹姆斯\\n 北京时间2月19日，据美媒体报道，湖人队当家球星勒布朗-詹姆斯将在今年8月份推出...</td>\n",
       "    </tr>\n",
       "  </tbody>\n",
       "</table>\n",
       "<p>122 rows × 4 columns</p>\n",
       "</div>"
      ],
      "text/plain": [
       "                       title  \\\n",
       "0      洛杉矶警员拿科比遇难照取悦女孩 已介入调查   \n",
       "1      卖奖杯拍戒指！最后的最后，科比也没原谅他们   \n",
       "2     明日客战灰熊 詹姆斯出战成疑 浓眉大概率出战   \n",
       "3      科比追悼会第2天！体坛第一美女也跟着退役了   \n",
       "4       老照片！我要跳过大学，把天赋带进NBA！   \n",
       "..                       ...   \n",
       "117    湖人最后一签终于浮出水面！快船想抢都抢不到   \n",
       "118   拳王不满詹姆斯是最佳！他36分钟拿走3亿美元   \n",
       "119      我给科比当了三年半教练，一分钱都没收！   \n",
       "120    女儿曝奥多姆遭未婚妻家暴 后者曾因家暴坐牢   \n",
       "121  曝湖人有意场均5+4快船弃将 签他不用担心被抢   \n",
       "\n",
       "                                                  href            time  \\\n",
       "0    https://sports.sina.com.cn/basketball/nba/2020...  02/29 07:54:16   \n",
       "1    https://sports.sina.com.cn/basketball/nba/2020...  02/29 07:00:08   \n",
       "2    https://sports.sina.com.cn/basketball/nba/2020...  02/29 06:42:43   \n",
       "3    https://sports.sina.com.cn/basketball/nba/2020...  02/29 06:30:00   \n",
       "4    https://sports.sina.com.cn/basketball/nba/2020...  02/29 06:30:00   \n",
       "..                                                 ...             ...   \n",
       "117  https://sports.sina.com.cn/basketball/nba/2020...  02/20 06:30:00   \n",
       "118  https://sports.sina.com.cn/basketball/nba/2020...  02/20 06:30:00   \n",
       "119  https://sports.sina.com.cn/basketball/nba/2020...  02/20 06:30:00   \n",
       "120  https://sports.sina.com.cn/basketball/nba/2020...  02/19 10:52:58   \n",
       "121  https://sports.sina.com.cn/basketball/nba/2020...  02/19 09:12:02   \n",
       "\n",
       "                                               acticle  \n",
       "0    现场 北京时间2月29日，据TMZ报道，洛杉矶郡执法部门的部分警员在私底下与外界分享湖人队名...  \n",
       "1    文身 在科比追思会结束后，瓦妮莎在社媒上晒出了科比姐姐莎莉-华盛顿（Sharia Wahin...  \n",
       "2    詹姆斯与浓眉 直播吧2月29日讯 据美媒《FantasyLabs NBA》报道，明天对阵灰熊...  \n",
       "3    莎拉波娃 搜微信篮球有毒9527，回复666领球星纪念公仔和手机壳！ 近日，根据多家知名外媒...  \n",
       "4    \\n 超多图流 1996年宣布参加选秀的科比布莱恩特\\n （墨镜很有意思） “我决定跳过大学...  \n",
       "..                                                 ...  \n",
       "117  普罗科皮奥 今天是科比离开这个世界的第24天。 本文为知名体育网站《The Athletic...  \n",
       "118  奥多姆和女儿\\n 北京时间2月19日，据美媒报道，洛杉矶湖人名宿拉玛尔-奥多姆的女儿在社交媒...  \n",
       "119  哈克莱斯防守詹姆斯\\n 北京时间2月19日，据著名NBA记者萨姆-阿米科报道，洛杉矶湖人队将...  \n",
       "120  \\n 北京时间2月19日，据TMZ报道，最近一位科比死忠球迷制作了一部科比主题的兰博基尼跑车...  \n",
       "121  詹姆斯\\n 北京时间2月19日，据美媒体报道，湖人队当家球星勒布朗-詹姆斯将在今年8月份推出...  \n",
       "\n",
       "[122 rows x 4 columns]"
      ]
     },
     "execution_count": 4,
     "metadata": {},
     "output_type": "execute_result"
    }
   ],
   "source": [
    "df = pd.DataFrame.from_dict(news_dict, orient='index')\n",
    "df.transpose().head(122)"
   ]
  },
  {
   "cell_type": "code",
   "execution_count": 5,
   "metadata": {},
   "outputs": [],
   "source": [
    "df.to_excel('NBA.xlsx')"
   ]
  },
  {
   "cell_type": "code",
   "execution_count": 11,
   "metadata": {},
   "outputs": [],
   "source": [
    "cx = sqlite3.connect(r'D:\\Python\\获取网络信息用于文本分析\\data.db')"
   ]
  },
  {
   "cell_type": "code",
   "execution_count": 12,
   "metadata": {},
   "outputs": [],
   "source": [
    "pd.io.sql.to_sql(df,'nba',con = cx,if_exists='append')"
   ]
  },
  {
   "cell_type": "code",
   "execution_count": 13,
   "metadata": {},
   "outputs": [],
   "source": [
    "df2 = pd.read_sql_query('select * from nba',cx)"
   ]
  },
  {
   "cell_type": "code",
   "execution_count": null,
   "metadata": {},
   "outputs": [],
   "source": []
  },
  {
   "cell_type": "code",
   "execution_count": 14,
   "metadata": {},
   "outputs": [
    {
     "data": {
      "text/html": [
       "<div>\n",
       "<style scoped>\n",
       "    .dataframe tbody tr th:only-of-type {\n",
       "        vertical-align: middle;\n",
       "    }\n",
       "\n",
       "    .dataframe tbody tr th {\n",
       "        vertical-align: top;\n",
       "    }\n",
       "\n",
       "    .dataframe thead th {\n",
       "        text-align: right;\n",
       "    }\n",
       "</style>\n",
       "<table border=\"1\" class=\"dataframe\">\n",
       "  <thead>\n",
       "    <tr style=\"text-align: right;\">\n",
       "      <th></th>\n",
       "      <th>index</th>\n",
       "      <th>0</th>\n",
       "      <th>1</th>\n",
       "      <th>2</th>\n",
       "      <th>3</th>\n",
       "      <th>4</th>\n",
       "      <th>5</th>\n",
       "      <th>6</th>\n",
       "      <th>7</th>\n",
       "      <th>8</th>\n",
       "      <th>...</th>\n",
       "      <th>620</th>\n",
       "      <th>621</th>\n",
       "      <th>622</th>\n",
       "      <th>623</th>\n",
       "      <th>624</th>\n",
       "      <th>625</th>\n",
       "      <th>626</th>\n",
       "      <th>627</th>\n",
       "      <th>628</th>\n",
       "      <th>629</th>\n",
       "    </tr>\n",
       "  </thead>\n",
       "  <tbody>\n",
       "    <tr>\n",
       "      <td>0</td>\n",
       "      <td>title</td>\n",
       "      <td>洛杉矶警员拿科比遇难照取悦女孩 已介入调查</td>\n",
       "      <td>卖奖杯拍戒指！最后的最后，科比也没原谅他们</td>\n",
       "      <td>明日客战灰熊 詹姆斯出战成疑 浓眉大概率出战</td>\n",
       "      <td>科比追悼会第2天！体坛第一美女也跟着退役了</td>\n",
       "      <td>老照片！我要跳过大学，把天赋带进NBA！</td>\n",
       "      <td>生涯最大分差！詹姆斯今日集锦把我看乐了(图)</td>\n",
       "      <td>西区客场18连胜！湖人再次刷新NBA历史纪录</td>\n",
       "      <td>詹姆斯休战追梦遭驱逐 湖人30分虐勇士获7连胜</td>\n",
       "      <td>勇士格林又遭驱逐！绊倒霍华德+连着骂裁判</td>\n",
       "      <td>...</td>\n",
       "      <td>多人证实詹皇在科比追思会现场：他要求不出镜</td>\n",
       "      <td>JR要去湖人联手詹姆斯？ JR本人正式回应了！</td>\n",
       "      <td>得不到MVP控卫了！拒绝买断！ 湖人被劝退了！</td>\n",
       "      <td>尿检！詹姆斯亲手教训锡安！35岁40+8+6！</td>\n",
       "      <td>詹姆斯被骂惨！没出席科比追悼会？他本人回应</td>\n",
       "      <td>湖人又要下手了！ 47.1%三分命中率的刺头</td>\n",
       "      <td>来了？脖子以下的全明星！毒瘤有望加盟湖人！</td>\n",
       "      <td>湖人主帅：我们如今的成就很大程度上归功詹皇</td>\n",
       "      <td>去没去追悼会？詹姆斯回应了，黑子们又高潮了</td>\n",
       "      <td>詹姆斯没出席科比追悼会？他本人这么说……</td>\n",
       "    </tr>\n",
       "    <tr>\n",
       "      <td>1</td>\n",
       "      <td>href</td>\n",
       "      <td>https://sports.sina.com.cn/basketball/nba/2020...</td>\n",
       "      <td>https://sports.sina.com.cn/basketball/nba/2020...</td>\n",
       "      <td>https://sports.sina.com.cn/basketball/nba/2020...</td>\n",
       "      <td>https://sports.sina.com.cn/basketball/nba/2020...</td>\n",
       "      <td>https://sports.sina.com.cn/basketball/nba/2020...</td>\n",
       "      <td>https://sports.sina.com.cn/basketball/nba/2020...</td>\n",
       "      <td>https://sports.sina.com.cn/basketball/nba/2020...</td>\n",
       "      <td>https://sports.sina.com.cn/basketball/nba/2020...</td>\n",
       "      <td>https://sports.sina.com.cn/basketball/nba/2020...</td>\n",
       "      <td>...</td>\n",
       "      <td>https://sports.sina.com.cn/basketball/nba/2020...</td>\n",
       "      <td>https://sports.sina.com.cn/basketball/nba/2020...</td>\n",
       "      <td>https://sports.sina.com.cn/basketball/nba/2020...</td>\n",
       "      <td>https://sports.sina.com.cn/basketball/nba/2020...</td>\n",
       "      <td>https://sports.sina.com.cn/basketball/nba/2020...</td>\n",
       "      <td>https://sports.sina.com.cn/basketball/nba/2020...</td>\n",
       "      <td>https://sports.sina.com.cn/basketball/nba/2020...</td>\n",
       "      <td>https://sports.sina.com.cn/basketball/nba/2020...</td>\n",
       "      <td>https://sports.sina.com.cn/basketball/nba/2020...</td>\n",
       "      <td>https://sports.sina.com.cn/basketball/nba/2020...</td>\n",
       "    </tr>\n",
       "    <tr>\n",
       "      <td>2</td>\n",
       "      <td>time</td>\n",
       "      <td>02/29 07:54:16</td>\n",
       "      <td>02/29 07:00:08</td>\n",
       "      <td>02/29 06:42:43</td>\n",
       "      <td>02/29 06:30:00</td>\n",
       "      <td>02/29 06:30:00</td>\n",
       "      <td>02/28 14:22:41</td>\n",
       "      <td>02/28 14:13:09</td>\n",
       "      <td>02/28 14:03:32</td>\n",
       "      <td>02/28 12:40:15</td>\n",
       "      <td>...</td>\n",
       "      <td>02/27 07:43:57</td>\n",
       "      <td>02/27 06:30:00</td>\n",
       "      <td>02/27 06:30:00</td>\n",
       "      <td>02/27 06:30:00</td>\n",
       "      <td>02/27 06:30:00</td>\n",
       "      <td>02/27 06:30:00</td>\n",
       "      <td>02/27 06:30:00</td>\n",
       "      <td>02/27 06:29:07</td>\n",
       "      <td>02/26 21:04:30</td>\n",
       "      <td>02/26 19:42:50</td>\n",
       "    </tr>\n",
       "    <tr>\n",
       "      <td>3</td>\n",
       "      <td>acticle</td>\n",
       "      <td>现场 北京时间2月29日，据TMZ报道，洛杉矶郡执法部门的部分警员在私底下与外界分享湖人队名...</td>\n",
       "      <td>文身 在科比追思会结束后，瓦妮莎在社媒上晒出了科比姐姐莎莉-华盛顿（Sharia Wahin...</td>\n",
       "      <td>詹姆斯与浓眉 直播吧2月29日讯 据美媒《FantasyLabs NBA》报道，明天对阵灰熊...</td>\n",
       "      <td>莎拉波娃 搜微信篮球有毒9527，回复666领球星纪念公仔和手机壳！ 近日，根据多家知名外媒...</td>\n",
       "      <td>\\n 超多图流 1996年宣布参加选秀的科比布莱恩特\\n （墨镜很有意思） “我决定跳过大学...</td>\n",
       "      <td>\\n 北京时间2月28日，湖人客场30分击败勇士，这是詹姆斯职业生涯里，在他缺阵的101场比...</td>\n",
       "      <td>\\n 北京时间2月28日，击败勇士后，湖人对阵西区对手客场已经18连胜，据统计，这是自197...</td>\n",
       "      <td>\\n 北京时间2月28日，湖人在客场以116-86轻取勇士。 湖人（45-12）七连胜。勒布...</td>\n",
       "      <td>\\n 北京时间2月28日，勇士主场迎战湖人。第二节中段，勇士首发大前锋德雷蒙德-格林吃到2次...</td>\n",
       "      <td>...</td>\n",
       "      <td>作者： 篮球有毒9527 搜微信篮球有毒9527，回复666领球星纪念公仔和手机壳！ 前几...</td>\n",
       "      <td>迷弟脸 直播吧2月27日讯 据美国记者Ryan Ward报道，近日，湖人主帅沃格尔在接受采访...</td>\n",
       "      <td>昨天，60E共赴一场“生命的礼赞” 核心大家都懂，为了送那个男人最后一程，为了送自己的青春...</td>\n",
       "      <td>詹姆斯接受采访 一场原本属于科比-布莱恩特和女儿Gigi的追悼会，居然出现了让人意想不到的插...</td>\n",
       "      <td>None</td>\n",
       "      <td>None</td>\n",
       "      <td>None</td>\n",
       "      <td>None</td>\n",
       "      <td>None</td>\n",
       "      <td>None</td>\n",
       "    </tr>\n",
       "  </tbody>\n",
       "</table>\n",
       "<p>4 rows × 631 columns</p>\n",
       "</div>"
      ],
      "text/plain": [
       "     index                                                  0  \\\n",
       "0    title                              洛杉矶警员拿科比遇难照取悦女孩 已介入调查   \n",
       "1     href  https://sports.sina.com.cn/basketball/nba/2020...   \n",
       "2     time                                     02/29 07:54:16   \n",
       "3  acticle  现场 北京时间2月29日，据TMZ报道，洛杉矶郡执法部门的部分警员在私底下与外界分享湖人队名...   \n",
       "\n",
       "                                                   1  \\\n",
       "0                              卖奖杯拍戒指！最后的最后，科比也没原谅他们   \n",
       "1  https://sports.sina.com.cn/basketball/nba/2020...   \n",
       "2                                     02/29 07:00:08   \n",
       "3  文身 在科比追思会结束后，瓦妮莎在社媒上晒出了科比姐姐莎莉-华盛顿（Sharia Wahin...   \n",
       "\n",
       "                                                   2  \\\n",
       "0                             明日客战灰熊 詹姆斯出战成疑 浓眉大概率出战   \n",
       "1  https://sports.sina.com.cn/basketball/nba/2020...   \n",
       "2                                     02/29 06:42:43   \n",
       "3  詹姆斯与浓眉 直播吧2月29日讯 据美媒《FantasyLabs NBA》报道，明天对阵灰熊...   \n",
       "\n",
       "                                                   3  \\\n",
       "0                              科比追悼会第2天！体坛第一美女也跟着退役了   \n",
       "1  https://sports.sina.com.cn/basketball/nba/2020...   \n",
       "2                                     02/29 06:30:00   \n",
       "3  莎拉波娃 搜微信篮球有毒9527，回复666领球星纪念公仔和手机壳！ 近日，根据多家知名外媒...   \n",
       "\n",
       "                                                   4  \\\n",
       "0                               老照片！我要跳过大学，把天赋带进NBA！   \n",
       "1  https://sports.sina.com.cn/basketball/nba/2020...   \n",
       "2                                     02/29 06:30:00   \n",
       "3  \\n 超多图流 1996年宣布参加选秀的科比布莱恩特\\n （墨镜很有意思） “我决定跳过大学...   \n",
       "\n",
       "                                                   5  \\\n",
       "0                             生涯最大分差！詹姆斯今日集锦把我看乐了(图)   \n",
       "1  https://sports.sina.com.cn/basketball/nba/2020...   \n",
       "2                                     02/28 14:22:41   \n",
       "3  \\n 北京时间2月28日，湖人客场30分击败勇士，这是詹姆斯职业生涯里，在他缺阵的101场比...   \n",
       "\n",
       "                                                   6  \\\n",
       "0                             西区客场18连胜！湖人再次刷新NBA历史纪录   \n",
       "1  https://sports.sina.com.cn/basketball/nba/2020...   \n",
       "2                                     02/28 14:13:09   \n",
       "3  \\n 北京时间2月28日，击败勇士后，湖人对阵西区对手客场已经18连胜，据统计，这是自197...   \n",
       "\n",
       "                                                   7  \\\n",
       "0                            詹姆斯休战追梦遭驱逐 湖人30分虐勇士获7连胜   \n",
       "1  https://sports.sina.com.cn/basketball/nba/2020...   \n",
       "2                                     02/28 14:03:32   \n",
       "3  \\n 北京时间2月28日，湖人在客场以116-86轻取勇士。 湖人（45-12）七连胜。勒布...   \n",
       "\n",
       "                                                   8  ...  \\\n",
       "0                               勇士格林又遭驱逐！绊倒霍华德+连着骂裁判  ...   \n",
       "1  https://sports.sina.com.cn/basketball/nba/2020...  ...   \n",
       "2                                     02/28 12:40:15  ...   \n",
       "3  \\n 北京时间2月28日，勇士主场迎战湖人。第二节中段，勇士首发大前锋德雷蒙德-格林吃到2次...  ...   \n",
       "\n",
       "                                                 620  \\\n",
       "0                              多人证实詹皇在科比追思会现场：他要求不出镜   \n",
       "1  https://sports.sina.com.cn/basketball/nba/2020...   \n",
       "2                                     02/27 07:43:57   \n",
       "3   作者： 篮球有毒9527 搜微信篮球有毒9527，回复666领球星纪念公仔和手机壳！ 前几...   \n",
       "\n",
       "                                                 621  \\\n",
       "0                            JR要去湖人联手詹姆斯？ JR本人正式回应了！   \n",
       "1  https://sports.sina.com.cn/basketball/nba/2020...   \n",
       "2                                     02/27 06:30:00   \n",
       "3  迷弟脸 直播吧2月27日讯 据美国记者Ryan Ward报道，近日，湖人主帅沃格尔在接受采访...   \n",
       "\n",
       "                                                 622  \\\n",
       "0                            得不到MVP控卫了！拒绝买断！ 湖人被劝退了！   \n",
       "1  https://sports.sina.com.cn/basketball/nba/2020...   \n",
       "2                                     02/27 06:30:00   \n",
       "3   昨天，60E共赴一场“生命的礼赞” 核心大家都懂，为了送那个男人最后一程，为了送自己的青春...   \n",
       "\n",
       "                                                 623  \\\n",
       "0                            尿检！詹姆斯亲手教训锡安！35岁40+8+6！   \n",
       "1  https://sports.sina.com.cn/basketball/nba/2020...   \n",
       "2                                     02/27 06:30:00   \n",
       "3  詹姆斯接受采访 一场原本属于科比-布莱恩特和女儿Gigi的追悼会，居然出现了让人意想不到的插...   \n",
       "\n",
       "                                                 624  \\\n",
       "0                              詹姆斯被骂惨！没出席科比追悼会？他本人回应   \n",
       "1  https://sports.sina.com.cn/basketball/nba/2020...   \n",
       "2                                     02/27 06:30:00   \n",
       "3                                               None   \n",
       "\n",
       "                                                 625  \\\n",
       "0                             湖人又要下手了！ 47.1%三分命中率的刺头   \n",
       "1  https://sports.sina.com.cn/basketball/nba/2020...   \n",
       "2                                     02/27 06:30:00   \n",
       "3                                               None   \n",
       "\n",
       "                                                 626  \\\n",
       "0                              来了？脖子以下的全明星！毒瘤有望加盟湖人！   \n",
       "1  https://sports.sina.com.cn/basketball/nba/2020...   \n",
       "2                                     02/27 06:30:00   \n",
       "3                                               None   \n",
       "\n",
       "                                                 627  \\\n",
       "0                              湖人主帅：我们如今的成就很大程度上归功詹皇   \n",
       "1  https://sports.sina.com.cn/basketball/nba/2020...   \n",
       "2                                     02/27 06:29:07   \n",
       "3                                               None   \n",
       "\n",
       "                                                 628  \\\n",
       "0                              去没去追悼会？詹姆斯回应了，黑子们又高潮了   \n",
       "1  https://sports.sina.com.cn/basketball/nba/2020...   \n",
       "2                                     02/26 21:04:30   \n",
       "3                                               None   \n",
       "\n",
       "                                                 629  \n",
       "0                               詹姆斯没出席科比追悼会？他本人这么说……  \n",
       "1  https://sports.sina.com.cn/basketball/nba/2020...  \n",
       "2                                     02/26 19:42:50  \n",
       "3                                               None  \n",
       "\n",
       "[4 rows x 631 columns]"
      ]
     },
     "execution_count": 14,
     "metadata": {},
     "output_type": "execute_result"
    }
   ],
   "source": [
    "df2"
   ]
  },
  {
   "cell_type": "code",
   "execution_count": 15,
   "metadata": {},
   "outputs": [],
   "source": [
    "da = df2.to_dict(orient='records')"
   ]
  },
  {
   "cell_type": "code",
   "execution_count": 16,
   "metadata": {},
   "outputs": [
    {
     "data": {
      "text/plain": [
       "'詹姆斯与浓眉 直播吧2月29日讯 据美媒《FantasyLabs NBA》报道，明天对阵灰熊的比赛，詹姆斯因腹股沟伤势被列为出战成疑（Questionable-50%出战可能），受到手肘伤势困扰的戴维斯被列为大概率出战（Probable-75%出战可能）。 詹姆斯昨天缺席了与勇士的比赛，戴维斯出战。 明天上午9点，湖人将在客场挑战灰熊。 （阿倮） [来源：直播吧]\\n声明：新浪网登载此文出于传递更多信息之目的，并不意味着赞同其观点或证实其描述。'"
      ]
     },
     "execution_count": 16,
     "metadata": {},
     "output_type": "execute_result"
    }
   ],
   "source": [
    "da[3]['2']"
   ]
  },
  {
   "cell_type": "code",
   "execution_count": null,
   "metadata": {},
   "outputs": [],
   "source": []
  }
 ],
 "metadata": {
  "kernelspec": {
   "display_name": "Python 3",
   "language": "python",
   "name": "python3"
  },
  "language_info": {
   "codemirror_mode": {
    "name": "ipython",
    "version": 3
   },
   "file_extension": ".py",
   "mimetype": "text/x-python",
   "name": "python",
   "nbconvert_exporter": "python",
   "pygments_lexer": "ipython3",
   "version": "3.7.4"
  }
 },
 "nbformat": 4,
 "nbformat_minor": 2
}
