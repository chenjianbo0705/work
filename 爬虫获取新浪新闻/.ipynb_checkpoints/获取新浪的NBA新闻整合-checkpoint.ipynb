{
 "cells": [
  {
   "cell_type": "code",
   "execution_count": 4,
   "metadata": {},
   "outputs": [],
   "source": [
    "import pandas as pd\n",
    "import requests\n",
    "from bs4 import BeautifulSoup\n",
    "from tqdm import tqdm\n",
    "import sqlite3\n",
    "r = requests.get('http://sports.sina.com.cn/nba/5.shtml')\n",
    "r.encoding = 'utf-8'\n",
    "soup = BeautifulSoup(r.text,'html.parser')"
   ]
  },
  {
   "cell_type": "code",
   "execution_count": null,
   "metadata": {},
   "outputs": [],
   "source": []
  },
  {
   "cell_type": "code",
   "execution_count": 3,
   "metadata": {},
   "outputs": [
    {
     "name": "stdout",
     "output_type": "stream",
     "text": [
      "S_Cont_11\n"
     ]
    },
    {
     "name": "stdout",
     "output_type": "stream",
     "text": [
      "[<a href=\"https://sports.sina.com.cn/basketball/nba/2020-02-26/doc-iimxyqvz5921144.shtml\" target=\"_blank\">去没去追悼会？詹姆斯回应了，黑子们又高潮了</a>, <a href=\"https://sports.sina.com.cn/basketball/nba/2020-02-26/doc-iimxxstf4590462.shtml\" target=\"_blank\">詹姆斯没出席科比追悼会？他本人这么说……</a>, <a href=\"https://sports.sina.com.cn/basketball/nba/2020-02-26/doc-iimxxstf4519713.shtml\" target=\"_blank\">锡安29分不输浓眉!詹姆斯40分,这暴扣哪像35岁?</a>, <a href=\"https://sports.sina.com.cn/basketball/nba/2020-02-26/doc-iimxyqvz5952137.shtml\" target=\"_blank\">刚刚！锡安和詹姆斯单挑，老詹亲手教训锡安</a>, <a href=\"https://sports.sina.com.cn/basketball/nba/2020-02-26/doc-iimxxstf4503941.shtml\" target=\"_blank\">头撞板飞帽大球+净胜20分！感受下网红的力量</a>, <a href=\"https://sports.sina.com.cn/basketball/nba/2020-02-26/doc-iimxxstf4503182.shtml\" target=\"_blank\">湖人冲冠最后一块拼图!跟浓眉来电+解放库兹马</a>, <a href=\"https://sports.sina.com.cn/basketball/nba/2020-02-26/doc-iimxyqvz5938369.shtml\" target=\"_blank\">赛季新高40+8!詹姆斯追上科比,连得11分仨隔扣</a>, <a href=\"https://sports.sina.com.cn/basketball/nba/2020-02-26/doc-iimxxstf4497793.shtml\" target=\"_blank\">詹姆斯打疯了！赛季最高！隔扣前队友嗨翻全场</a>, <a href=\"https://sports.sina.com.cn/basketball/nba/2020-02-26/doc-iimxyqvz5936590.shtml\" target=\"_blank\">38-0!18连胜!西部第一的湖人又多两大定律护体</a>, <a href=\"https://sports.sina.com.cn/basketball/nba/2020-02-26/doc-iimxxstf4491737.shtml\" target=\"_blank\">詹姆斯新高40分锡安29+6 湖人击退鹈鹕获6连胜</a>, <a href=\"https://sports.sina.com.cn/basketball/nba/2020-02-26/doc-iimxyqvz5913499.shtml\" target=\"_blank\">老詹看锡安这眼神我见过！那孩子吃奥尼尔长大</a>, <a href=\"https://sports.sina.com.cn/basketball/nba/2020-02-26/doc-iimxyqvz5905236.shtml\" target=\"_blank\">力劈华山！詹姆斯再送隔扣！是不是又该尿检了</a>, <a href=\"https://sports.sina.com.cn/basketball/nba/2020-02-26/doc-iimxxstf4422484.shtml\" target=\"_blank\">叫嚣库里？奥尼尔13岁女儿勉扣成功吓坏老哥</a>, <a href=\"https://sports.sina.com.cn/basketball/nba/2020-02-26/doc-iimxyqvz5853897.shtml\" target=\"_blank\">科比生前最后心愿达成！原来他一直在帮助别人</a>, <a href=\"https://sports.sina.com.cn/basketball/nba/2020-02-26/doc-iimxxstf4414054.shtml\" target=\"_blank\">经纪人:詹姆斯在\"自己的空间里\"度过了追思会</a>, <a href=\"https://sports.sina.com.cn/basketball/nba/2020-02-26/doc-iimxyqvz5845737.shtml\" target=\"_blank\">詹姆斯回应是否出席科比追思会:非常艰难的1天</a>, <a href=\"https://sports.sina.com.cn/basketball/nba/2020-02-26/doc-iimxxstf4394793.shtml\" target=\"_blank\">韦德直言完全支持詹皇当年重回克里夫兰</a>, <a href=\"https://sports.sina.com.cn/basketball/nba/2020-02-26/doc-iimxxstf4394220.shtml\" target=\"_blank\">科比追思会纪念品被拍出高价 1件T恤卖14376元</a>, <a href=\"https://sports.sina.com.cn/basketball/nba/2020-02-26/doc-iimxxstf4378188.shtml\" target=\"_blank\">英格拉姆谈湖人：对他们没有怨恨</a>, <a href=\"https://sports.sina.com.cn/basketball/nba/2020-02-25/doc-iimxyqvz5649477.shtml\" target=\"_blank\">科比正式离去！更衣室“毒瘤”或加盟湖人！</a>, <a href=\"https://sports.sina.com.cn/basketball/nba/2020-02-25/doc-iimxyqvz5700605.shtml\" target=\"_blank\">斯台普斯铺满了鲜花，乔老爷子为他泪如雨下</a>, <a href=\"https://sports.sina.com.cn/basketball/nba/2020-02-25/doc-iimxyqvz5664921.shtml\" target=\"_blank\">再见科比!瓦妮莎宣布重要决定!詹姆斯被喷惨了</a>, <a href=\"https://sports.sina.com.cn/basketball/nba/2020-02-25/doc-iimxyqvz5649865.shtml\" target=\"_blank\">詹黑高潮，一细节证明老詹去了科比追悼会！</a>, <a href=\"https://sports.sina.com.cn/basketball/nba/2020-02-25/doc-iimxxstf4165963.shtml\" target=\"_blank\">詹姆斯穿帽衫低调出席科比追思会！情绪很激动</a>, <a href=\"https://sports.sina.com.cn/basketball/nba/2020-02-25/doc-iimxxstf4149488.shtml\" target=\"_blank\">瓦妮莎分享与科比日常趣事 这对话再听不到了</a>, <a href=\"https://sports.sina.com.cn/basketball/nba/2020-02-25/doc-iimxyqvz5571579.shtml\" target=\"_blank\">乔丹在科比追思会上的演讲全文</a>, <a href=\"https://sports.sina.com.cn/basketball/nba/2020-02-25/doc-iimxyqvz5559609.shtml\" target=\"_blank\">湖人有意今夏重新签约考辛斯！目前正留队康复</a>, <a href=\"https://sports.sina.com.cn/basketball/nba/2020-02-25/doc-iimxxstf3968220.shtml\" target=\"_blank\">41+5+2，科比之后湖凯对决第一人终于出现了！</a>, <a href=\"https://sports.sina.com.cn/basketball/nba/2020-02-25/doc-iimxyqvz5558129.shtml\" target=\"_blank\">实力榜：湖人第2快船跌至第8 勇士继续倒数第1</a>, <a href=\"https://sports.sina.com.cn/basketball/nba/2020-02-25/doc-iimxxstf4118386.shtml\" target=\"_blank\">曝湖人将试训维特斯 他想加盟必须打动詹姆斯</a>, <a href=\"https://sports.sina.com.cn/basketball/nba/2020-02-25/doc-iimxyqvz5557643.shtml\" target=\"_blank\">科比遇难后湖人队员第1反应:詹皇不信魔兽落泪</a>, <a href=\"https://sports.sina.com.cn/basketball/nba/2020-02-25/doc-iimxxstf4115807.shtml\" target=\"_blank\">瓦妮莎深情悼念科比Gigi：我们依然是最好球队</a>, <a href=\"https://sports.sina.com.cn/basketball/nba/2020-02-25/doc-iimxxstf4115757.shtml\" target=\"_blank\">奥尼尔回忆当年劝科比传球 结果被他粗口回怼</a>, <a href=\"https://sports.sina.com.cn/basketball/nba/2020-02-25/doc-iimxyqvz5553781.shtml\" target=\"_blank\">湖人GM曝光科比生前最后短信 他总在想着朋友</a>, <a href=\"https://sports.sina.com.cn/basketball/nba/2020-02-25/doc-iimxyqvz5547630.shtml\" target=\"_blank\">瓦妮莎起诉科比遇难直升机公司：当天不该起飞</a>, <a href=\"https://sports.sina.com.cn/basketball/nba/2020-02-24/doc-iimxyqvz5419097.shtml\" target=\"_blank\">湖人官宣签下莫里斯，今夏可能再签考辛斯</a>, <a href=\"https://sports.sina.com.cn/basketball/nba/2020-02-24/doc-iimxyqvz5418189.shtml\" target=\"_blank\">科比追思会预计3小时 人数达球馆容量的4倍</a>, <a href=\"https://sports.sina.com.cn/basketball/nba/2020-02-24/doc-iimxxstf3979663.shtml\" target=\"_blank\">深度|超新星vs老牌超巨!困境中如何破局取胜?</a>, <a href=\"https://sports.sina.com.cn/basketball/nba/2020-02-24/doc-iimxxstf3963760.shtml\" target=\"_blank\">湖人考神假离婚！湖人官宣签下今年唯一引援</a>, <a href=\"https://sports.sina.com.cn/basketball/nba/2020-02-24/doc-iimxyqvz5391184.shtml\" target=\"_blank\">美妙的巧合！湖人比赛的这张截图让人泪目</a>, <a href=\"https://sports.sina.com.cn/basketball/nba/2020-02-24/doc-iimxxstf3893453.shtml\" target=\"_blank\">詹皇盛赞41分科比弟子！8年前恳求詹皇点关注</a>, <a href=\"https://sports.sina.com.cn/basketball/nba/2020-02-24/doc-iimxyqvz5318992.shtml\" target=\"_blank\">湖人计划今夏重新签回考神！他留在LA继续康复</a>, <a href=\"https://sports.sina.com.cn/basketball/nba/2020-02-24/doc-iimxxstf3867103.shtml\" target=\"_blank\">07年科比后首人！32+13的他成为湖人头号输出</a>, <a href=\"https://sports.sina.com.cn/basketball/nba/2020-02-24/doc-iimxyqvz5306356.shtml\" target=\"_blank\">真正的王炸！詹眉包办湖人最后8分钟全部得分</a>, <a href=\"https://sports.sina.com.cn/basketball/nba/2020-02-24/doc-iimxxstf3862121.shtml\" target=\"_blank\">罗德曼式飞扑+被顶跪地!你知道詹姆斯有多想赢</a>, <a href=\"https://sports.sina.com.cn/basketball/nba/2020-02-24/doc-iimxyqvz5302391.shtml\" target=\"_blank\">4中1!净输16分!年薪千万的他还配当湖人先发吗</a>, <a href=\"https://sports.sina.com.cn/basketball/nba/2020-02-24/doc-iimxyqvz5301683.shtml\" target=\"_blank\">对阵东部4强的赛季首胜!湖人终于啃下一场硬仗</a>, <a href=\"https://sports.sina.com.cn/basketball/nba/2020-02-24/doc-iimxyqvz5301352.shtml\" target=\"_blank\">41+5生涯新高只输最后8秒!科比曾建议湖人选他</a>, <a href=\"https://sports.sina.com.cn/basketball/nba/2020-02-24/doc-iimxxstf3858099.shtml\" target=\"_blank\">詹姆斯准三双塔图姆41分 湖人险胜绿军获5连胜</a>, <a href=\"https://sports.sina.com.cn/basketball/nba/2020-02-24/doc-iimxxstf3853286.shtml\" target=\"_blank\">大莫里斯正式加盟湖人！新合同175万伤病特例</a>, <a href=\"https://sports.sina.com.cn/basketball/nba/2020-02-24/doc-iimxxstf3731862.shtml\" target=\"_blank\">湖人出事了，唯一引援恐怕又要被截胡？？？</a>, <a href=\"https://sports.sina.com.cn/basketball/nba/2020-02-24/doc-iimxyqvz5170584.shtml\" target=\"_blank\">库兹马危险了！！！加油吧，少年！</a>, <a href=\"https://sports.sina.com.cn/basketball/nba/2020-02-24/doc-iimxyqvz5292550.shtml\" target=\"_blank\">拉塞尔穿科比球衣观战湖人！老爷子已86岁高龄</a>, <a href=\"https://sports.sina.com.cn/basketball/nba/2020-02-23/doc-iimxxstf3645743.shtml\" target=\"_blank\">考神本赛季确定不会复出！被裁后将留湖人养伤</a>, <a href=\"https://sports.sina.com.cn/basketball/nba/2020-02-23/doc-iimxxstf3645600.shtml\" target=\"_blank\">曝科比遇难事件飞行员有前科！曾违反飞行规定</a>, <a href=\"https://sports.sina.com.cn/basketball/nba/2020-02-23/doc-iimxyqvz4953874.shtml\" target=\"_blank\">湖人签夺冠最后拼图！考神突然被裁！原因曝光</a>, <a href=\"https://sports.sina.com.cn/basketball/nba/2020-02-23/doc-iimxxstf3510927.shtml\" target=\"_blank\">突发！湖人引援成功！考辛斯生涯凉凉？</a>, <a href=\"https://sports.sina.com.cn/basketball/nba/2020-02-23/doc-iimxyqvz4950991.shtml\" target=\"_blank\">湖人终于签下一人！快船耍了！考辛斯离开湖人</a>, <a href=\"https://sports.sina.com.cn/basketball/nba/2020-02-23/doc-iimxyqvz4951383.shtml\" target=\"_blank\">5年2.47亿！NBA史上最大合同要来了！</a>, <a href=\"https://sports.sina.com.cn/basketball/nba/2020-02-23/doc-iimxyqvz4950296.shtml\" target=\"_blank\">湖人开季最重磅签约，考辛斯沦为牺牲品</a>, <a href=\"https://sports.sina.com.cn/basketball/nba/2020-02-22/doc-iimxxstf3507690.shtml\" target=\"_blank\">为了加盟湖人真的拼了，工资全部都不要了！</a>, <a href=\"https://sports.sina.com.cn/basketball/nba/2020-02-22/doc-iimxyqvz4975242.shtml\" target=\"_blank\">不会被抢了！湖人拿下第一恶汉，总冠军有谱了</a>, <a href=\"https://sports.sina.com.cn/basketball/nba/2020-02-22/doc-iimxyqvz4968005.shtml\" target=\"_blank\">12中11!詹姆斯投疯了!考神被裁，湖人再签一人</a>, <a href=\"https://sports.sina.com.cn/basketball/nba/2020-02-22/doc-iimxyqvz4963115.shtml\" target=\"_blank\">深度|替代品+空间四号位!他会是冠军拼图么?</a>, <a href=\"https://sports.sina.com.cn/basketball/nba/2020-02-22/doc-iimxyqvz4960040.shtml\" target=\"_blank\">惊艳补扣+净胜23分！大洛杉矶地区唯一的卡皇</a>, <a href=\"https://sports.sina.com.cn/basketball/nba/2020-02-22/doc-iimxxstf3518129.shtml\" target=\"_blank\">17战全胜！湖人又多了一条必胜铁律护身</a>, <a href=\"https://sports.sina.com.cn/basketball/nba/2020-02-22/doc-iimxxstf3517854.shtml\" target=\"_blank\">三分59%防的他14中5！湖人要的顶级3和D他都有</a>, <a href=\"https://sports.sina.com.cn/basketball/nba/2020-02-22/doc-iimxxstf3516687.shtml\" target=\"_blank\">7年来首次胜率过5成!湖人上次这样,科比还健康</a>, <a href=\"https://sports.sina.com.cn/basketball/nba/2020-02-22/doc-iimxyqvz4957228.shtml\" target=\"_blank\">NBA仅此一份的双帽！伤后27+13+7帽DPOY该给他</a>, <a href=\"https://sports.sina.com.cn/basketball/nba/2020-02-22/doc-iimxyqvz4955429.shtml\" target=\"_blank\">4分半钟0进球!14-1!快忘了湖人防守也曾NBA第1</a>]\n"
     ]
    },
    {
     "name": "stdout",
     "output_type": "stream",
     "text": [
      "[<span>02/26 21:04:30</span>, <span>02/26 19:42:50</span>, <span>02/26 15:15:13</span>, <span>02/26 14:57:52</span>, <span>02/26 14:30:56</span>, <span>02/26 14:27:40</span>, <span>02/26 14:12:33</span>, <span>02/26 14:06:20</span>, <span>02/26 14:06:04</span>, <span>02/26 13:43:48</span>, <span>02/26 12:33:22</span>, <span>02/26 12:06:26</span>, <span>02/26 09:47:11</span>, <span>02/26 09:22:59</span>, <span>02/26 09:18:45</span>, <span>02/26 08:56:09</span>, <span>02/26 07:59:06</span>, <span>02/26 07:54:26</span>, <span>02/26 04:17:53</span>, <span>02/25 17:56:54</span>, <span>02/25 16:10:11</span>, <span>02/25 13:56:36</span>, <span>02/25 12:56:46</span>, <span>02/25 10:18:24</span>, <span>02/25 09:27:08</span>, <span>02/25 08:15:33</span>, <span>02/25 06:37:57</span>, <span>02/25 06:30:00</span>, <span>02/25 06:19:24</span>, <span>02/25 06:14:35</span>, <span>02/25 06:11:24</span>, <span>02/25 05:26:50</span>, <span>02/25 05:23:38</span>, <span>02/25 04:44:22</span>, <span>02/25 02:14:30</span>, <span>02/24 23:09:21</span>, <span>02/24 23:06:01</span>, <span>02/24 15:09:31</span>, <span>02/24 14:10:52</span>, <span>02/24 13:23:56</span>, <span>02/24 10:00:33</span>, <span>02/24 09:05:09</span>, <span>02/24 08:21:32</span>, <span>02/24 08:15:55</span>, <span>02/24 07:56:28</span>, <span>02/24 07:52:52</span>, <span>02/24 07:48:08</span>, <span>02/24 07:44:40</span>, <span>02/24 07:21:23</span>, <span>02/24 06:36:47</span>, <span>02/24 06:30:00</span>, <span>02/24 06:30:00</span>, <span>02/24 06:12:31</span>, <span>02/23 07:38:48</span>, <span>02/23 07:35:46</span>, <span>02/23 06:30:00</span>, <span>02/23 06:30:00</span>, <span>02/23 06:30:00</span>, <span>02/23 06:30:00</span>, <span>02/23 06:30:00</span>, <span>02/22 21:41:05</span>, <span>02/22 15:41:11</span>, <span>02/22 15:08:46</span>, <span>02/22 14:50:20</span>, <span>02/22 14:38:26</span>, <span>02/22 14:32:51</span>, <span>02/22 14:31:50</span>, <span>02/22 14:25:28</span>, <span>02/22 14:24:00</span>, <span>02/22 14:15:45</span>]\n"
     ]
    },
    {
     "name": "stderr",
     "output_type": "stream",
     "text": [
      "100%|███████████████████████████████████████████████████████████████████████████████| 70/70 [00:00<00:00, 69606.75it/s]\n",
      " 10%|████████▎                                                                          | 7/70 [00:02<00:22,  2.84it/s]"
     ]
    },
    {
     "name": "stdout",
     "output_type": "stream",
     "text": [
      "地址为https://sports.sina.com.cn/basketball/nba/2020-02-26/doc-iimxxstf4497793.shtml新闻抓取失败\n"
     ]
    },
    {
     "name": "stderr",
     "output_type": "stream",
     "text": [
      "\r",
      " 11%|█████████▍                                                                         | 8/70 [00:02<00:18,  3.37it/s]"
     ]
    },
    {
     "name": "stdout",
     "output_type": "stream",
     "text": [
      "地址为https://sports.sina.com.cn/basketball/nba/2020-02-26/doc-iimxyqvz5936590.shtml新闻抓取失败\n"
     ]
    },
    {
     "name": "stderr",
     "output_type": "stream",
     "text": [
      " 89%|████████████████████████████████████████████████████████████████████████▋         | 62/70 [00:36<00:01,  4.16it/s]"
     ]
    },
    {
     "name": "stdout",
     "output_type": "stream",
     "text": [
      "地址为https://sports.sina.com.cn/basketball/nba/2020-02-22/doc-iimxyqvz4968005.shtml新闻抓取失败\n"
     ]
    },
    {
     "name": "stderr",
     "output_type": "stream",
     "text": [
      "100%|██████████████████████████████████████████████████████████████████████████████████| 70/70 [00:38<00:00,  1.84it/s]\n"
     ]
    },
    {
     "name": "stdout",
     "output_type": "stream",
     "text": [
      "S_Cont_12\n"
     ]
    },
    {
     "ename": "AttributeError",
     "evalue": "'NoneType' object has no attribute 'find_all'",
     "output_type": "error",
     "traceback": [
      "\u001b[1;31m---------------------------------------------------------------------------\u001b[0m",
      "\u001b[1;31mAttributeError\u001b[0m                            Traceback (most recent call last)",
      "\u001b[1;32m<ipython-input-3-5927c95da48a>\u001b[0m in \u001b[0;36m<module>\u001b[1;34m\u001b[0m\n\u001b[0;32m      3\u001b[0m     \u001b[0mprint\u001b[0m\u001b[1;33m(\u001b[0m\u001b[1;34m'S_Cont_{page}'\u001b[0m\u001b[1;33m.\u001b[0m\u001b[0mformat\u001b[0m\u001b[1;33m(\u001b[0m\u001b[0mpage\u001b[0m\u001b[1;33m=\u001b[0m\u001b[0mq\u001b[0m\u001b[1;33m)\u001b[0m\u001b[1;33m)\u001b[0m\u001b[1;33m\u001b[0m\u001b[1;33m\u001b[0m\u001b[0m\n\u001b[0;32m      4\u001b[0m     \u001b[0mnew\u001b[0m \u001b[1;33m=\u001b[0m\u001b[0msoup\u001b[0m\u001b[1;33m.\u001b[0m\u001b[0mfind\u001b[0m\u001b[1;33m(\u001b[0m\u001b[0mid\u001b[0m\u001b[1;33m=\u001b[0m\u001b[1;34m'S_Cont_{page}'\u001b[0m\u001b[1;33m.\u001b[0m\u001b[0mformat\u001b[0m\u001b[1;33m(\u001b[0m\u001b[0mpage\u001b[0m\u001b[1;33m=\u001b[0m\u001b[0mq\u001b[0m\u001b[1;33m)\u001b[0m\u001b[1;33m)\u001b[0m\u001b[1;33m\u001b[0m\u001b[1;33m\u001b[0m\u001b[0m\n\u001b[1;32m----> 5\u001b[1;33m     \u001b[0mss\u001b[0m\u001b[1;33m=\u001b[0m\u001b[0mnew\u001b[0m\u001b[1;33m.\u001b[0m\u001b[0mfind_all\u001b[0m\u001b[1;33m(\u001b[0m\u001b[1;34m'a'\u001b[0m\u001b[1;33m)\u001b[0m\u001b[1;33m\u001b[0m\u001b[1;33m\u001b[0m\u001b[0m\n\u001b[0m\u001b[0;32m      6\u001b[0m     \u001b[0msd\u001b[0m \u001b[1;33m=\u001b[0m \u001b[0mnew\u001b[0m\u001b[1;33m.\u001b[0m\u001b[0mfind_all\u001b[0m\u001b[1;33m(\u001b[0m\u001b[1;34m'span'\u001b[0m\u001b[1;33m)\u001b[0m\u001b[1;33m\u001b[0m\u001b[1;33m\u001b[0m\u001b[0m\n\u001b[0;32m      7\u001b[0m     \u001b[0mprint\u001b[0m\u001b[1;33m(\u001b[0m\u001b[0mss\u001b[0m\u001b[1;33m)\u001b[0m\u001b[1;33m\u001b[0m\u001b[1;33m\u001b[0m\u001b[0m\n",
      "\u001b[1;31mAttributeError\u001b[0m: 'NoneType' object has no attribute 'find_all'"
     ]
    }
   ],
   "source": [
    "news_dict = {'title':[],'href':[],'time':[],'acticle':[]}\n",
    "for q  in  range(11,20):\n",
    "    print('S_Cont_{page}'.format(page=q))\n",
    "    new =soup.find(id='S_Cont_{page}'.format(page=q))\n",
    "    ss=new.find_all('a')\n",
    "    sd = new.find_all('span')\n",
    "    for i in tqdm(ss):\n",
    "        href = i['href']\n",
    "        title = i.text\n",
    "        news_dict['title'].append(title)\n",
    "        news_dict['href'].append(href)\n",
    "    for w in sd:\n",
    "        data = w\n",
    "        news_dict['time'].append(w)\n",
    "    for e in  tqdm(news_dict['href']):\n",
    "        try:\n",
    "            res = requests.get(e)\n",
    "            res.encoding = 'utf-8'\n",
    "            soup = BeautifulSoup(res.text,'html.parser')\n",
    "            new = soup.find('div','article')\n",
    "            st1=new.text.replace(u'\\n\\u3000\\u3000', u' ').replace(u'\\n\\n\\n\\n',u'').replace(u'\\n\\n',u'')\n",
    "        except:\n",
    "            print('地址为{}新闻抓取失败'.format(e))\n",
    "            continue\n",
    "        news_dict['acticle'].append(st1)"
   ]
  },
  {
   "cell_type": "code",
   "execution_count": 3,
   "metadata": {},
   "outputs": [
    {
     "ename": "NameError",
     "evalue": "name 'ss' is not defined",
     "output_type": "error",
     "traceback": [
      "\u001b[1;31m---------------------------------------------------------------------------\u001b[0m",
      "\u001b[1;31mNameError\u001b[0m                                 Traceback (most recent call last)",
      "\u001b[1;32m<ipython-input-3-29977b067633>\u001b[0m in \u001b[0;36m<module>\u001b[1;34m\u001b[0m\n\u001b[1;32m----> 1\u001b[1;33m \u001b[1;32mfor\u001b[0m \u001b[0mi\u001b[0m \u001b[1;32min\u001b[0m \u001b[0mtqdm\u001b[0m\u001b[1;33m(\u001b[0m\u001b[0mss\u001b[0m\u001b[1;33m)\u001b[0m\u001b[1;33m:\u001b[0m\u001b[1;33m\u001b[0m\u001b[1;33m\u001b[0m\u001b[0m\n\u001b[0m\u001b[0;32m      2\u001b[0m     \u001b[0mhref\u001b[0m \u001b[1;33m=\u001b[0m \u001b[0mi\u001b[0m\u001b[1;33m[\u001b[0m\u001b[1;34m'href'\u001b[0m\u001b[1;33m]\u001b[0m\u001b[1;33m\u001b[0m\u001b[1;33m\u001b[0m\u001b[0m\n\u001b[0;32m      3\u001b[0m     \u001b[0mtitle\u001b[0m \u001b[1;33m=\u001b[0m \u001b[0mi\u001b[0m\u001b[1;33m.\u001b[0m\u001b[0mtext\u001b[0m\u001b[1;33m\u001b[0m\u001b[1;33m\u001b[0m\u001b[0m\n\u001b[0;32m      4\u001b[0m     \u001b[0mnews_dict\u001b[0m\u001b[1;33m[\u001b[0m\u001b[1;34m'title'\u001b[0m\u001b[1;33m]\u001b[0m\u001b[1;33m.\u001b[0m\u001b[0mappend\u001b[0m\u001b[1;33m(\u001b[0m\u001b[0mtitle\u001b[0m\u001b[1;33m)\u001b[0m\u001b[1;33m\u001b[0m\u001b[1;33m\u001b[0m\u001b[0m\n\u001b[0;32m      5\u001b[0m     \u001b[0mnews_dict\u001b[0m\u001b[1;33m[\u001b[0m\u001b[1;34m'href'\u001b[0m\u001b[1;33m]\u001b[0m\u001b[1;33m.\u001b[0m\u001b[0mappend\u001b[0m\u001b[1;33m(\u001b[0m\u001b[0mhref\u001b[0m\u001b[1;33m)\u001b[0m\u001b[1;33m\u001b[0m\u001b[1;33m\u001b[0m\u001b[0m\n",
      "\u001b[1;31mNameError\u001b[0m: name 'ss' is not defined"
     ]
    }
   ],
   "source": [
    "    for i in tqdm(ss):\n",
    "        href = i['href']\n",
    "        title = i.text\n",
    "        news_dict['title'].append(title)\n",
    "        news_dict['href'].append(href)\n",
    "    for w in sd:\n",
    "        data = w\n",
    "        news_dict['time'].append(w)\n",
    "    for i in tqdm(range(0,70)):  \n",
    "        try:\n",
    "            res = requests.get(news_dict['href'][i])\n",
    "            res.encoding = 'utf-8'\n",
    "            soup = BeautifulSoup(res.text,'html.parser')\n",
    "            new = soup.find('div','article')\n",
    "            st1=new.text.replace(u'\\n\\u3000\\u3000', u' ').replace(u'\\n\\n\\n\\n',u'').replace(u'\\n\\n',u'')\n",
    "        except:\n",
    "            print('地址为{}新闻抓取失败'.format(news_dict['href'][i]))\n",
    "            continue\n",
    "    \n",
    "        news_dict['acticle'].append(st1)"
   ]
  },
  {
   "cell_type": "code",
   "execution_count": null,
   "metadata": {},
   "outputs": [],
   "source": [
    "df = pd.DataFrame.from_dict(news_dict, orient='index')\n",
    "df"
   ]
  },
  {
   "cell_type": "code",
   "execution_count": null,
   "metadata": {},
   "outputs": [],
   "source": []
  }
 ],
 "metadata": {
  "kernelspec": {
   "display_name": "Python 3",
   "language": "python",
   "name": "python3"
  },
  "language_info": {
   "codemirror_mode": {
    "name": "ipython",
    "version": 3
   },
   "file_extension": ".py",
   "mimetype": "text/x-python",
   "name": "python",
   "nbconvert_exporter": "python",
   "pygments_lexer": "ipython3",
   "version": "3.7.4"
  }
 },
 "nbformat": 4,
 "nbformat_minor": 2
}
