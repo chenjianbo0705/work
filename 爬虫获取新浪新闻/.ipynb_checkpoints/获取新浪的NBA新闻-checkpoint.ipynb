{
 "cells": [
  {
   "cell_type": "code",
   "execution_count": 1,
   "metadata": {},
   "outputs": [],
   "source": [
    "import pandas as pd\n",
    "import requests\n",
    "from bs4 import BeautifulSoup\n",
    "from tqdm import tqdm\n",
    "import sqlite3"
   ]
  },
  {
   "cell_type": "code",
   "execution_count": 2,
   "metadata": {},
   "outputs": [],
   "source": [
    "r = requests.get('http://sports.sina.com.cn/nba/5.shtml')\n",
    "r.encoding = 'utf-8'\n",
    "soup = BeautifulSoup(r.text,'html.parser')"
   ]
  },
  {
   "cell_type": "code",
   "execution_count": 3,
   "metadata": {},
   "outputs": [],
   "source": [
    "new =soup.find(id='S_Cont_11')"
   ]
  },
  {
   "cell_type": "code",
   "execution_count": 4,
   "metadata": {},
   "outputs": [
    {
     "data": {
      "text/plain": [
       "70"
      ]
     },
     "execution_count": 4,
     "metadata": {},
     "output_type": "execute_result"
    }
   ],
   "source": [
    "ss=new.find_all('a')\n",
    "len(ss)"
   ]
  },
  {
   "cell_type": "code",
   "execution_count": 5,
   "metadata": {},
   "outputs": [
    {
     "data": {
      "text/plain": [
       "70"
      ]
     },
     "execution_count": 5,
     "metadata": {},
     "output_type": "execute_result"
    }
   ],
   "source": [
    "sd = new.find_all('span')\n",
    "len(sd)"
   ]
  },
  {
   "cell_type": "code",
   "execution_count": 6,
   "metadata": {},
   "outputs": [
    {
     "data": {
      "text/plain": [
       "<a href=\"https://sports.sina.com.cn/basketball/nba/2020-02-26/doc-iimxyqvz5921144.shtml\" target=\"_blank\">去没去追悼会？詹姆斯回应了，黑子们又高潮了</a>"
      ]
     },
     "execution_count": 6,
     "metadata": {},
     "output_type": "execute_result"
    }
   ],
   "source": [
    "new.find_all('a')[0]"
   ]
  },
  {
   "cell_type": "code",
   "execution_count": 7,
   "metadata": {},
   "outputs": [
    {
     "data": {
      "text/plain": [
       "'https://sports.sina.com.cn/basketball/nba/2020-02-26/doc-iimxyqvz5921144.shtml'"
      ]
     },
     "execution_count": 7,
     "metadata": {},
     "output_type": "execute_result"
    }
   ],
   "source": [
    "new.find_all('a')[0]['href']"
   ]
  },
  {
   "cell_type": "code",
   "execution_count": 8,
   "metadata": {},
   "outputs": [
    {
     "data": {
      "text/plain": [
       "'02/26 21:04:30'"
      ]
     },
     "execution_count": 8,
     "metadata": {},
     "output_type": "execute_result"
    }
   ],
   "source": [
    "new.find_all('span')[0].text"
   ]
  },
  {
   "cell_type": "code",
   "execution_count": 9,
   "metadata": {},
   "outputs": [],
   "source": [
    "news_dict = {'title':[],'href':[],'time':[],'acticle':[]}"
   ]
  },
  {
   "cell_type": "code",
   "execution_count": 10,
   "metadata": {},
   "outputs": [
    {
     "name": "stderr",
     "output_type": "stream",
     "text": [
      "100%|███████████████████████████████████████████████████████████████████████████████| 70/70 [00:00<00:00, 69705.91it/s]\n"
     ]
    }
   ],
   "source": [
    "for i in tqdm(ss):\n",
    "    href = i['href']\n",
    "    title = i.text\n",
    "    news_dict['title'].append(title)\n",
    "    news_dict['href'].append(href)\n",
    "for w in sd:\n",
    "    data = w\n",
    "    news_dict['time'].append(w)"
   ]
  },
  {
   "cell_type": "code",
   "execution_count": 28,
   "metadata": {},
   "outputs": [
    {
     "data": {
      "text/plain": [
       "['https://sports.sina.com.cn/basketball/nba/2020-02-26/doc-iimxyqvz5921144.shtml',\n",
       " 'https://sports.sina.com.cn/basketball/nba/2020-02-26/doc-iimxxstf4590462.shtml',\n",
       " 'https://sports.sina.com.cn/basketball/nba/2020-02-26/doc-iimxxstf4519713.shtml',\n",
       " 'https://sports.sina.com.cn/basketball/nba/2020-02-26/doc-iimxyqvz5952137.shtml',\n",
       " 'https://sports.sina.com.cn/basketball/nba/2020-02-26/doc-iimxxstf4503941.shtml',\n",
       " 'https://sports.sina.com.cn/basketball/nba/2020-02-26/doc-iimxxstf4503182.shtml',\n",
       " 'https://sports.sina.com.cn/basketball/nba/2020-02-26/doc-iimxyqvz5938369.shtml',\n",
       " 'https://sports.sina.com.cn/basketball/nba/2020-02-26/doc-iimxxstf4497793.shtml',\n",
       " 'https://sports.sina.com.cn/basketball/nba/2020-02-26/doc-iimxyqvz5936590.shtml',\n",
       " 'https://sports.sina.com.cn/basketball/nba/2020-02-26/doc-iimxxstf4491737.shtml',\n",
       " 'https://sports.sina.com.cn/basketball/nba/2020-02-26/doc-iimxyqvz5913499.shtml',\n",
       " 'https://sports.sina.com.cn/basketball/nba/2020-02-26/doc-iimxyqvz5905236.shtml',\n",
       " 'https://sports.sina.com.cn/basketball/nba/2020-02-26/doc-iimxxstf4422484.shtml',\n",
       " 'https://sports.sina.com.cn/basketball/nba/2020-02-26/doc-iimxyqvz5853897.shtml',\n",
       " 'https://sports.sina.com.cn/basketball/nba/2020-02-26/doc-iimxxstf4414054.shtml',\n",
       " 'https://sports.sina.com.cn/basketball/nba/2020-02-26/doc-iimxyqvz5845737.shtml',\n",
       " 'https://sports.sina.com.cn/basketball/nba/2020-02-26/doc-iimxxstf4394793.shtml',\n",
       " 'https://sports.sina.com.cn/basketball/nba/2020-02-26/doc-iimxxstf4394220.shtml',\n",
       " 'https://sports.sina.com.cn/basketball/nba/2020-02-26/doc-iimxxstf4378188.shtml',\n",
       " 'https://sports.sina.com.cn/basketball/nba/2020-02-25/doc-iimxyqvz5649477.shtml',\n",
       " 'https://sports.sina.com.cn/basketball/nba/2020-02-25/doc-iimxyqvz5700605.shtml',\n",
       " 'https://sports.sina.com.cn/basketball/nba/2020-02-25/doc-iimxyqvz5664921.shtml',\n",
       " 'https://sports.sina.com.cn/basketball/nba/2020-02-25/doc-iimxyqvz5649865.shtml',\n",
       " 'https://sports.sina.com.cn/basketball/nba/2020-02-25/doc-iimxxstf4165963.shtml',\n",
       " 'https://sports.sina.com.cn/basketball/nba/2020-02-25/doc-iimxxstf4149488.shtml',\n",
       " 'https://sports.sina.com.cn/basketball/nba/2020-02-25/doc-iimxyqvz5571579.shtml',\n",
       " 'https://sports.sina.com.cn/basketball/nba/2020-02-25/doc-iimxyqvz5559609.shtml',\n",
       " 'https://sports.sina.com.cn/basketball/nba/2020-02-25/doc-iimxxstf3968220.shtml',\n",
       " 'https://sports.sina.com.cn/basketball/nba/2020-02-25/doc-iimxyqvz5558129.shtml',\n",
       " 'https://sports.sina.com.cn/basketball/nba/2020-02-25/doc-iimxxstf4118386.shtml',\n",
       " 'https://sports.sina.com.cn/basketball/nba/2020-02-25/doc-iimxyqvz5557643.shtml',\n",
       " 'https://sports.sina.com.cn/basketball/nba/2020-02-25/doc-iimxxstf4115807.shtml',\n",
       " 'https://sports.sina.com.cn/basketball/nba/2020-02-25/doc-iimxxstf4115757.shtml',\n",
       " 'https://sports.sina.com.cn/basketball/nba/2020-02-25/doc-iimxyqvz5553781.shtml',\n",
       " 'https://sports.sina.com.cn/basketball/nba/2020-02-25/doc-iimxyqvz5547630.shtml',\n",
       " 'https://sports.sina.com.cn/basketball/nba/2020-02-24/doc-iimxyqvz5419097.shtml',\n",
       " 'https://sports.sina.com.cn/basketball/nba/2020-02-24/doc-iimxyqvz5418189.shtml',\n",
       " 'https://sports.sina.com.cn/basketball/nba/2020-02-24/doc-iimxxstf3979663.shtml',\n",
       " 'https://sports.sina.com.cn/basketball/nba/2020-02-24/doc-iimxxstf3963760.shtml',\n",
       " 'https://sports.sina.com.cn/basketball/nba/2020-02-24/doc-iimxyqvz5391184.shtml',\n",
       " 'https://sports.sina.com.cn/basketball/nba/2020-02-24/doc-iimxxstf3893453.shtml',\n",
       " 'https://sports.sina.com.cn/basketball/nba/2020-02-24/doc-iimxyqvz5318992.shtml',\n",
       " 'https://sports.sina.com.cn/basketball/nba/2020-02-24/doc-iimxxstf3867103.shtml',\n",
       " 'https://sports.sina.com.cn/basketball/nba/2020-02-24/doc-iimxyqvz5306356.shtml',\n",
       " 'https://sports.sina.com.cn/basketball/nba/2020-02-24/doc-iimxxstf3862121.shtml',\n",
       " 'https://sports.sina.com.cn/basketball/nba/2020-02-24/doc-iimxyqvz5302391.shtml',\n",
       " 'https://sports.sina.com.cn/basketball/nba/2020-02-24/doc-iimxyqvz5301683.shtml',\n",
       " 'https://sports.sina.com.cn/basketball/nba/2020-02-24/doc-iimxyqvz5301352.shtml',\n",
       " 'https://sports.sina.com.cn/basketball/nba/2020-02-24/doc-iimxxstf3858099.shtml',\n",
       " 'https://sports.sina.com.cn/basketball/nba/2020-02-24/doc-iimxxstf3853286.shtml',\n",
       " 'https://sports.sina.com.cn/basketball/nba/2020-02-24/doc-iimxxstf3731862.shtml',\n",
       " 'https://sports.sina.com.cn/basketball/nba/2020-02-24/doc-iimxyqvz5170584.shtml',\n",
       " 'https://sports.sina.com.cn/basketball/nba/2020-02-24/doc-iimxyqvz5292550.shtml',\n",
       " 'https://sports.sina.com.cn/basketball/nba/2020-02-23/doc-iimxxstf3645743.shtml',\n",
       " 'https://sports.sina.com.cn/basketball/nba/2020-02-23/doc-iimxxstf3645600.shtml',\n",
       " 'https://sports.sina.com.cn/basketball/nba/2020-02-23/doc-iimxyqvz4953874.shtml',\n",
       " 'https://sports.sina.com.cn/basketball/nba/2020-02-23/doc-iimxxstf3510927.shtml',\n",
       " 'https://sports.sina.com.cn/basketball/nba/2020-02-23/doc-iimxyqvz4950991.shtml',\n",
       " 'https://sports.sina.com.cn/basketball/nba/2020-02-23/doc-iimxyqvz4951383.shtml',\n",
       " 'https://sports.sina.com.cn/basketball/nba/2020-02-23/doc-iimxyqvz4950296.shtml',\n",
       " 'https://sports.sina.com.cn/basketball/nba/2020-02-22/doc-iimxxstf3507690.shtml',\n",
       " 'https://sports.sina.com.cn/basketball/nba/2020-02-22/doc-iimxyqvz4975242.shtml',\n",
       " 'https://sports.sina.com.cn/basketball/nba/2020-02-22/doc-iimxyqvz4968005.shtml',\n",
       " 'https://sports.sina.com.cn/basketball/nba/2020-02-22/doc-iimxyqvz4963115.shtml',\n",
       " 'https://sports.sina.com.cn/basketball/nba/2020-02-22/doc-iimxyqvz4960040.shtml',\n",
       " 'https://sports.sina.com.cn/basketball/nba/2020-02-22/doc-iimxxstf3518129.shtml',\n",
       " 'https://sports.sina.com.cn/basketball/nba/2020-02-22/doc-iimxxstf3517854.shtml',\n",
       " 'https://sports.sina.com.cn/basketball/nba/2020-02-22/doc-iimxxstf3516687.shtml',\n",
       " 'https://sports.sina.com.cn/basketball/nba/2020-02-22/doc-iimxyqvz4957228.shtml',\n",
       " 'https://sports.sina.com.cn/basketball/nba/2020-02-22/doc-iimxyqvz4955429.shtml']"
      ]
     },
     "execution_count": 28,
     "metadata": {},
     "output_type": "execute_result"
    }
   ],
   "source": [
    "news_dict['href']\n",
    "len(news_dict['href'])\n",
    "news_dict['href']"
   ]
  },
  {
   "cell_type": "code",
   "execution_count": 55,
   "metadata": {},
   "outputs": [],
   "source": [
    "res = requests.get(news_dict['href'][69])\n",
    "res.encoding = 'utf-8'\n",
    "soup = BeautifulSoup(res.text,'html.parser')\n",
    "new = soup.find('div','article')"
   ]
  },
  {
   "cell_type": "code",
   "execution_count": 57,
   "metadata": {},
   "outputs": [
    {
     "name": "stdout",
     "output_type": "stream",
     "text": [
      "0\n",
      "1\n",
      "2\n",
      "3\n",
      "4\n",
      "5\n",
      "6\n",
      "7\n"
     ]
    },
    {
     "ename": "AttributeError",
     "evalue": "'NoneType' object has no attribute 'text'",
     "output_type": "error",
     "traceback": [
      "\u001b[1;31m---------------------------------------------------------------------------\u001b[0m",
      "\u001b[1;31mAttributeError\u001b[0m                            Traceback (most recent call last)",
      "\u001b[1;32m<ipython-input-57-115b94e4cae1>\u001b[0m in \u001b[0;36m<module>\u001b[1;34m\u001b[0m\n\u001b[0;32m      5\u001b[0m     \u001b[0msoup\u001b[0m \u001b[1;33m=\u001b[0m \u001b[0mBeautifulSoup\u001b[0m\u001b[1;33m(\u001b[0m\u001b[0mres\u001b[0m\u001b[1;33m.\u001b[0m\u001b[0mtext\u001b[0m\u001b[1;33m,\u001b[0m\u001b[1;34m'html.parser'\u001b[0m\u001b[1;33m)\u001b[0m\u001b[1;33m\u001b[0m\u001b[1;33m\u001b[0m\u001b[0m\n\u001b[0;32m      6\u001b[0m     \u001b[0mnew\u001b[0m \u001b[1;33m=\u001b[0m \u001b[0msoup\u001b[0m\u001b[1;33m.\u001b[0m\u001b[0mfind\u001b[0m\u001b[1;33m(\u001b[0m\u001b[1;34m'div'\u001b[0m\u001b[1;33m,\u001b[0m\u001b[1;34m'article'\u001b[0m\u001b[1;33m)\u001b[0m\u001b[1;33m\u001b[0m\u001b[1;33m\u001b[0m\u001b[0m\n\u001b[1;32m----> 7\u001b[1;33m     \u001b[0mst1\u001b[0m\u001b[1;33m=\u001b[0m\u001b[0mnew\u001b[0m\u001b[1;33m.\u001b[0m\u001b[0mtext\u001b[0m\u001b[1;33m.\u001b[0m\u001b[0mreplace\u001b[0m\u001b[1;33m(\u001b[0m\u001b[1;34mu'\\n\\u3000\\u3000'\u001b[0m\u001b[1;33m,\u001b[0m \u001b[1;34mu' '\u001b[0m\u001b[1;33m)\u001b[0m\u001b[1;33m.\u001b[0m\u001b[0mreplace\u001b[0m\u001b[1;33m(\u001b[0m\u001b[1;34mu'\\n\\n\\n\\n'\u001b[0m\u001b[1;33m,\u001b[0m\u001b[1;34mu''\u001b[0m\u001b[1;33m)\u001b[0m\u001b[1;33m.\u001b[0m\u001b[0mreplace\u001b[0m\u001b[1;33m(\u001b[0m\u001b[1;34mu'\\n\\n'\u001b[0m\u001b[1;33m,\u001b[0m\u001b[1;34mu''\u001b[0m\u001b[1;33m)\u001b[0m\u001b[1;33m\u001b[0m\u001b[1;33m\u001b[0m\u001b[0m\n\u001b[0m\u001b[0;32m      8\u001b[0m     \u001b[0mnews_dict\u001b[0m\u001b[1;33m[\u001b[0m\u001b[1;34m'acticle'\u001b[0m\u001b[1;33m]\u001b[0m\u001b[1;33m.\u001b[0m\u001b[0mappend\u001b[0m\u001b[1;33m(\u001b[0m\u001b[0mst1\u001b[0m\u001b[1;33m)\u001b[0m\u001b[1;33m\u001b[0m\u001b[1;33m\u001b[0m\u001b[0m\n",
      "\u001b[1;31mAttributeError\u001b[0m: 'NoneType' object has no attribute 'text'"
     ]
    }
   ],
   "source": [
    "for i in range(0,71):\n",
    "    print(i)\n",
    "    try:\n",
    "        res = requests.get(news_dict['href'][i])\n",
    "        res.encoding = 'utf-8'\n",
    "        soup = BeautifulSoup(res.text,'html.parser')\n",
    "        new = soup.find('div','article')\n",
    "        st1=new.text.replace(u'\\n\\u3000\\u3000', u' ').replace(u'\\n\\n\\n\\n',u'').replace(u'\\n\\n',u'')\n",
    "    except:\n",
    "        print('地址为{}新闻抓取失败'.format(news_dict['href'][i]))\n",
    "        continue\n",
    "    \n",
    "    news_dict['acticle'].append(st1)"
   ]
  },
  {
   "cell_type": "code",
   "execution_count": 53,
   "metadata": {},
   "outputs": [
    {
     "data": {
      "text/plain": [
       "'\\n 北京时间2月22日，洛杉矶湖人队主场以117比105战胜孟菲斯灰熊，取得四连胜。本场比赛湖人队能够取得胜利，主要依靠他们的防守。在第二节一度湖人队只让对手得到19分，在这一节将近五分钟的时间，没有让灰熊队有过运动战进球。 湖人队如今能够继续稳坐西部头名，得益于他们之前一段的防守表现。一度防守效率全联盟之首，是湖人队有上佳表现的重要原因。这也是湖人队本赛季最大的改变。\\n 今天与孟菲斯灰熊一战，第二节比赛安东尼-戴维斯回归，给队友们注入自信。第二节灰熊队4分40秒内，没有一个运动战进球，完全被湖人的防守所压制。这也成为本场比赛的关键转折点。全场湖人队送出14次封盖，而对手只有1次。 最终湖人一直保持领先优势到终场，一场依靠防守拼下的胜利，让紫金军团重振自信。 （珅葳）\\n声明：新浪网独家稿件，未经授权禁止转载！'"
      ]
     },
     "execution_count": 53,
     "metadata": {},
     "output_type": "execute_result"
    }
   ],
   "source": [
    "new.text.replace(u'\\n\\u3000\\u3000', u' ').replace(u'\\n\\n\\n\\n',u'').replace(u'\\n\\n',u'')"
   ]
  },
  {
   "cell_type": "code",
   "execution_count": 40,
   "metadata": {},
   "outputs": [
    {
     "name": "stderr",
     "output_type": "stream",
     "text": [
      " 10%|████████▎                                                                          | 7/70 [00:01<00:15,  3.99it/s]"
     ]
    },
    {
     "name": "stdout",
     "output_type": "stream",
     "text": [
      "地址为https://sports.sina.com.cn/basketball/nba/2020-02-26/doc-iimxxstf4497793.shtml新闻抓取失败\n"
     ]
    },
    {
     "name": "stderr",
     "output_type": "stream",
     "text": [
      " 39%|███████████████████████████████▋                                                  | 27/70 [00:07<00:13,  3.31it/s]"
     ]
    },
    {
     "name": "stdout",
     "output_type": "stream",
     "text": [
      "地址为https://sports.sina.com.cn/basketball/nba/2020-02-25/doc-iimxxstf3968220.shtml新闻抓取失败\n"
     ]
    },
    {
     "name": "stderr",
     "output_type": "stream",
     "text": [
      " 89%|████████████████████████████████████████████████████████████████████████▋         | 62/70 [00:40<00:03,  2.62it/s]"
     ]
    },
    {
     "name": "stdout",
     "output_type": "stream",
     "text": [
      "地址为https://sports.sina.com.cn/basketball/nba/2020-02-22/doc-iimxyqvz4968005.shtml新闻抓取失败\n"
     ]
    },
    {
     "name": "stderr",
     "output_type": "stream",
     "text": [
      "100%|██████████████████████████████████████████████████████████████████████████████████| 70/70 [00:42<00:00,  1.64it/s]\n"
     ]
    }
   ],
   "source": [
    "for  r in tqdm(news_dict['href']):\n",
    "    try:\n",
    "        res = requests.get(r)\n",
    "        res.encoding = 'utf-8'\n",
    "        soup = BeautifulSoup(res.text,'html.parser')\n",
    "        new = soup.find('div','article')\n",
    "        st1=new.text\n",
    "    except:\n",
    "        print('地址为{}新闻抓取失败'.format(r))\n",
    "        continue\n",
    "    news_dict['acticle'].append(st1)"
   ]
  },
  {
   "cell_type": "code",
   "execution_count": 41,
   "metadata": {},
   "outputs": [
    {
     "data": {
      "text/plain": [
       "301"
      ]
     },
     "execution_count": 41,
     "metadata": {},
     "output_type": "execute_result"
    }
   ],
   "source": [
    "len(news_dict['acticle'])"
   ]
  },
  {
   "cell_type": "code",
   "execution_count": 45,
   "metadata": {},
   "outputs": [
    {
     "data": {
      "text/plain": [
       "<div class=\"article\" data-sudaclick=\"blk_content\" id=\"artibody\">\n",
       "<div class=\"img_wrapper\"><img alt=\"\" id=\"0\" src=\"//n.sinaimg.cn/spider2020226/533/w1280h853/20200226/0971-ipzreiw1354241.jpg\" style=\"max-width: 640px;\"/><span class=\"img_descr\"></span></div>\n",
       "<p cms-style=\"font-L align-Justify\">　　直播吧2月26日讯 近日，鹈鹕球员英格拉姆在接受美国记者Sam Amick的采访时，谈到了自己曾效力过的湖人。</p>\n",
       "<p cms-style=\"font-L align-Justify\">　　如果鹈鹕能够进入季后赛，他们很可能在首轮遇到湖人。对此，英格拉姆表示：“对于这件事，我遇见的每个人都在谈论，我们的教练稍微提到过一点。当然，我们的球队希望专注于眼前的事情，我们没有看得那么长远，但是教练曾稍微提起这件事。如果在季后赛相遇，我们将努力与他们战斗，看看能否逼出他们最强的一面，那将是非常有趣的一件事。”</p>\n",
       "<p cms-style=\"font-L align-Justify\">　　谈到去年夏天被湖人交易到鹈鹕，英格拉姆表示：“我并没有怨气，他们得到了一位超级巨星。我想我们当时在用年轻核心建立一些东西，但是他们有不同的计划。我知道这只是生意，我对他们没有任何怨恨，也没有失去对他们的爱，是他们让我的梦想成真。”</p>\n",
       "<p cms-style=\"font-L align-Justify\">　　目前，鹈鹕以25胜32负排名西部第10，距离第8的灰熊还差3个胜场。湖人以43胜12负高居西部第1。</p>\n",
       "<p cms-style=\"font-L align-Justify\">　　（MOON）</p>\n",
       "<p>　　[来源：直播吧]</p>\n",
       "<div class=\"show_statement\">声明：新浪网登载此文出于传递更多信息之目的，并不意味着赞同其观点或证实其描述。</div>\n",
       "<!-- 非定向300*250按钮    17/09  wenjing  begin -->\n",
       "<div id=\"left_hzh_ad\">\n",
       "<!-- <script async charset=\"utf-8\" src=\"//d5.sina.com.cn/litong/zhitou/sinaads/release/sinaads.js\"></script>\n",
       "                    <script language=\"javascript\" type=\"text/javascript\" src=\"//d2.sina.com.cn/d1images/button/rotator.js\"></script>\n",
       "                    <script type=\"text/javascript\">\n",
       "                      (function(){\n",
       "                        var adScript = document.createElement('script');\n",
       "                        adScript.src = '//d1.sina.com.cn/litong/zhitou/sinaads/demo/changwy/link/yl_left_hzh_20160119.js';\n",
       "                        document.getElementsByTagName('head')[0].appendChild(adScript);\n",
       "                        })();\n",
       "                    </script> -->\n",
       "</div>\n",
       "<!-- 非定向300*250按钮  end -->\n",
       "</div>"
      ]
     },
     "execution_count": 45,
     "metadata": {},
     "output_type": "execute_result"
    }
   ],
   "source": [
    "news_dict['acticle'][46]"
   ]
  },
  {
   "cell_type": "code",
   "execution_count": 38,
   "metadata": {},
   "outputs": [
    {
     "data": {
      "text/html": [
       "<div>\n",
       "<style scoped>\n",
       "    .dataframe tbody tr th:only-of-type {\n",
       "        vertical-align: middle;\n",
       "    }\n",
       "\n",
       "    .dataframe tbody tr th {\n",
       "        vertical-align: top;\n",
       "    }\n",
       "\n",
       "    .dataframe thead th {\n",
       "        text-align: right;\n",
       "    }\n",
       "</style>\n",
       "<table border=\"1\" class=\"dataframe\">\n",
       "  <thead>\n",
       "    <tr style=\"text-align: right;\">\n",
       "      <th></th>\n",
       "      <th>0</th>\n",
       "      <th>1</th>\n",
       "      <th>2</th>\n",
       "      <th>3</th>\n",
       "      <th>4</th>\n",
       "      <th>5</th>\n",
       "      <th>6</th>\n",
       "      <th>7</th>\n",
       "      <th>8</th>\n",
       "      <th>9</th>\n",
       "      <th>...</th>\n",
       "      <th>224</th>\n",
       "      <th>225</th>\n",
       "      <th>226</th>\n",
       "      <th>227</th>\n",
       "      <th>228</th>\n",
       "      <th>229</th>\n",
       "      <th>230</th>\n",
       "      <th>231</th>\n",
       "      <th>232</th>\n",
       "      <th>233</th>\n",
       "    </tr>\n",
       "  </thead>\n",
       "  <tbody>\n",
       "    <tr>\n",
       "      <td>title</td>\n",
       "      <td>去没去追悼会？詹姆斯回应了，黑子们又高潮了</td>\n",
       "      <td>詹姆斯没出席科比追悼会？他本人这么说……</td>\n",
       "      <td>锡安29分不输浓眉!詹姆斯40分,这暴扣哪像35岁?</td>\n",
       "      <td>刚刚！锡安和詹姆斯单挑，老詹亲手教训锡安</td>\n",
       "      <td>头撞板飞帽大球+净胜20分！感受下网红的力量</td>\n",
       "      <td>湖人冲冠最后一块拼图!跟浓眉来电+解放库兹马</td>\n",
       "      <td>赛季新高40+8!詹姆斯追上科比,连得11分仨隔扣</td>\n",
       "      <td>詹姆斯打疯了！赛季最高！隔扣前队友嗨翻全场</td>\n",
       "      <td>38-0!18连胜!西部第一的湖人又多两大定律护体</td>\n",
       "      <td>詹姆斯新高40分锡安29+6 湖人击退鹈鹕获6连胜</td>\n",
       "      <td>...</td>\n",
       "      <td>None</td>\n",
       "      <td>None</td>\n",
       "      <td>None</td>\n",
       "      <td>None</td>\n",
       "      <td>None</td>\n",
       "      <td>None</td>\n",
       "      <td>None</td>\n",
       "      <td>None</td>\n",
       "      <td>None</td>\n",
       "      <td>None</td>\n",
       "    </tr>\n",
       "    <tr>\n",
       "      <td>href</td>\n",
       "      <td>https://sports.sina.com.cn/basketball/nba/2020...</td>\n",
       "      <td>https://sports.sina.com.cn/basketball/nba/2020...</td>\n",
       "      <td>https://sports.sina.com.cn/basketball/nba/2020...</td>\n",
       "      <td>https://sports.sina.com.cn/basketball/nba/2020...</td>\n",
       "      <td>https://sports.sina.com.cn/basketball/nba/2020...</td>\n",
       "      <td>https://sports.sina.com.cn/basketball/nba/2020...</td>\n",
       "      <td>https://sports.sina.com.cn/basketball/nba/2020...</td>\n",
       "      <td>https://sports.sina.com.cn/basketball/nba/2020...</td>\n",
       "      <td>https://sports.sina.com.cn/basketball/nba/2020...</td>\n",
       "      <td>https://sports.sina.com.cn/basketball/nba/2020...</td>\n",
       "      <td>...</td>\n",
       "      <td>None</td>\n",
       "      <td>None</td>\n",
       "      <td>None</td>\n",
       "      <td>None</td>\n",
       "      <td>None</td>\n",
       "      <td>None</td>\n",
       "      <td>None</td>\n",
       "      <td>None</td>\n",
       "      <td>None</td>\n",
       "      <td>None</td>\n",
       "    </tr>\n",
       "    <tr>\n",
       "      <td>time</td>\n",
       "      <td>[02/26 21:04:30]</td>\n",
       "      <td>[02/26 19:42:50]</td>\n",
       "      <td>[02/26 15:15:13]</td>\n",
       "      <td>[02/26 14:57:52]</td>\n",
       "      <td>[02/26 14:30:56]</td>\n",
       "      <td>[02/26 14:27:40]</td>\n",
       "      <td>[02/26 14:12:33]</td>\n",
       "      <td>[02/26 14:06:20]</td>\n",
       "      <td>[02/26 14:06:04]</td>\n",
       "      <td>[02/26 13:43:48]</td>\n",
       "      <td>...</td>\n",
       "      <td>None</td>\n",
       "      <td>None</td>\n",
       "      <td>None</td>\n",
       "      <td>None</td>\n",
       "      <td>None</td>\n",
       "      <td>None</td>\n",
       "      <td>None</td>\n",
       "      <td>None</td>\n",
       "      <td>None</td>\n",
       "      <td>None</td>\n",
       "    </tr>\n",
       "    <tr>\n",
       "      <td>acticle</td>\n",
       "      <td>昨天，60E共赴一场“生命的礼赞” 核心大家都懂，为了送那个男人最后一程，为了送自己的青春...</td>\n",
       "      <td>詹姆斯接受采访 一场原本属于科比-布莱恩特和女儿Gigi的追悼会，居然出现了让人意想不到的插...</td>\n",
       "      <td>等了大半个赛季终于来了 锡安 VS 詹姆斯 虽然不是打一个位置但噱头十足 两个超级状元之间...</td>\n",
       "      <td>via 篮球技巧教学　　 今日多场比赛，其中最为精彩，当属鹈鹕诸将联手踢馆斯台普斯中心。 ...</td>\n",
       "      <td>\\n 北京时间2月26日消息，湖人在主场以118比109战胜新奥尔良鹈鹕，湖人拿到6连胜。在...</td>\n",
       "      <td>\\n 北京时间2月26日消息，洛杉矶湖人在主场有惊无险地以118比109战胜新奥尔良鹈鹕，湖...</td>\n",
       "      <td>\\n 北京时间2月26日，湖人在主场以118-109战胜鹈鹕。湖人当家球星勒布朗-詹姆斯27...</td>\n",
       "      <td>昨天，60E共赴一场“生命的礼赞” 核心大家都懂，为了送那个男人最后一程，为了送自己的青春...</td>\n",
       "      <td>詹姆斯接受采访 一场原本属于科比-布莱恩特和女儿Gigi的追悼会，居然出现了让人意想不到的插...</td>\n",
       "      <td>等了大半个赛季终于来了 锡安 VS 詹姆斯 虽然不是打一个位置但噱头十足 两个超级状元之间...</td>\n",
       "      <td>...</td>\n",
       "      <td>作者：毒妹 搜微信篮球有毒9527，回复666领球星纪念公仔和手机壳！ 据名记雷蒙娜-谢尔...</td>\n",
       "      <td>作者：热点君 今天The Athletic记者Shams Charania报道，活塞大前锋...</td>\n",
       "      <td>\\n\\n\\n\\n大莫里斯将与湖人签约\\n 看似仍远非尽头的五连败，在汽车城略带悲戚的轰鸣声的...</td>\n",
       "      <td>\\n\\n\\n\\n莫里斯 在经过了一轮又一轮的陪跑之后，湖人终于如愿的当上了主角。 马基夫-莫...</td>\n",
       "      <td>\\n 北京时间2月22日，湖人击败灰熊收获4连胜，卡鲁索全场得到9分4篮板1抢断。 全场比赛...</td>\n",
       "      <td>\\n 北京时间2月22日，湖人击败灰熊拿到4连胜，詹姆斯全场拿到了32分7助攻。 这是詹姆斯...</td>\n",
       "      <td>\\n 北京时间2月22日消息，洛杉矶湖人主场以117比105击败孟菲斯灰熊，湖人拿到4连胜。...</td>\n",
       "      <td>\\n 北京时间2月22日，湖人主场117-105击败灰熊，在获得4连胜的同时也拿到了本赛季第...</td>\n",
       "      <td>\\n 北京时间2月22日，洛杉矶湖人队主场迎战孟菲斯灰熊，此役两队激战四节，最终湖人以117...</td>\n",
       "      <td>\\n 北京时间2月22日，洛杉矶湖人队主场以117比105战胜孟菲斯灰熊，取得四连胜。本场比...</td>\n",
       "    </tr>\n",
       "  </tbody>\n",
       "</table>\n",
       "<p>4 rows × 234 columns</p>\n",
       "</div>"
      ],
      "text/plain": [
       "                                                       0    \\\n",
       "title                                去没去追悼会？詹姆斯回应了，黑子们又高潮了   \n",
       "href     https://sports.sina.com.cn/basketball/nba/2020...   \n",
       "time                                      [02/26 21:04:30]   \n",
       "acticle   昨天，60E共赴一场“生命的礼赞” 核心大家都懂，为了送那个男人最后一程，为了送自己的青春...   \n",
       "\n",
       "                                                       1    \\\n",
       "title                                 詹姆斯没出席科比追悼会？他本人这么说……   \n",
       "href     https://sports.sina.com.cn/basketball/nba/2020...   \n",
       "time                                      [02/26 19:42:50]   \n",
       "acticle  詹姆斯接受采访 一场原本属于科比-布莱恩特和女儿Gigi的追悼会，居然出现了让人意想不到的插...   \n",
       "\n",
       "                                                       2    \\\n",
       "title                           锡安29分不输浓眉!詹姆斯40分,这暴扣哪像35岁?   \n",
       "href     https://sports.sina.com.cn/basketball/nba/2020...   \n",
       "time                                      [02/26 15:15:13]   \n",
       "acticle   等了大半个赛季终于来了 锡安 VS 詹姆斯 虽然不是打一个位置但噱头十足 两个超级状元之间...   \n",
       "\n",
       "                                                       3    \\\n",
       "title                                 刚刚！锡安和詹姆斯单挑，老詹亲手教训锡安   \n",
       "href     https://sports.sina.com.cn/basketball/nba/2020...   \n",
       "time                                      [02/26 14:57:52]   \n",
       "acticle   via 篮球技巧教学　　 今日多场比赛，其中最为精彩，当属鹈鹕诸将联手踢馆斯台普斯中心。 ...   \n",
       "\n",
       "                                                       4    \\\n",
       "title                               头撞板飞帽大球+净胜20分！感受下网红的力量   \n",
       "href     https://sports.sina.com.cn/basketball/nba/2020...   \n",
       "time                                      [02/26 14:30:56]   \n",
       "acticle  \\n 北京时间2月26日消息，湖人在主场以118比109战胜新奥尔良鹈鹕，湖人拿到6连胜。在...   \n",
       "\n",
       "                                                       5    \\\n",
       "title                               湖人冲冠最后一块拼图!跟浓眉来电+解放库兹马   \n",
       "href     https://sports.sina.com.cn/basketball/nba/2020...   \n",
       "time                                      [02/26 14:27:40]   \n",
       "acticle  \\n 北京时间2月26日消息，洛杉矶湖人在主场有惊无险地以118比109战胜新奥尔良鹈鹕，湖...   \n",
       "\n",
       "                                                       6    \\\n",
       "title                            赛季新高40+8!詹姆斯追上科比,连得11分仨隔扣   \n",
       "href     https://sports.sina.com.cn/basketball/nba/2020...   \n",
       "time                                      [02/26 14:12:33]   \n",
       "acticle  \\n 北京时间2月26日，湖人在主场以118-109战胜鹈鹕。湖人当家球星勒布朗-詹姆斯27...   \n",
       "\n",
       "                                                       7    \\\n",
       "title                                詹姆斯打疯了！赛季最高！隔扣前队友嗨翻全场   \n",
       "href     https://sports.sina.com.cn/basketball/nba/2020...   \n",
       "time                                      [02/26 14:06:20]   \n",
       "acticle   昨天，60E共赴一场“生命的礼赞” 核心大家都懂，为了送那个男人最后一程，为了送自己的青春...   \n",
       "\n",
       "                                                       8    \\\n",
       "title                            38-0!18连胜!西部第一的湖人又多两大定律护体   \n",
       "href     https://sports.sina.com.cn/basketball/nba/2020...   \n",
       "time                                      [02/26 14:06:04]   \n",
       "acticle  詹姆斯接受采访 一场原本属于科比-布莱恩特和女儿Gigi的追悼会，居然出现了让人意想不到的插...   \n",
       "\n",
       "                                                       9    ...  \\\n",
       "title                            詹姆斯新高40分锡安29+6 湖人击退鹈鹕获6连胜  ...   \n",
       "href     https://sports.sina.com.cn/basketball/nba/2020...  ...   \n",
       "time                                      [02/26 13:43:48]  ...   \n",
       "acticle   等了大半个赛季终于来了 锡安 VS 詹姆斯 虽然不是打一个位置但噱头十足 两个超级状元之间...  ...   \n",
       "\n",
       "                                                       224  \\\n",
       "title                                                 None   \n",
       "href                                                  None   \n",
       "time                                                  None   \n",
       "acticle   作者：毒妹 搜微信篮球有毒9527，回复666领球星纪念公仔和手机壳！ 据名记雷蒙娜-谢尔...   \n",
       "\n",
       "                                                       225  \\\n",
       "title                                                 None   \n",
       "href                                                  None   \n",
       "time                                                  None   \n",
       "acticle   作者：热点君 今天The Athletic记者Shams Charania报道，活塞大前锋...   \n",
       "\n",
       "                                                       226  \\\n",
       "title                                                 None   \n",
       "href                                                  None   \n",
       "time                                                  None   \n",
       "acticle  \\n\\n\\n\\n大莫里斯将与湖人签约\\n 看似仍远非尽头的五连败，在汽车城略带悲戚的轰鸣声的...   \n",
       "\n",
       "                                                       227  \\\n",
       "title                                                 None   \n",
       "href                                                  None   \n",
       "time                                                  None   \n",
       "acticle  \\n\\n\\n\\n莫里斯 在经过了一轮又一轮的陪跑之后，湖人终于如愿的当上了主角。 马基夫-莫...   \n",
       "\n",
       "                                                       228  \\\n",
       "title                                                 None   \n",
       "href                                                  None   \n",
       "time                                                  None   \n",
       "acticle  \\n 北京时间2月22日，湖人击败灰熊收获4连胜，卡鲁索全场得到9分4篮板1抢断。 全场比赛...   \n",
       "\n",
       "                                                       229  \\\n",
       "title                                                 None   \n",
       "href                                                  None   \n",
       "time                                                  None   \n",
       "acticle  \\n 北京时间2月22日，湖人击败灰熊拿到4连胜，詹姆斯全场拿到了32分7助攻。 这是詹姆斯...   \n",
       "\n",
       "                                                       230  \\\n",
       "title                                                 None   \n",
       "href                                                  None   \n",
       "time                                                  None   \n",
       "acticle  \\n 北京时间2月22日消息，洛杉矶湖人主场以117比105击败孟菲斯灰熊，湖人拿到4连胜。...   \n",
       "\n",
       "                                                       231  \\\n",
       "title                                                 None   \n",
       "href                                                  None   \n",
       "time                                                  None   \n",
       "acticle  \\n 北京时间2月22日，湖人主场117-105击败灰熊，在获得4连胜的同时也拿到了本赛季第...   \n",
       "\n",
       "                                                       232  \\\n",
       "title                                                 None   \n",
       "href                                                  None   \n",
       "time                                                  None   \n",
       "acticle  \\n 北京时间2月22日，洛杉矶湖人队主场迎战孟菲斯灰熊，此役两队激战四节，最终湖人以117...   \n",
       "\n",
       "                                                       233  \n",
       "title                                                 None  \n",
       "href                                                  None  \n",
       "time                                                  None  \n",
       "acticle  \\n 北京时间2月22日，洛杉矶湖人队主场以117比105战胜孟菲斯灰熊，取得四连胜。本场比...  \n",
       "\n",
       "[4 rows x 234 columns]"
      ]
     },
     "execution_count": 38,
     "metadata": {},
     "output_type": "execute_result"
    }
   ],
   "source": [
    "df = pd.DataFrame.from_dict(news_dict, orient='index')\n",
    "df"
   ]
  },
  {
   "cell_type": "code",
   "execution_count": null,
   "metadata": {},
   "outputs": [],
   "source": [
    "        try:\n",
    "            res = requests.get(href)\n",
    "            res.encoding = 'utf-8'\n",
    "            soup = BeautifulSoup(res.text,'html.parser')\n",
    "            new = soup.find('div','article')\n",
    "            t = soup.find('h1','main-title')\n",
    "            str1=new.text.strip('\\n').strip('\\u3000')\n",
    "        except:\n",
    "            print('地址为{}新闻抓取失败'.format(href))\n",
    "            \n",
    "            continue\n",
    "        news_dict['acticle'].append(str1)"
   ]
  }
 ],
 "metadata": {
  "kernelspec": {
   "display_name": "Python 3",
   "language": "python",
   "name": "python3"
  },
  "language_info": {
   "codemirror_mode": {
    "name": "ipython",
    "version": 3
   },
   "file_extension": ".py",
   "mimetype": "text/x-python",
   "name": "python",
   "nbconvert_exporter": "python",
   "pygments_lexer": "ipython3",
   "version": "3.7.4"
  }
 },
 "nbformat": 4,
 "nbformat_minor": 2
}
