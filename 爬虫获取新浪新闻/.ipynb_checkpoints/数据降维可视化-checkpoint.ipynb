{
 "cells": [
  {
   "cell_type": "code",
   "execution_count": 1,
   "metadata": {},
   "outputs": [],
   "source": [
    "import pandas as pd\n",
    "from tqdm import tqdm\n",
    "import sqlite3\n",
    "from sklearn.model_selection import train_test_split\n",
    "from sklearn.feature_extraction.text import TfidfVectorizer as TFIDF"
   ]
  },
  {
   "cell_type": "code",
   "execution_count": 2,
   "metadata": {},
   "outputs": [],
   "source": [
    "cx = sqlite3.connect(r'D:\\Python\\获取网络信息用于文本分析\\data.db')"
   ]
  },
  {
   "cell_type": "code",
   "execution_count": 3,
   "metadata": {},
   "outputs": [],
   "source": [
    "df2 = pd.read_sql_query('select * from junshi',cx)\n",
    "df1 = pd.read_sql_query('select * from NBA',cx)\n",
    "df0 = pd.read_sql_query('select * from gaokao',cx)"
   ]
  },
  {
   "cell_type": "code",
   "execution_count": 4,
   "metadata": {},
   "outputs": [],
   "source": [
    "df0 = df0.dropna(axis=1, how='any')\n",
    "df1 = df1.dropna(axis=1, how='any')\n",
    "df2 = df2.dropna(axis=1, how='any')"
   ]
  },
  {
   "cell_type": "code",
   "execution_count": 5,
   "metadata": {},
   "outputs": [],
   "source": [
    "junshi = df2.to_dict(orient='records') \n",
    "nba = df1.to_dict(orient='records')\n",
    "gaokao = df0.to_dict(orient='records')"
   ]
  },
  {
   "cell_type": "code",
   "execution_count": 6,
   "metadata": {},
   "outputs": [],
   "source": [
    "lable = []\n",
    "for i in range(len(junshi[3])-1):\n",
    "    lable.append(0)\n",
    "for i in range(len(junshi[3])-1,len(junshi[3])-1+len(gaokao[3])-1):\n",
    "    lable.append(1)\n",
    "for i in range(len(junshi[3])-1+len(gaokao[3])-1,len(junshi[3])-1+len(gaokao[3])-1+len(nba[3])-1):\n",
    "    lable.append(2)\n"
   ]
  },
  {
   "cell_type": "code",
   "execution_count": 7,
   "metadata": {},
   "outputs": [],
   "source": [
    "data1 = []\n",
    "for w in junshi[3]:\n",
    "        data1.append(junshi[3][w])\n",
    "for w in gaokao[3]:\n",
    "        data1.append(gaokao[3][w])\n",
    "for w in nba[3]:\n",
    "        data1.append(nba[3][w])"
   ]
  },
  {
   "cell_type": "code",
   "execution_count": 8,
   "metadata": {},
   "outputs": [
    {
     "data": {
      "text/plain": [
       "'acticle'"
      ]
     },
     "execution_count": 8,
     "metadata": {},
     "output_type": "execute_result"
    }
   ],
   "source": [
    "data1.pop(0)\n",
    "data1.pop(198)\n",
    "data1.pop(498)"
   ]
  },
  {
   "cell_type": "code",
   "execution_count": 9,
   "metadata": {},
   "outputs": [],
   "source": [
    "import re\n",
    "li = []\n",
    "for i in range(len(data1)):\n",
    "    reg = \"[^\\u4e00-\\u9fa5]\"\n",
    "    li.append(re.sub(reg,'',data1[i]))"
   ]
  },
  {
   "cell_type": "code",
   "execution_count": 10,
   "metadata": {},
   "outputs": [
    {
     "name": "stderr",
     "output_type": "stream",
     "text": [
      "Building prefix dict from the default dictionary ...\n",
      "Loading model from cache C:\\Users\\14982\\AppData\\Local\\Temp\\jieba.cache\n",
      "Loading model cost 1.026 seconds.\n",
      "Prefix dict has been built successfully.\n"
     ]
    }
   ],
   "source": [
    "import jieba\n",
    "for  w  in range(len(li)):\n",
    "    data1[w]=jieba.lcut(li[w])"
   ]
  },
  {
   "cell_type": "code",
   "execution_count": 11,
   "metadata": {},
   "outputs": [],
   "source": [
    "X_train = []\n",
    "for i in  range(len(data1)):\n",
    "    X_train.append(' '.join(data1[i]))"
   ]
  },
  {
   "cell_type": "code",
   "execution_count": 12,
   "metadata": {},
   "outputs": [],
   "source": [
    "from sklearn.feature_extraction.text import TfidfVectorizer as TFIDF\n",
    "tfidf = TFIDF().fit(X_train)\n",
    "Xtrain_ = tfidf.transform(X_train)"
   ]
  },
  {
   "cell_type": "code",
   "execution_count": null,
   "metadata": {},
   "outputs": [],
   "source": []
  },
  {
   "cell_type": "code",
   "execution_count": 13,
   "metadata": {},
   "outputs": [
    {
     "data": {
      "text/plain": [
       "MultinomialNB(alpha=1.0, class_prior=None, fit_prior=True)"
      ]
     },
     "execution_count": 13,
     "metadata": {},
     "output_type": "execute_result"
    }
   ],
   "source": [
    "from sklearn.naive_bayes import MultinomialNB\n",
    "from sklearn.metrics import brier_score_loss as B\n",
    "clf = MultinomialNB()\n",
    "clf.fit(Xtrain_,lable)"
   ]
  },
  {
   "cell_type": "code",
   "execution_count": 18,
   "metadata": {},
   "outputs": [],
   "source": [
    "import win32ui\n",
    "\n",
    "dlg = win32ui.CreateFileDialog(1)  # 1表示打开文件对话框\n",
    "dlg.SetOFNInitialDir('E:/Python')  # 设置打开文件对话框中的初始显示目录\n",
    "dlg.DoModal()\n",
    "filename = dlg.GetPathName()  # 获取选择的文件名称"
   ]
  },
  {
   "cell_type": "code",
   "execution_count": 19,
   "metadata": {},
   "outputs": [],
   "source": [
    "fr = open(filename,\"r\")\n",
    "st=fr.read()\n",
    "fr.close() "
   ]
  },
  {
   "cell_type": "code",
   "execution_count": 20,
   "metadata": {},
   "outputs": [],
   "source": [
    "str1 = jieba.lcut(st)"
   ]
  },
  {
   "cell_type": "code",
   "execution_count": 21,
   "metadata": {},
   "outputs": [],
   "source": [
    "stopwords = [line.strip() for line in open('D:\\Python\\Python\\stopwords\\哈工大停用词表.txt',encoding='UTF-8').readlines()]\n",
    "content = []\n",
    "line = []\n",
    "for word in str1:\n",
    "    if word  not in stopwords:\n",
    "             line.append(word) \n",
    "#content.append(line)\n",
    "line = ' '.join(line)\n",
    "line = [line]"
   ]
  },
  {
   "cell_type": "code",
   "execution_count": 22,
   "metadata": {},
   "outputs": [],
   "source": [
    "Xte=tfidf.transform(line)"
   ]
  },
  {
   "cell_type": "code",
   "execution_count": 23,
   "metadata": {},
   "outputs": [],
   "source": [
    "list1=[\"军事\",'高考','NBA']\n",
    "proba =clf.predict_proba(Xte)"
   ]
  },
  {
   "cell_type": "code",
   "execution_count": 24,
   "metadata": {},
   "outputs": [
    {
     "name": "stdout",
     "output_type": "stream",
     "text": [
      "你输入的文章有0.451的概率属于军事\n",
      "你输入的文章有0.132的概率属于高考\n",
      "你输入的文章有0.417的概率属于NBA\n"
     ]
    }
   ],
   "source": [
    "for i in range(3):\n",
    "    y='{:.3f}'.format(proba[0][i])\n",
    "    print('你输入的文章有'+y+'的概率属于'+list1[i])"
   ]
  },
  {
   "cell_type": "code",
   "execution_count": 25,
   "metadata": {},
   "outputs": [],
   "source": [
    "#import tkinter\n",
    "#import tkinter.messagebox #这个是消息框，对话框的关键"
   ]
  },
  {
   "cell_type": "code",
   "execution_count": 26,
   "metadata": {},
   "outputs": [],
   "source": [
    "#tkinter.messagebox.showinfo('结果','你输入的文章有'+y+'的概率属于'+list1[2])"
   ]
  },
  {
   "cell_type": "code",
   "execution_count": 27,
   "metadata": {},
   "outputs": [],
   "source": [
    "from  sklearn.model_selection   import  cross_val_score"
   ]
  },
  {
   "cell_type": "code",
   "execution_count": 28,
   "metadata": {},
   "outputs": [],
   "source": [
    "clf = MultinomialNB()"
   ]
  },
  {
   "cell_type": "code",
   "execution_count": 29,
   "metadata": {},
   "outputs": [],
   "source": [
    "score = cross_val_score(clf,Xtrain_,lable,cv= 10)"
   ]
  },
  {
   "cell_type": "code",
   "execution_count": 30,
   "metadata": {},
   "outputs": [
    {
     "data": {
      "text/plain": [
       "array([0.96460177, 0.97345133, 0.94690265, 0.99115044, 0.97321429,\n",
       "       0.96428571, 0.97321429, 0.98214286, 0.96396396, 0.98198198])"
      ]
     },
     "execution_count": 30,
     "metadata": {},
     "output_type": "execute_result"
    }
   ],
   "source": [
    "score"
   ]
  },
  {
   "cell_type": "code",
   "execution_count": 31,
   "metadata": {},
   "outputs": [
    {
     "data": {
      "text/plain": [
       "0.9714909283493354"
      ]
     },
     "execution_count": 31,
     "metadata": {},
     "output_type": "execute_result"
    }
   ],
   "source": [
    "score.mean()"
   ]
  },
  {
   "cell_type": "markdown",
   "metadata": {},
   "source": [
    "# PCA数据降维 可视化"
   ]
  },
  {
   "cell_type": "code",
   "execution_count": 32,
   "metadata": {},
   "outputs": [],
   "source": [
    "import matplotlib.pyplot as plt\n",
    "from sklearn.datasets import load_iris\n",
    "from sklearn.decomposition import PCA\n",
    "from sklearn.decomposition import TruncatedSVD as SVD\n"
   ]
  },
  {
   "cell_type": "code",
   "execution_count": 33,
   "metadata": {},
   "outputs": [
    {
     "data": {
      "text/plain": [
       "<1122x25225 sparse matrix of type '<class 'numpy.float64'>'\n",
       "\twith 186106 stored elements in Compressed Sparse Row format>"
      ]
     },
     "execution_count": 33,
     "metadata": {},
     "output_type": "execute_result"
    }
   ],
   "source": [
    "Xtrain_"
   ]
  },
  {
   "cell_type": "code",
   "execution_count": 34,
   "metadata": {},
   "outputs": [
    {
     "data": {
      "text/plain": [
       "array([[ 0.06818664,  0.06107945],\n",
       "       [ 0.03354602,  0.02071337],\n",
       "       [ 0.03315549,  0.03181025],\n",
       "       ...,\n",
       "       [ 0.20723703, -0.02524075],\n",
       "       [ 0.27950708, -0.06174674],\n",
       "       [ 0.41432825, -0.10708334]])"
      ]
     },
     "execution_count": 34,
     "metadata": {},
     "output_type": "execute_result"
    }
   ],
   "source": [
    "pca = SVD(n_components=2)           #实例化\n",
    "pca = pca.fit(Xtrain_)                    #拟合模型\n",
    "X_dr = pca.transform(Xtrain_)             #获取新矩阵\n",
    " \n",
    "X_dr"
   ]
  },
  {
   "cell_type": "code",
   "execution_count": 35,
   "metadata": {},
   "outputs": [
    {
     "data": {
      "text/plain": [
       "array([False, False, False, ..., False, False, False])"
      ]
     },
     "execution_count": 35,
     "metadata": {},
     "output_type": "execute_result"
    }
   ],
   "source": [
    "import numpy as np\n",
    "type(lable)\n",
    "y= np.array(lable)\n",
    "y==1"
   ]
  },
  {
   "cell_type": "code",
   "execution_count": 36,
   "metadata": {},
   "outputs": [
    {
     "data": {
      "text/plain": [
       "array([0.1329442 , 0.12500181, 0.16939032, 0.19035402, 0.10690591,\n",
       "       0.10424844, 0.13828783, 0.13764752, 0.13612959, 0.10691476,\n",
       "       0.1151188 , 0.14952489, 0.10917698, 0.16462766, 0.19440088,\n",
       "       0.15603281, 0.1851673 , 0.1353267 , 0.15202866, 0.07068005,\n",
       "       0.18906489, 0.15420234, 0.09885292, 0.04779868, 0.09006972,\n",
       "       0.10712491, 0.14476587, 0.10972104, 0.18764576, 0.09063352,\n",
       "       0.09358315, 0.08096365, 0.07893553, 0.19954769, 0.17986317,\n",
       "       0.11492176, 0.08518348, 0.1842998 , 0.13771834, 0.18267141,\n",
       "       0.10145109, 0.13935773, 0.15851368, 0.18023996, 0.20915979,\n",
       "       0.10164021, 0.11980455, 0.13570676, 0.10427047, 0.2034371 ,\n",
       "       0.13835519, 0.07790522, 0.08144781, 0.09423163, 0.09099573,\n",
       "       0.10000046, 0.09692729, 0.11499924, 0.06990945, 0.19992189,\n",
       "       0.20503243, 0.17860139, 0.17540187, 0.11590434, 0.15413636,\n",
       "       0.11355774, 0.1527757 , 0.10430947, 0.20095579, 0.04474442,\n",
       "       0.1604783 , 0.13612568, 0.19981305, 0.10845646, 0.04485184,\n",
       "       0.14483649, 0.15397807, 0.20354707, 0.20982342, 0.07680136,\n",
       "       0.17488328, 0.12802012, 0.11480232, 0.08505455, 0.0944212 ,\n",
       "       0.07760215, 0.08265348, 0.10759195, 0.10024639, 0.16548431,\n",
       "       0.13176559, 0.13280559, 0.1159002 , 0.14047953, 0.17086552,\n",
       "       0.11160919, 0.09487831, 0.01862253, 0.10966222, 0.08038872,\n",
       "       0.06821624, 0.1891739 , 0.10492252, 0.1418632 , 0.13923687,\n",
       "       0.08301573, 0.1048026 , 0.16649763, 0.16202653, 0.13325191,\n",
       "       0.09764655, 0.10154718, 0.11830345, 0.13225072, 0.1010121 ,\n",
       "       0.1008176 , 0.07418415, 0.11368461, 0.08894847, 0.06676044,\n",
       "       0.09713039, 0.07977432, 0.14638745, 0.12809051, 0.10070023,\n",
       "       0.17314343, 0.07760215, 0.18793671, 0.17712241, 0.13913857,\n",
       "       0.19560034, 0.21312606, 0.19210764, 0.17294331, 0.10325292,\n",
       "       0.07437968, 0.11419276, 0.1055741 , 0.07383896, 0.07592741,\n",
       "       0.11713286, 0.06388534, 0.14112723, 0.11336523, 0.09754151,\n",
       "       0.09964313, 0.10689661, 0.13528572, 0.08114884, 0.11599063,\n",
       "       0.11415936, 0.06904237, 0.15158445, 0.07919797, 0.11748348,\n",
       "       0.13497213, 0.11373598, 0.14253531, 0.10303262, 0.10743395,\n",
       "       0.16608348, 0.09375134, 0.07237836, 0.0812479 , 0.0983149 ,\n",
       "       0.1462427 , 0.11983295, 0.11792666, 0.08160614, 0.11431495,\n",
       "       0.08617497, 0.05905972, 0.07815872, 0.03893   , 0.09570671,\n",
       "       0.06259865, 0.14606654, 0.1066049 , 0.06638572, 0.05994726,\n",
       "       0.05879941, 0.05263946, 0.05983939, 0.04618495, 0.08852358,\n",
       "       0.06115951, 0.12451909, 0.12201442, 0.17599233, 0.12991814,\n",
       "       0.07558107, 0.08055632, 0.0781568 , 0.05303392, 0.14941438,\n",
       "       0.06292232, 0.0821757 , 0.10491856, 0.09372402, 0.08811969,\n",
       "       0.13671731, 0.13182808, 0.06322623, 0.09784041, 0.083747  ,\n",
       "       0.06192173, 0.05226937, 0.10443091, 0.046473  , 0.10850814,\n",
       "       0.08013444, 0.05689586, 0.06646609, 0.09865292, 0.06470462,\n",
       "       0.08511279, 0.09867344, 0.1082126 , 0.08576899, 0.11614953,\n",
       "       0.13316793, 0.13535718, 0.13213055, 0.10375651, 0.11104747,\n",
       "       0.08735785, 0.10876043, 0.11783227, 0.11378996, 0.086084  ,\n",
       "       0.10648415, 0.10507232, 0.113518  , 0.10988455, 0.10881161,\n",
       "       0.10518553, 0.11871968, 0.11226234, 0.12401374, 0.11102705,\n",
       "       0.1267859 , 0.12136901, 0.12037197, 0.1250532 , 0.09840638,\n",
       "       0.07683013, 0.08266597, 0.08195925, 0.05114888, 0.04265988,\n",
       "       0.11390419, 0.07168409, 0.14362364, 0.09497165, 0.04501348,\n",
       "       0.07830173, 0.10264133, 0.08640085, 0.06896742, 0.08425639,\n",
       "       0.12241332, 0.08820332, 0.10180119, 0.07050617, 0.05801706,\n",
       "       0.06633754, 0.06980554, 0.06958334, 0.06005544, 0.09734336,\n",
       "       0.08762971, 0.05348433, 0.08337829, 0.0649813 , 0.073638  ,\n",
       "       0.04661483, 0.08563901, 0.04124769, 0.07158268, 0.13618515,\n",
       "       0.10128178, 0.08825561, 0.07107772, 0.03631314, 0.04614693,\n",
       "       0.09603167, 0.06131506, 0.08581865, 0.1047939 , 0.129574  ,\n",
       "       0.19135924, 0.13324935, 0.07931605, 0.12959497, 0.17667165,\n",
       "       0.16337748, 0.03718791, 0.05326189, 0.11125725, 0.10756345])"
      ]
     },
     "execution_count": 36,
     "metadata": {},
     "output_type": "execute_result"
    }
   ],
   "source": [
    "X_dr[y==1, 0] #这里是布尔索引，看出来了么"
   ]
  },
  {
   "cell_type": "code",
   "execution_count": 37,
   "metadata": {},
   "outputs": [
    {
     "data": {
      "image/png": "[encoded data removed]",
      "text/plain": [
       "<Figure size 432x288 with 1 Axes>"
      ]
     },
     "metadata": {},
     "output_type": "display_data"
    }
   ],
   "source": [
    "colors = ['red', 'black', 'orange']\n",
    "list1=[\"junshi\",'gaokao','NBA'] \n",
    "plt.figure()\n",
    "for i in [0, 1, 2]:\n",
    "    plt.scatter(X_dr[y == i, 0]\n",
    "                ,X_dr[y == i, 1]\n",
    "                ,alpha=.7#指画出的图像的透明度\n",
    "                ,c=colors[i]\n",
    "                ,label=list1[i]\n",
    "               )\n",
    "plt.legend()#图例\n",
    "plt.title('PCA of IRIS dataset')\n",
    "plt.show()"
   ]
  },
  {
   "cell_type": "code",
   "execution_count": null,
   "metadata": {},
   "outputs": [],
   "source": []
  }
 ],
 "metadata": {
  "kernelspec": {
   "display_name": "Python 3",
   "language": "python",
   "name": "python3"
  },
  "language_info": {
   "codemirror_mode": {
    "name": "ipython",
    "version": 3
   },
   "file_extension": ".py",
   "mimetype": "text/x-python",
   "name": "python",
   "nbconvert_exporter": "python",
   "pygments_lexer": "ipython3",
   "version": "3.6.5"
  }
 },
 "nbformat": 4,
 "nbformat_minor": 2
}
