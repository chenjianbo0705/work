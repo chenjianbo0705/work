{
 "cells": [
  {
   "cell_type": "code",
   "execution_count": 1,
   "metadata": {},
   "outputs": [],
   "source": [
    "import pandas as pd\n",
    "import requests\n",
    "from bs4 import BeautifulSoup\n",
    "from tqdm import tqdm\n",
    "import sqlite3"
   ]
  },
  {
   "cell_type": "code",
   "execution_count": 2,
   "metadata": {},
   "outputs": [],
   "source": [
    "r = requests.get('http://sports.sina.com.cn/nba/5.shtml')\n",
    "r.encoding = 'utf-8'\n",
    "soup = BeautifulSoup(r.text,'html.parser')"
   ]
  },
  {
   "cell_type": "code",
   "execution_count": 3,
   "metadata": {},
   "outputs": [],
   "source": [
    "new =soup.find(id='S_Cont_11')"
   ]
  },
  {
   "cell_type": "code",
   "execution_count": 5,
   "metadata": {},
   "outputs": [
    {
     "data": {
      "text/plain": [
       "bs4.element.Tag"
      ]
     },
     "execution_count": 5,
     "metadata": {},
     "output_type": "execute_result"
    }
   ],
   "source": [
    "new"
   ]
  },
  {
   "cell_type": "code",
   "execution_count": 8,
   "metadata": {},
   "outputs": [],
   "source": [
    "new.find(id='S_Cont_11')"
   ]
  },
  {
   "cell_type": "code",
   "execution_count": 9,
   "metadata": {},
   "outputs": [
    {
     "data": {
      "text/plain": [
       "70"
      ]
     },
     "execution_count": 9,
     "metadata": {},
     "output_type": "execute_result"
    }
   ],
   "source": [
    "ss=new.find_all('a')\n",
    "len(ss)"
   ]
  },
  {
   "cell_type": "code",
   "execution_count": 10,
   "metadata": {},
   "outputs": [
    {
     "data": {
      "text/plain": [
       "70"
      ]
     },
     "execution_count": 10,
     "metadata": {},
     "output_type": "execute_result"
    }
   ],
   "source": [
    "sd = new.find_all('span')\n",
    "len(sd)"
   ]
  },
  {
   "cell_type": "code",
   "execution_count": 11,
   "metadata": {},
   "outputs": [
    {
     "data": {
      "text/plain": [
       "<a href=\"https://sports.sina.com.cn/basketball/nba/2020-02-26/doc-iimxyqvz5921144.shtml\" target=\"_blank\">去没去追悼会？詹姆斯回应了，黑子们又高潮了</a>"
      ]
     },
     "execution_count": 11,
     "metadata": {},
     "output_type": "execute_result"
    }
   ],
   "source": [
    "new.find_all('a')[0]"
   ]
  },
  {
   "cell_type": "code",
   "execution_count": 12,
   "metadata": {},
   "outputs": [
    {
     "data": {
      "text/plain": [
       "'https://sports.sina.com.cn/basketball/nba/2020-02-26/doc-iimxyqvz5921144.shtml'"
      ]
     },
     "execution_count": 12,
     "metadata": {},
     "output_type": "execute_result"
    }
   ],
   "source": [
    "new.find_all('a')[0]['href']"
   ]
  },
  {
   "cell_type": "code",
   "execution_count": 13,
   "metadata": {},
   "outputs": [
    {
     "data": {
      "text/plain": [
       "'02/26 21:04:30'"
      ]
     },
     "execution_count": 13,
     "metadata": {},
     "output_type": "execute_result"
    }
   ],
   "source": [
    "new.find_all('span')[0].text"
   ]
  },
  {
   "cell_type": "code",
   "execution_count": 14,
   "metadata": {},
   "outputs": [],
   "source": [
    "news_dict = {'title':[],'href':[],'time':[],'acticle':[]}"
   ]
  },
  {
   "cell_type": "code",
   "execution_count": 15,
   "metadata": {},
   "outputs": [
    {
     "name": "stderr",
     "output_type": "stream",
     "text": [
      "100%|███████████████████████████████████████████████████████████████████████████████| 70/70 [00:00<00:00, 69955.03it/s]\n"
     ]
    }
   ],
   "source": [
    "for i in tqdm(ss):\n",
    "    href = i['href']\n",
    "    title = i.text\n",
    "    news_dict['title'].append(title)\n",
    "    news_dict['href'].append(href)\n",
    "for w in sd:\n",
    "    data = w\n",
    "    news_dict['time'].append(w)"
   ]
  },
  {
   "cell_type": "code",
   "execution_count": 16,
   "metadata": {},
   "outputs": [
    {
     "data": {
      "text/plain": [
       "['https://sports.sina.com.cn/basketball/nba/2020-02-26/doc-iimxyqvz5921144.shtml',\n",
       " 'https://sports.sina.com.cn/basketball/nba/2020-02-26/doc-iimxxstf4590462.shtml',\n",
       " 'https://sports.sina.com.cn/basketball/nba/2020-02-26/doc-iimxxstf4519713.shtml',\n",
       " 'https://sports.sina.com.cn/basketball/nba/2020-02-26/doc-iimxyqvz5952137.shtml',\n",
       " 'https://sports.sina.com.cn/basketball/nba/2020-02-26/doc-iimxxstf4503941.shtml',\n",
       " 'https://sports.sina.com.cn/basketball/nba/2020-02-26/doc-iimxxstf4503182.shtml',\n",
       " 'https://sports.sina.com.cn/basketball/nba/2020-02-26/doc-iimxyqvz5938369.shtml',\n",
       " 'https://sports.sina.com.cn/basketball/nba/2020-02-26/doc-iimxxstf4497793.shtml',\n",
       " 'https://sports.sina.com.cn/basketball/nba/2020-02-26/doc-iimxyqvz5936590.shtml',\n",
       " 'https://sports.sina.com.cn/basketball/nba/2020-02-26/doc-iimxxstf4491737.shtml',\n",
       " 'https://sports.sina.com.cn/basketball/nba/2020-02-26/doc-iimxyqvz5913499.shtml',\n",
       " 'https://sports.sina.com.cn/basketball/nba/2020-02-26/doc-iimxyqvz5905236.shtml',\n",
       " 'https://sports.sina.com.cn/basketball/nba/2020-02-26/doc-iimxxstf4422484.shtml',\n",
       " 'https://sports.sina.com.cn/basketball/nba/2020-02-26/doc-iimxyqvz5853897.shtml',\n",
       " 'https://sports.sina.com.cn/basketball/nba/2020-02-26/doc-iimxxstf4414054.shtml',\n",
       " 'https://sports.sina.com.cn/basketball/nba/2020-02-26/doc-iimxyqvz5845737.shtml',\n",
       " 'https://sports.sina.com.cn/basketball/nba/2020-02-26/doc-iimxxstf4394793.shtml',\n",
       " 'https://sports.sina.com.cn/basketball/nba/2020-02-26/doc-iimxxstf4394220.shtml',\n",
       " 'https://sports.sina.com.cn/basketball/nba/2020-02-26/doc-iimxxstf4378188.shtml',\n",
       " 'https://sports.sina.com.cn/basketball/nba/2020-02-25/doc-iimxyqvz5649477.shtml',\n",
       " 'https://sports.sina.com.cn/basketball/nba/2020-02-25/doc-iimxyqvz5700605.shtml',\n",
       " 'https://sports.sina.com.cn/basketball/nba/2020-02-25/doc-iimxyqvz5664921.shtml',\n",
       " 'https://sports.sina.com.cn/basketball/nba/2020-02-25/doc-iimxyqvz5649865.shtml',\n",
       " 'https://sports.sina.com.cn/basketball/nba/2020-02-25/doc-iimxxstf4165963.shtml',\n",
       " 'https://sports.sina.com.cn/basketball/nba/2020-02-25/doc-iimxxstf4149488.shtml',\n",
       " 'https://sports.sina.com.cn/basketball/nba/2020-02-25/doc-iimxyqvz5571579.shtml',\n",
       " 'https://sports.sina.com.cn/basketball/nba/2020-02-25/doc-iimxyqvz5559609.shtml',\n",
       " 'https://sports.sina.com.cn/basketball/nba/2020-02-25/doc-iimxxstf3968220.shtml',\n",
       " 'https://sports.sina.com.cn/basketball/nba/2020-02-25/doc-iimxyqvz5558129.shtml',\n",
       " 'https://sports.sina.com.cn/basketball/nba/2020-02-25/doc-iimxxstf4118386.shtml',\n",
       " 'https://sports.sina.com.cn/basketball/nba/2020-02-25/doc-iimxyqvz5557643.shtml',\n",
       " 'https://sports.sina.com.cn/basketball/nba/2020-02-25/doc-iimxxstf4115807.shtml',\n",
       " 'https://sports.sina.com.cn/basketball/nba/2020-02-25/doc-iimxxstf4115757.shtml',\n",
       " 'https://sports.sina.com.cn/basketball/nba/2020-02-25/doc-iimxyqvz5553781.shtml',\n",
       " 'https://sports.sina.com.cn/basketball/nba/2020-02-25/doc-iimxyqvz5547630.shtml',\n",
       " 'https://sports.sina.com.cn/basketball/nba/2020-02-24/doc-iimxyqvz5419097.shtml',\n",
       " 'https://sports.sina.com.cn/basketball/nba/2020-02-24/doc-iimxyqvz5418189.shtml',\n",
       " 'https://sports.sina.com.cn/basketball/nba/2020-02-24/doc-iimxxstf3979663.shtml',\n",
       " 'https://sports.sina.com.cn/basketball/nba/2020-02-24/doc-iimxxstf3963760.shtml',\n",
       " 'https://sports.sina.com.cn/basketball/nba/2020-02-24/doc-iimxyqvz5391184.shtml',\n",
       " 'https://sports.sina.com.cn/basketball/nba/2020-02-24/doc-iimxxstf3893453.shtml',\n",
       " 'https://sports.sina.com.cn/basketball/nba/2020-02-24/doc-iimxyqvz5318992.shtml',\n",
       " 'https://sports.sina.com.cn/basketball/nba/2020-02-24/doc-iimxxstf3867103.shtml',\n",
       " 'https://sports.sina.com.cn/basketball/nba/2020-02-24/doc-iimxyqvz5306356.shtml',\n",
       " 'https://sports.sina.com.cn/basketball/nba/2020-02-24/doc-iimxxstf3862121.shtml',\n",
       " 'https://sports.sina.com.cn/basketball/nba/2020-02-24/doc-iimxyqvz5302391.shtml',\n",
       " 'https://sports.sina.com.cn/basketball/nba/2020-02-24/doc-iimxyqvz5301683.shtml',\n",
       " 'https://sports.sina.com.cn/basketball/nba/2020-02-24/doc-iimxyqvz5301352.shtml',\n",
       " 'https://sports.sina.com.cn/basketball/nba/2020-02-24/doc-iimxxstf3858099.shtml',\n",
       " 'https://sports.sina.com.cn/basketball/nba/2020-02-24/doc-iimxxstf3853286.shtml',\n",
       " 'https://sports.sina.com.cn/basketball/nba/2020-02-24/doc-iimxxstf3731862.shtml',\n",
       " 'https://sports.sina.com.cn/basketball/nba/2020-02-24/doc-iimxyqvz5170584.shtml',\n",
       " 'https://sports.sina.com.cn/basketball/nba/2020-02-24/doc-iimxyqvz5292550.shtml',\n",
       " 'https://sports.sina.com.cn/basketball/nba/2020-02-23/doc-iimxxstf3645743.shtml',\n",
       " 'https://sports.sina.com.cn/basketball/nba/2020-02-23/doc-iimxxstf3645600.shtml',\n",
       " 'https://sports.sina.com.cn/basketball/nba/2020-02-23/doc-iimxyqvz4953874.shtml',\n",
       " 'https://sports.sina.com.cn/basketball/nba/2020-02-23/doc-iimxxstf3510927.shtml',\n",
       " 'https://sports.sina.com.cn/basketball/nba/2020-02-23/doc-iimxyqvz4950991.shtml',\n",
       " 'https://sports.sina.com.cn/basketball/nba/2020-02-23/doc-iimxyqvz4951383.shtml',\n",
       " 'https://sports.sina.com.cn/basketball/nba/2020-02-23/doc-iimxyqvz4950296.shtml',\n",
       " 'https://sports.sina.com.cn/basketball/nba/2020-02-22/doc-iimxxstf3507690.shtml',\n",
       " 'https://sports.sina.com.cn/basketball/nba/2020-02-22/doc-iimxyqvz4975242.shtml',\n",
       " 'https://sports.sina.com.cn/basketball/nba/2020-02-22/doc-iimxyqvz4968005.shtml',\n",
       " 'https://sports.sina.com.cn/basketball/nba/2020-02-22/doc-iimxyqvz4963115.shtml',\n",
       " 'https://sports.sina.com.cn/basketball/nba/2020-02-22/doc-iimxyqvz4960040.shtml',\n",
       " 'https://sports.sina.com.cn/basketball/nba/2020-02-22/doc-iimxxstf3518129.shtml',\n",
       " 'https://sports.sina.com.cn/basketball/nba/2020-02-22/doc-iimxxstf3517854.shtml',\n",
       " 'https://sports.sina.com.cn/basketball/nba/2020-02-22/doc-iimxxstf3516687.shtml',\n",
       " 'https://sports.sina.com.cn/basketball/nba/2020-02-22/doc-iimxyqvz4957228.shtml',\n",
       " 'https://sports.sina.com.cn/basketball/nba/2020-02-22/doc-iimxyqvz4955429.shtml']"
      ]
     },
     "execution_count": 16,
     "metadata": {},
     "output_type": "execute_result"
    }
   ],
   "source": [
    "news_dict['href']\n",
    "len(news_dict['href'])\n",
    "news_dict['href']"
   ]
  },
  {
   "cell_type": "code",
   "execution_count": 17,
   "metadata": {},
   "outputs": [
    {
     "ename": "IndexError",
     "evalue": "list index out of range",
     "output_type": "error",
     "traceback": [
      "\u001b[1;31m---------------------------------------------------------------------------\u001b[0m",
      "\u001b[1;31mIndexError\u001b[0m                                Traceback (most recent call last)",
      "\u001b[1;32m<ipython-input-17-0b44fd933b61>\u001b[0m in \u001b[0;36m<module>\u001b[1;34m\u001b[0m\n\u001b[1;32m----> 1\u001b[1;33m \u001b[0mres\u001b[0m \u001b[1;33m=\u001b[0m \u001b[0mrequests\u001b[0m\u001b[1;33m.\u001b[0m\u001b[0mget\u001b[0m\u001b[1;33m(\u001b[0m\u001b[0mnews_dict\u001b[0m\u001b[1;33m[\u001b[0m\u001b[1;34m'href'\u001b[0m\u001b[1;33m]\u001b[0m\u001b[1;33m[\u001b[0m\u001b[1;36m88\u001b[0m\u001b[1;33m]\u001b[0m\u001b[1;33m)\u001b[0m\u001b[1;33m\u001b[0m\u001b[1;33m\u001b[0m\u001b[0m\n\u001b[0m\u001b[0;32m      2\u001b[0m \u001b[0mres\u001b[0m\u001b[1;33m.\u001b[0m\u001b[0mencoding\u001b[0m \u001b[1;33m=\u001b[0m \u001b[1;34m'utf-8'\u001b[0m\u001b[1;33m\u001b[0m\u001b[1;33m\u001b[0m\u001b[0m\n\u001b[0;32m      3\u001b[0m \u001b[0msoup\u001b[0m \u001b[1;33m=\u001b[0m \u001b[0mBeautifulSoup\u001b[0m\u001b[1;33m(\u001b[0m\u001b[0mres\u001b[0m\u001b[1;33m.\u001b[0m\u001b[0mtext\u001b[0m\u001b[1;33m,\u001b[0m\u001b[1;34m'html.parser'\u001b[0m\u001b[1;33m)\u001b[0m\u001b[1;33m\u001b[0m\u001b[1;33m\u001b[0m\u001b[0m\n\u001b[0;32m      4\u001b[0m \u001b[0mnew\u001b[0m \u001b[1;33m=\u001b[0m \u001b[0msoup\u001b[0m\u001b[1;33m.\u001b[0m\u001b[0mfind\u001b[0m\u001b[1;33m(\u001b[0m\u001b[1;34m'div'\u001b[0m\u001b[1;33m,\u001b[0m\u001b[1;34m'article'\u001b[0m\u001b[1;33m)\u001b[0m\u001b[1;33m\u001b[0m\u001b[1;33m\u001b[0m\u001b[0m\n",
      "\u001b[1;31mIndexError\u001b[0m: list index out of range"
     ]
    }
   ],
   "source": [
    "res = requests.get(news_dict['href'][88])\n",
    "res.encoding = 'utf-8'\n",
    "soup = BeautifulSoup(res.text,'html.parser')\n",
    "new = soup.find('div','article')"
   ]
  },
  {
   "cell_type": "code",
   "execution_count": 18,
   "metadata": {},
   "outputs": [
    {
     "name": "stderr",
     "output_type": "stream",
     "text": [
      "\r",
      "  0%|                                                                                           | 0/70 [00:00<?, ?it/s]"
     ]
    },
    {
     "name": "stdout",
     "output_type": "stream",
     "text": [
      "https://sports.sina.com.cn/basketball/nba/2020-02-26/doc-iimxyqvz5921144.shtml\n"
     ]
    },
    {
     "name": "stderr",
     "output_type": "stream",
     "text": [
      "\r",
      "  1%|█▏                                                                                 | 1/70 [00:00<00:16,  4.17it/s]"
     ]
    },
    {
     "name": "stdout",
     "output_type": "stream",
     "text": [
      "https://sports.sina.com.cn/basketball/nba/2020-02-26/doc-iimxxstf4590462.shtml\n"
     ]
    },
    {
     "name": "stderr",
     "output_type": "stream",
     "text": [
      "\r",
      "  3%|██▎                                                                                | 2/70 [00:00<00:18,  3.64it/s]"
     ]
    },
    {
     "name": "stdout",
     "output_type": "stream",
     "text": [
      "https://sports.sina.com.cn/basketball/nba/2020-02-26/doc-iimxxstf4519713.shtml\n"
     ]
    },
    {
     "name": "stderr",
     "output_type": "stream",
     "text": [
      "\r",
      "  4%|███▌                                                                               | 3/70 [00:00<00:18,  3.71it/s]"
     ]
    },
    {
     "name": "stdout",
     "output_type": "stream",
     "text": [
      "https://sports.sina.com.cn/basketball/nba/2020-02-26/doc-iimxyqvz5952137.shtml\n"
     ]
    },
    {
     "name": "stderr",
     "output_type": "stream",
     "text": [
      "\r",
      "  6%|████▋                                                                              | 4/70 [00:01<00:20,  3.17it/s]"
     ]
    },
    {
     "name": "stdout",
     "output_type": "stream",
     "text": [
      "https://sports.sina.com.cn/basketball/nba/2020-02-26/doc-iimxxstf4503941.shtml\n"
     ]
    },
    {
     "name": "stderr",
     "output_type": "stream",
     "text": [
      "\r",
      "  7%|█████▉                                                                             | 5/70 [00:01<00:21,  3.00it/s]"
     ]
    },
    {
     "name": "stdout",
     "output_type": "stream",
     "text": [
      "https://sports.sina.com.cn/basketball/nba/2020-02-26/doc-iimxxstf4503182.shtml\n"
     ]
    },
    {
     "name": "stderr",
     "output_type": "stream",
     "text": [
      "\r",
      "  9%|███████                                                                            | 6/70 [00:01<00:20,  3.15it/s]"
     ]
    },
    {
     "name": "stdout",
     "output_type": "stream",
     "text": [
      "https://sports.sina.com.cn/basketball/nba/2020-02-26/doc-iimxyqvz5938369.shtml\n"
     ]
    },
    {
     "name": "stderr",
     "output_type": "stream",
     "text": [
      "\r",
      " 10%|████████▎                                                                          | 7/70 [00:02<00:19,  3.29it/s]"
     ]
    },
    {
     "name": "stdout",
     "output_type": "stream",
     "text": [
      "https://sports.sina.com.cn/basketball/nba/2020-02-26/doc-iimxxstf4497793.shtml\n",
      "地址为https://sports.sina.com.cn/basketball/nba/2020-02-26/doc-iimxxstf4497793.shtml新闻抓取失败\n"
     ]
    },
    {
     "name": "stderr",
     "output_type": "stream",
     "text": [
      "\r",
      " 11%|█████████▍                                                                         | 8/70 [00:02<00:19,  3.23it/s]"
     ]
    },
    {
     "name": "stdout",
     "output_type": "stream",
     "text": [
      "https://sports.sina.com.cn/basketball/nba/2020-02-26/doc-iimxyqvz5936590.shtml\n"
     ]
    },
    {
     "name": "stderr",
     "output_type": "stream",
     "text": [
      "\r",
      " 13%|██████████▋                                                                        | 9/70 [00:02<00:16,  3.73it/s]"
     ]
    },
    {
     "name": "stdout",
     "output_type": "stream",
     "text": [
      "https://sports.sina.com.cn/basketball/nba/2020-02-26/doc-iimxxstf4491737.shtml\n"
     ]
    },
    {
     "name": "stderr",
     "output_type": "stream",
     "text": [
      "\r",
      " 14%|███████████▋                                                                      | 10/70 [00:02<00:16,  3.64it/s]"
     ]
    },
    {
     "name": "stdout",
     "output_type": "stream",
     "text": [
      "https://sports.sina.com.cn/basketball/nba/2020-02-26/doc-iimxyqvz5913499.shtml\n"
     ]
    },
    {
     "name": "stderr",
     "output_type": "stream",
     "text": [
      "\r",
      " 16%|████████████▉                                                                     | 11/70 [00:03<00:17,  3.40it/s]"
     ]
    },
    {
     "name": "stdout",
     "output_type": "stream",
     "text": [
      "https://sports.sina.com.cn/basketball/nba/2020-02-26/doc-iimxyqvz5905236.shtml\n"
     ]
    },
    {
     "name": "stderr",
     "output_type": "stream",
     "text": [
      "\r",
      " 17%|██████████████                                                                    | 12/70 [00:03<00:16,  3.51it/s]"
     ]
    },
    {
     "name": "stdout",
     "output_type": "stream",
     "text": [
      "https://sports.sina.com.cn/basketball/nba/2020-02-26/doc-iimxxstf4422484.shtml\n"
     ]
    },
    {
     "name": "stderr",
     "output_type": "stream",
     "text": [
      "\r",
      " 19%|███████████████▏                                                                  | 13/70 [00:04<00:18,  3.01it/s]"
     ]
    },
    {
     "name": "stdout",
     "output_type": "stream",
     "text": [
      "https://sports.sina.com.cn/basketball/nba/2020-02-26/doc-iimxyqvz5853897.shtml\n"
     ]
    },
    {
     "name": "stderr",
     "output_type": "stream",
     "text": [
      "\r",
      " 20%|████████████████▍                                                                 | 14/70 [00:04<00:17,  3.21it/s]"
     ]
    },
    {
     "name": "stdout",
     "output_type": "stream",
     "text": [
      "https://sports.sina.com.cn/basketball/nba/2020-02-26/doc-iimxxstf4414054.shtml\n"
     ]
    },
    {
     "name": "stderr",
     "output_type": "stream",
     "text": [
      "\r",
      " 21%|█████████████████▌                                                                | 15/70 [00:04<00:19,  2.85it/s]"
     ]
    },
    {
     "name": "stdout",
     "output_type": "stream",
     "text": [
      "https://sports.sina.com.cn/basketball/nba/2020-02-26/doc-iimxyqvz5845737.shtml\n"
     ]
    },
    {
     "name": "stderr",
     "output_type": "stream",
     "text": [
      "\r",
      " 23%|██████████████████▋                                                               | 16/70 [00:05<00:18,  2.99it/s]"
     ]
    },
    {
     "name": "stdout",
     "output_type": "stream",
     "text": [
      "https://sports.sina.com.cn/basketball/nba/2020-02-26/doc-iimxxstf4394793.shtml\n"
     ]
    },
    {
     "name": "stderr",
     "output_type": "stream",
     "text": [
      "\r",
      " 24%|███████████████████▉                                                              | 17/70 [00:05<00:17,  3.08it/s]"
     ]
    },
    {
     "name": "stdout",
     "output_type": "stream",
     "text": [
      "https://sports.sina.com.cn/basketball/nba/2020-02-26/doc-iimxxstf4394220.shtml\n"
     ]
    },
    {
     "name": "stderr",
     "output_type": "stream",
     "text": [
      "\r",
      " 26%|█████████████████████                                                             | 18/70 [00:05<00:16,  3.12it/s]"
     ]
    },
    {
     "name": "stdout",
     "output_type": "stream",
     "text": [
      "https://sports.sina.com.cn/basketball/nba/2020-02-26/doc-iimxxstf4378188.shtml\n"
     ]
    },
    {
     "name": "stderr",
     "output_type": "stream",
     "text": [
      "\r",
      " 27%|██████████████████████▎                                                           | 19/70 [00:05<00:16,  3.15it/s]"
     ]
    },
    {
     "name": "stdout",
     "output_type": "stream",
     "text": [
      "https://sports.sina.com.cn/basketball/nba/2020-02-25/doc-iimxyqvz5649477.shtml\n"
     ]
    },
    {
     "name": "stderr",
     "output_type": "stream",
     "text": [
      "\r",
      " 29%|███████████████████████▍                                                          | 20/70 [00:06<00:15,  3.17it/s]"
     ]
    },
    {
     "name": "stdout",
     "output_type": "stream",
     "text": [
      "https://sports.sina.com.cn/basketball/nba/2020-02-25/doc-iimxyqvz5700605.shtml\n"
     ]
    },
    {
     "name": "stderr",
     "output_type": "stream",
     "text": [
      "\r",
      " 30%|████████████████████████▌                                                         | 21/70 [00:06<00:16,  2.93it/s]"
     ]
    },
    {
     "name": "stdout",
     "output_type": "stream",
     "text": [
      "https://sports.sina.com.cn/basketball/nba/2020-02-25/doc-iimxyqvz5664921.shtml\n"
     ]
    },
    {
     "name": "stderr",
     "output_type": "stream",
     "text": [
      "\r",
      " 31%|█████████████████████████▊                                                        | 22/70 [00:06<00:15,  3.17it/s]"
     ]
    },
    {
     "name": "stdout",
     "output_type": "stream",
     "text": [
      "https://sports.sina.com.cn/basketball/nba/2020-02-25/doc-iimxyqvz5649865.shtml\n"
     ]
    },
    {
     "name": "stderr",
     "output_type": "stream",
     "text": [
      "\r",
      " 33%|██████████████████████████▉                                                       | 23/70 [00:07<00:14,  3.30it/s]"
     ]
    },
    {
     "name": "stdout",
     "output_type": "stream",
     "text": [
      "https://sports.sina.com.cn/basketball/nba/2020-02-25/doc-iimxxstf4165963.shtml\n"
     ]
    },
    {
     "name": "stderr",
     "output_type": "stream",
     "text": [
      "\r",
      " 34%|████████████████████████████                                                      | 24/70 [00:07<00:13,  3.39it/s]"
     ]
    },
    {
     "name": "stdout",
     "output_type": "stream",
     "text": [
      "https://sports.sina.com.cn/basketball/nba/2020-02-25/doc-iimxxstf4149488.shtml\n"
     ]
    },
    {
     "name": "stderr",
     "output_type": "stream",
     "text": [
      "\r",
      " 36%|█████████████████████████████▎                                                    | 25/70 [00:07<00:12,  3.74it/s]"
     ]
    },
    {
     "name": "stdout",
     "output_type": "stream",
     "text": [
      "https://sports.sina.com.cn/basketball/nba/2020-02-25/doc-iimxyqvz5571579.shtml\n"
     ]
    },
    {
     "name": "stderr",
     "output_type": "stream",
     "text": [
      "\r",
      " 37%|██████████████████████████████▍                                                   | 26/70 [00:07<00:11,  3.79it/s]"
     ]
    },
    {
     "name": "stdout",
     "output_type": "stream",
     "text": [
      "https://sports.sina.com.cn/basketball/nba/2020-02-25/doc-iimxyqvz5559609.shtml\n"
     ]
    },
    {
     "name": "stderr",
     "output_type": "stream",
     "text": [
      "\r",
      " 39%|███████████████████████████████▋                                                  | 27/70 [00:08<00:12,  3.35it/s]"
     ]
    },
    {
     "name": "stdout",
     "output_type": "stream",
     "text": [
      "https://sports.sina.com.cn/basketball/nba/2020-02-25/doc-iimxxstf3968220.shtml\n"
     ]
    },
    {
     "name": "stderr",
     "output_type": "stream",
     "text": [
      "\r",
      " 40%|████████████████████████████████▊                                                 | 28/70 [00:08<00:13,  3.05it/s]"
     ]
    },
    {
     "name": "stdout",
     "output_type": "stream",
     "text": [
      "https://sports.sina.com.cn/basketball/nba/2020-02-25/doc-iimxyqvz5558129.shtml\n"
     ]
    },
    {
     "name": "stderr",
     "output_type": "stream",
     "text": [
      "\r",
      " 41%|█████████████████████████████████▉                                                | 29/70 [00:09<00:13,  3.03it/s]"
     ]
    },
    {
     "name": "stdout",
     "output_type": "stream",
     "text": [
      "https://sports.sina.com.cn/basketball/nba/2020-02-25/doc-iimxxstf4118386.shtml\n"
     ]
    },
    {
     "name": "stderr",
     "output_type": "stream",
     "text": [
      "\r",
      " 43%|███████████████████████████████████▏                                              | 30/70 [00:09<00:14,  2.81it/s]"
     ]
    },
    {
     "name": "stdout",
     "output_type": "stream",
     "text": [
      "https://sports.sina.com.cn/basketball/nba/2020-02-25/doc-iimxyqvz5557643.shtml\n"
     ]
    },
    {
     "name": "stderr",
     "output_type": "stream",
     "text": [
      "\r",
      " 44%|████████████████████████████████████▎                                             | 31/70 [00:09<00:13,  2.89it/s]"
     ]
    },
    {
     "name": "stdout",
     "output_type": "stream",
     "text": [
      "https://sports.sina.com.cn/basketball/nba/2020-02-25/doc-iimxxstf4115807.shtml\n"
     ]
    },
    {
     "name": "stderr",
     "output_type": "stream",
     "text": [
      "\r",
      " 46%|█████████████████████████████████████▍                                            | 32/70 [00:10<00:12,  3.08it/s]"
     ]
    },
    {
     "name": "stdout",
     "output_type": "stream",
     "text": [
      "https://sports.sina.com.cn/basketball/nba/2020-02-25/doc-iimxxstf4115757.shtml\n"
     ]
    },
    {
     "name": "stderr",
     "output_type": "stream",
     "text": [
      "\r",
      " 47%|██████████████████████████████████████▋                                           | 33/70 [00:10<00:10,  3.54it/s]"
     ]
    },
    {
     "name": "stdout",
     "output_type": "stream",
     "text": [
      "https://sports.sina.com.cn/basketball/nba/2020-02-25/doc-iimxyqvz5553781.shtml\n"
     ]
    },
    {
     "name": "stderr",
     "output_type": "stream",
     "text": [
      "\r",
      " 49%|███████████████████████████████████████▊                                          | 34/70 [00:10<00:11,  3.11it/s]"
     ]
    },
    {
     "name": "stdout",
     "output_type": "stream",
     "text": [
      "https://sports.sina.com.cn/basketball/nba/2020-02-25/doc-iimxyqvz5547630.shtml\n"
     ]
    },
    {
     "name": "stderr",
     "output_type": "stream",
     "text": [
      "\r",
      " 50%|█████████████████████████████████████████                                         | 35/70 [00:10<00:10,  3.40it/s]"
     ]
    },
    {
     "name": "stdout",
     "output_type": "stream",
     "text": [
      "https://sports.sina.com.cn/basketball/nba/2020-02-24/doc-iimxyqvz5419097.shtml\n"
     ]
    },
    {
     "name": "stderr",
     "output_type": "stream",
     "text": [
      "\r",
      " 51%|██████████████████████████████████████████▏                                       | 36/70 [00:11<00:10,  3.15it/s]"
     ]
    },
    {
     "name": "stdout",
     "output_type": "stream",
     "text": [
      "https://sports.sina.com.cn/basketball/nba/2020-02-24/doc-iimxyqvz5418189.shtml\n"
     ]
    },
    {
     "name": "stderr",
     "output_type": "stream",
     "text": [
      "\r",
      " 53%|███████████████████████████████████████████▎                                      | 37/70 [00:11<00:10,  3.09it/s]"
     ]
    },
    {
     "name": "stdout",
     "output_type": "stream",
     "text": [
      "https://sports.sina.com.cn/basketball/nba/2020-02-24/doc-iimxxstf3979663.shtml\n"
     ]
    },
    {
     "name": "stderr",
     "output_type": "stream",
     "text": [
      "\r",
      " 54%|████████████████████████████████████████████▌                                     | 38/70 [00:11<00:09,  3.28it/s]"
     ]
    },
    {
     "name": "stdout",
     "output_type": "stream",
     "text": [
      "https://sports.sina.com.cn/basketball/nba/2020-02-24/doc-iimxxstf3963760.shtml\n"
     ]
    },
    {
     "name": "stderr",
     "output_type": "stream",
     "text": [
      "\r",
      " 56%|█████████████████████████████████████████████▋                                    | 39/70 [00:12<00:09,  3.36it/s]"
     ]
    },
    {
     "name": "stdout",
     "output_type": "stream",
     "text": [
      "https://sports.sina.com.cn/basketball/nba/2020-02-24/doc-iimxyqvz5391184.shtml\n"
     ]
    },
    {
     "name": "stderr",
     "output_type": "stream",
     "text": [
      "\r",
      " 57%|██████████████████████████████████████████████▊                                   | 40/70 [00:12<00:09,  3.08it/s]"
     ]
    },
    {
     "name": "stdout",
     "output_type": "stream",
     "text": [
      "https://sports.sina.com.cn/basketball/nba/2020-02-24/doc-iimxxstf3893453.shtml\n"
     ]
    },
    {
     "name": "stderr",
     "output_type": "stream",
     "text": [
      "\r",
      " 59%|████████████████████████████████████████████████                                  | 41/70 [00:12<00:08,  3.26it/s]"
     ]
    },
    {
     "name": "stdout",
     "output_type": "stream",
     "text": [
      "https://sports.sina.com.cn/basketball/nba/2020-02-24/doc-iimxyqvz5318992.shtml\n"
     ]
    },
    {
     "name": "stderr",
     "output_type": "stream",
     "text": [
      "\r",
      " 60%|█████████████████████████████████████████████████▏                                | 42/70 [00:13<00:09,  2.93it/s]"
     ]
    },
    {
     "name": "stdout",
     "output_type": "stream",
     "text": [
      "https://sports.sina.com.cn/basketball/nba/2020-02-24/doc-iimxxstf3867103.shtml\n"
     ]
    },
    {
     "name": "stderr",
     "output_type": "stream",
     "text": [
      "\r",
      " 61%|██████████████████████████████████████████████████▎                               | 43/70 [00:13<00:08,  3.17it/s]"
     ]
    },
    {
     "name": "stdout",
     "output_type": "stream",
     "text": [
      "https://sports.sina.com.cn/basketball/nba/2020-02-24/doc-iimxyqvz5306356.shtml\n"
     ]
    },
    {
     "name": "stderr",
     "output_type": "stream",
     "text": [
      "\r",
      " 63%|███████████████████████████████████████████████████▌                              | 44/70 [00:13<00:07,  3.27it/s]"
     ]
    },
    {
     "name": "stdout",
     "output_type": "stream",
     "text": [
      "https://sports.sina.com.cn/basketball/nba/2020-02-24/doc-iimxxstf3862121.shtml\n"
     ]
    },
    {
     "name": "stderr",
     "output_type": "stream",
     "text": [
      "\r",
      " 64%|████████████████████████████████████████████████████▋                             | 45/70 [00:13<00:06,  3.61it/s]"
     ]
    },
    {
     "name": "stdout",
     "output_type": "stream",
     "text": [
      "https://sports.sina.com.cn/basketball/nba/2020-02-24/doc-iimxyqvz5302391.shtml\n"
     ]
    },
    {
     "name": "stderr",
     "output_type": "stream",
     "text": [
      "\r",
      " 66%|█████████████████████████████████████████████████████▉                            | 46/70 [00:14<00:06,  3.67it/s]"
     ]
    },
    {
     "name": "stdout",
     "output_type": "stream",
     "text": [
      "https://sports.sina.com.cn/basketball/nba/2020-02-24/doc-iimxyqvz5301683.shtml\n"
     ]
    },
    {
     "name": "stderr",
     "output_type": "stream",
     "text": [
      "\r",
      " 67%|███████████████████████████████████████████████████████                           | 47/70 [00:14<00:06,  3.49it/s]"
     ]
    },
    {
     "name": "stdout",
     "output_type": "stream",
     "text": [
      "https://sports.sina.com.cn/basketball/nba/2020-02-24/doc-iimxyqvz5301352.shtml\n"
     ]
    },
    {
     "name": "stderr",
     "output_type": "stream",
     "text": [
      "\r",
      " 69%|████████████████████████████████████████████████████████▏                         | 48/70 [00:14<00:07,  3.08it/s]"
     ]
    },
    {
     "name": "stdout",
     "output_type": "stream",
     "text": [
      "https://sports.sina.com.cn/basketball/nba/2020-02-24/doc-iimxxstf3858099.shtml\n"
     ]
    },
    {
     "name": "stderr",
     "output_type": "stream",
     "text": [
      "\r",
      " 70%|█████████████████████████████████████████████████████████▍                        | 49/70 [00:15<00:06,  3.11it/s]"
     ]
    },
    {
     "name": "stdout",
     "output_type": "stream",
     "text": [
      "https://sports.sina.com.cn/basketball/nba/2020-02-24/doc-iimxxstf3853286.shtml\n"
     ]
    },
    {
     "name": "stderr",
     "output_type": "stream",
     "text": [
      "\r",
      " 71%|██████████████████████████████████████████████████████████▌                       | 50/70 [00:15<00:06,  3.07it/s]"
     ]
    },
    {
     "name": "stdout",
     "output_type": "stream",
     "text": [
      "https://sports.sina.com.cn/basketball/nba/2020-02-24/doc-iimxxstf3731862.shtml\n"
     ]
    },
    {
     "name": "stderr",
     "output_type": "stream",
     "text": [
      "\r",
      " 73%|███████████████████████████████████████████████████████████▋                      | 51/70 [00:15<00:05,  3.29it/s]"
     ]
    },
    {
     "name": "stdout",
     "output_type": "stream",
     "text": [
      "https://sports.sina.com.cn/basketball/nba/2020-02-24/doc-iimxyqvz5170584.shtml\n"
     ]
    },
    {
     "name": "stderr",
     "output_type": "stream",
     "text": [
      "\r",
      " 74%|████████████████████████████████████████████████████████████▉                     | 52/70 [00:16<00:05,  3.51it/s]"
     ]
    },
    {
     "name": "stdout",
     "output_type": "stream",
     "text": [
      "https://sports.sina.com.cn/basketball/nba/2020-02-24/doc-iimxyqvz5292550.shtml\n"
     ]
    },
    {
     "name": "stderr",
     "output_type": "stream",
     "text": [
      "\r",
      " 76%|██████████████████████████████████████████████████████████████                    | 53/70 [00:16<00:05,  3.37it/s]"
     ]
    },
    {
     "name": "stdout",
     "output_type": "stream",
     "text": [
      "https://sports.sina.com.cn/basketball/nba/2020-02-23/doc-iimxxstf3645743.shtml\n"
     ]
    },
    {
     "name": "stderr",
     "output_type": "stream",
     "text": [
      "\r",
      " 77%|███████████████████████████████████████████████████████████████▎                  | 54/70 [00:16<00:04,  3.23it/s]"
     ]
    },
    {
     "name": "stdout",
     "output_type": "stream",
     "text": [
      "https://sports.sina.com.cn/basketball/nba/2020-02-23/doc-iimxxstf3645600.shtml\n"
     ]
    },
    {
     "name": "stderr",
     "output_type": "stream",
     "text": [
      "\r",
      " 79%|████████████████████████████████████████████████████████████████▍                 | 55/70 [00:17<00:04,  3.16it/s]"
     ]
    },
    {
     "name": "stdout",
     "output_type": "stream",
     "text": [
      "https://sports.sina.com.cn/basketball/nba/2020-02-23/doc-iimxyqvz4953874.shtml\n"
     ]
    },
    {
     "name": "stderr",
     "output_type": "stream",
     "text": [
      "\r",
      " 80%|█████████████████████████████████████████████████████████████████▌                | 56/70 [00:17<00:03,  3.54it/s]"
     ]
    },
    {
     "name": "stdout",
     "output_type": "stream",
     "text": [
      "https://sports.sina.com.cn/basketball/nba/2020-02-23/doc-iimxxstf3510927.shtml\n"
     ]
    },
    {
     "name": "stderr",
     "output_type": "stream",
     "text": [
      "\r",
      " 81%|██████████████████████████████████████████████████████████████████▊               | 57/70 [00:17<00:03,  3.27it/s]"
     ]
    },
    {
     "name": "stdout",
     "output_type": "stream",
     "text": [
      "https://sports.sina.com.cn/basketball/nba/2020-02-23/doc-iimxyqvz4950991.shtml\n"
     ]
    },
    {
     "name": "stderr",
     "output_type": "stream",
     "text": [
      "\r",
      " 83%|███████████████████████████████████████████████████████████████████▉              | 58/70 [00:18<00:03,  3.15it/s]"
     ]
    },
    {
     "name": "stdout",
     "output_type": "stream",
     "text": [
      "https://sports.sina.com.cn/basketball/nba/2020-02-23/doc-iimxyqvz4951383.shtml\n"
     ]
    },
    {
     "name": "stderr",
     "output_type": "stream",
     "text": [
      "\r",
      " 84%|█████████████████████████████████████████████████████████████████████             | 59/70 [00:18<00:03,  3.12it/s]"
     ]
    },
    {
     "name": "stdout",
     "output_type": "stream",
     "text": [
      "https://sports.sina.com.cn/basketball/nba/2020-02-23/doc-iimxyqvz4950296.shtml\n"
     ]
    },
    {
     "name": "stderr",
     "output_type": "stream",
     "text": [
      "\r",
      " 86%|██████████████████████████████████████████████████████████████████████▎           | 60/70 [00:19<00:04,  2.29it/s]"
     ]
    },
    {
     "name": "stdout",
     "output_type": "stream",
     "text": [
      "https://sports.sina.com.cn/basketball/nba/2020-02-22/doc-iimxxstf3507690.shtml\n"
     ]
    },
    {
     "name": "stderr",
     "output_type": "stream",
     "text": [
      "\r",
      " 87%|███████████████████████████████████████████████████████████████████████▍          | 61/70 [00:19<00:03,  2.50it/s]"
     ]
    },
    {
     "name": "stdout",
     "output_type": "stream",
     "text": [
      "https://sports.sina.com.cn/basketball/nba/2020-02-22/doc-iimxyqvz4975242.shtml\n"
     ]
    },
    {
     "name": "stderr",
     "output_type": "stream",
     "text": [
      "\r",
      " 89%|████████████████████████████████████████████████████████████████████████▋         | 62/70 [00:19<00:03,  2.66it/s]"
     ]
    },
    {
     "name": "stdout",
     "output_type": "stream",
     "text": [
      "https://sports.sina.com.cn/basketball/nba/2020-02-22/doc-iimxyqvz4968005.shtml\n",
      "地址为https://sports.sina.com.cn/basketball/nba/2020-02-22/doc-iimxyqvz4968005.shtml新闻抓取失败\n"
     ]
    },
    {
     "name": "stderr",
     "output_type": "stream",
     "text": [
      "\r",
      " 90%|█████████████████████████████████████████████████████████████████████████▊        | 63/70 [00:19<00:02,  3.16it/s]"
     ]
    },
    {
     "name": "stdout",
     "output_type": "stream",
     "text": [
      "https://sports.sina.com.cn/basketball/nba/2020-02-22/doc-iimxyqvz4963115.shtml\n"
     ]
    },
    {
     "name": "stderr",
     "output_type": "stream",
     "text": [
      "\r",
      " 91%|██████████████████████████████████████████████████████████████████████████▉       | 64/70 [00:20<00:01,  3.14it/s]"
     ]
    },
    {
     "name": "stdout",
     "output_type": "stream",
     "text": [
      "https://sports.sina.com.cn/basketball/nba/2020-02-22/doc-iimxyqvz4960040.shtml\n"
     ]
    },
    {
     "name": "stderr",
     "output_type": "stream",
     "text": [
      "\r",
      " 93%|████████████████████████████████████████████████████████████████████████████▏     | 65/70 [00:20<00:01,  2.90it/s]"
     ]
    },
    {
     "name": "stdout",
     "output_type": "stream",
     "text": [
      "https://sports.sina.com.cn/basketball/nba/2020-02-22/doc-iimxxstf3518129.shtml\n"
     ]
    },
    {
     "name": "stderr",
     "output_type": "stream",
     "text": [
      "\r",
      " 94%|█████████████████████████████████████████████████████████████████████████████▎    | 66/70 [00:20<00:01,  2.78it/s]"
     ]
    },
    {
     "name": "stdout",
     "output_type": "stream",
     "text": [
      "https://sports.sina.com.cn/basketball/nba/2020-02-22/doc-iimxxstf3517854.shtml\n"
     ]
    },
    {
     "name": "stderr",
     "output_type": "stream",
     "text": [
      "\r",
      " 96%|██████████████████████████████████████████████████████████████████████████████▍   | 67/70 [00:21<00:01,  2.30it/s]"
     ]
    },
    {
     "name": "stdout",
     "output_type": "stream",
     "text": [
      "https://sports.sina.com.cn/basketball/nba/2020-02-22/doc-iimxxstf3516687.shtml\n"
     ]
    },
    {
     "name": "stderr",
     "output_type": "stream",
     "text": [
      "\r",
      " 97%|███████████████████████████████████████████████████████████████████████████████▋  | 68/70 [00:21<00:00,  2.43it/s]"
     ]
    },
    {
     "name": "stdout",
     "output_type": "stream",
     "text": [
      "https://sports.sina.com.cn/basketball/nba/2020-02-22/doc-iimxyqvz4957228.shtml\n"
     ]
    },
    {
     "name": "stderr",
     "output_type": "stream",
     "text": [
      "\r",
      " 99%|████████████████████████████████████████████████████████████████████████████████▊ | 69/70 [00:22<00:00,  2.55it/s]"
     ]
    },
    {
     "name": "stdout",
     "output_type": "stream",
     "text": [
      "https://sports.sina.com.cn/basketball/nba/2020-02-22/doc-iimxyqvz4955429.shtml\n"
     ]
    },
    {
     "name": "stderr",
     "output_type": "stream",
     "text": [
      "100%|██████████████████████████████████████████████████████████████████████████████████| 70/70 [00:22<00:00,  3.10it/s]\n"
     ]
    }
   ],
   "source": [
    "for i in  tqdm(news_dict['href']):\n",
    "    print(i)\n",
    "    try:\n",
    "        res = requests.get(i)\n",
    "        res.encoding = 'utf-8'\n",
    "        soup = BeautifulSoup(res.text,'html.parser')\n",
    "        new = soup.find('div','article')\n",
    "        st1=new.text.replace(u'\\n\\u3000\\u3000', u' ').replace(u'\\n\\n\\n\\n',u'').replace(u'\\n\\n',u'')\n",
    "    except:\n",
    "        print('地址为{}新闻抓取失败'.format(i))\n",
    "        continue\n",
    "    news_dict['acticle'].append(st1)"
   ]
  },
  {
   "cell_type": "code",
   "execution_count": 19,
   "metadata": {},
   "outputs": [
    {
     "data": {
      "text/plain": [
       "68"
      ]
     },
     "execution_count": 19,
     "metadata": {},
     "output_type": "execute_result"
    }
   ],
   "source": [
    "len(news_dict['acticle'])"
   ]
  },
  {
   "cell_type": "code",
   "execution_count": 20,
   "metadata": {},
   "outputs": [
    {
     "data": {
      "text/html": [
       "<div>\n",
       "<style scoped>\n",
       "    .dataframe tbody tr th:only-of-type {\n",
       "        vertical-align: middle;\n",
       "    }\n",
       "\n",
       "    .dataframe tbody tr th {\n",
       "        vertical-align: top;\n",
       "    }\n",
       "\n",
       "    .dataframe thead th {\n",
       "        text-align: right;\n",
       "    }\n",
       "</style>\n",
       "<table border=\"1\" class=\"dataframe\">\n",
       "  <thead>\n",
       "    <tr style=\"text-align: right;\">\n",
       "      <th></th>\n",
       "      <th>0</th>\n",
       "      <th>1</th>\n",
       "      <th>2</th>\n",
       "      <th>3</th>\n",
       "      <th>4</th>\n",
       "      <th>5</th>\n",
       "      <th>6</th>\n",
       "      <th>7</th>\n",
       "      <th>8</th>\n",
       "      <th>9</th>\n",
       "      <th>...</th>\n",
       "      <th>60</th>\n",
       "      <th>61</th>\n",
       "      <th>62</th>\n",
       "      <th>63</th>\n",
       "      <th>64</th>\n",
       "      <th>65</th>\n",
       "      <th>66</th>\n",
       "      <th>67</th>\n",
       "      <th>68</th>\n",
       "      <th>69</th>\n",
       "    </tr>\n",
       "  </thead>\n",
       "  <tbody>\n",
       "    <tr>\n",
       "      <td>title</td>\n",
       "      <td>去没去追悼会？詹姆斯回应了，黑子们又高潮了</td>\n",
       "      <td>詹姆斯没出席科比追悼会？他本人这么说……</td>\n",
       "      <td>锡安29分不输浓眉!詹姆斯40分,这暴扣哪像35岁?</td>\n",
       "      <td>刚刚！锡安和詹姆斯单挑，老詹亲手教训锡安</td>\n",
       "      <td>头撞板飞帽大球+净胜20分！感受下网红的力量</td>\n",
       "      <td>湖人冲冠最后一块拼图!跟浓眉来电+解放库兹马</td>\n",
       "      <td>赛季新高40+8!詹姆斯追上科比,连得11分仨隔扣</td>\n",
       "      <td>詹姆斯打疯了！赛季最高！隔扣前队友嗨翻全场</td>\n",
       "      <td>38-0!18连胜!西部第一的湖人又多两大定律护体</td>\n",
       "      <td>詹姆斯新高40分锡安29+6 湖人击退鹈鹕获6连胜</td>\n",
       "      <td>...</td>\n",
       "      <td>为了加盟湖人真的拼了，工资全部都不要了！</td>\n",
       "      <td>不会被抢了！湖人拿下第一恶汉，总冠军有谱了</td>\n",
       "      <td>12中11!詹姆斯投疯了!考神被裁，湖人再签一人</td>\n",
       "      <td>深度|替代品+空间四号位!他会是冠军拼图么?</td>\n",
       "      <td>惊艳补扣+净胜23分！大洛杉矶地区唯一的卡皇</td>\n",
       "      <td>17战全胜！湖人又多了一条必胜铁律护身</td>\n",
       "      <td>三分59%防的他14中5！湖人要的顶级3和D他都有</td>\n",
       "      <td>7年来首次胜率过5成!湖人上次这样,科比还健康</td>\n",
       "      <td>NBA仅此一份的双帽！伤后27+13+7帽DPOY该给他</td>\n",
       "      <td>4分半钟0进球!14-1!快忘了湖人防守也曾NBA第1</td>\n",
       "    </tr>\n",
       "    <tr>\n",
       "      <td>href</td>\n",
       "      <td>https://sports.sina.com.cn/basketball/nba/2020...</td>\n",
       "      <td>https://sports.sina.com.cn/basketball/nba/2020...</td>\n",
       "      <td>https://sports.sina.com.cn/basketball/nba/2020...</td>\n",
       "      <td>https://sports.sina.com.cn/basketball/nba/2020...</td>\n",
       "      <td>https://sports.sina.com.cn/basketball/nba/2020...</td>\n",
       "      <td>https://sports.sina.com.cn/basketball/nba/2020...</td>\n",
       "      <td>https://sports.sina.com.cn/basketball/nba/2020...</td>\n",
       "      <td>https://sports.sina.com.cn/basketball/nba/2020...</td>\n",
       "      <td>https://sports.sina.com.cn/basketball/nba/2020...</td>\n",
       "      <td>https://sports.sina.com.cn/basketball/nba/2020...</td>\n",
       "      <td>...</td>\n",
       "      <td>https://sports.sina.com.cn/basketball/nba/2020...</td>\n",
       "      <td>https://sports.sina.com.cn/basketball/nba/2020...</td>\n",
       "      <td>https://sports.sina.com.cn/basketball/nba/2020...</td>\n",
       "      <td>https://sports.sina.com.cn/basketball/nba/2020...</td>\n",
       "      <td>https://sports.sina.com.cn/basketball/nba/2020...</td>\n",
       "      <td>https://sports.sina.com.cn/basketball/nba/2020...</td>\n",
       "      <td>https://sports.sina.com.cn/basketball/nba/2020...</td>\n",
       "      <td>https://sports.sina.com.cn/basketball/nba/2020...</td>\n",
       "      <td>https://sports.sina.com.cn/basketball/nba/2020...</td>\n",
       "      <td>https://sports.sina.com.cn/basketball/nba/2020...</td>\n",
       "    </tr>\n",
       "    <tr>\n",
       "      <td>time</td>\n",
       "      <td>[02/26 21:04:30]</td>\n",
       "      <td>[02/26 19:42:50]</td>\n",
       "      <td>[02/26 15:15:13]</td>\n",
       "      <td>[02/26 14:57:52]</td>\n",
       "      <td>[02/26 14:30:56]</td>\n",
       "      <td>[02/26 14:27:40]</td>\n",
       "      <td>[02/26 14:12:33]</td>\n",
       "      <td>[02/26 14:06:20]</td>\n",
       "      <td>[02/26 14:06:04]</td>\n",
       "      <td>[02/26 13:43:48]</td>\n",
       "      <td>...</td>\n",
       "      <td>[02/22 21:41:05]</td>\n",
       "      <td>[02/22 15:41:11]</td>\n",
       "      <td>[02/22 15:08:46]</td>\n",
       "      <td>[02/22 14:50:20]</td>\n",
       "      <td>[02/22 14:38:26]</td>\n",
       "      <td>[02/22 14:32:51]</td>\n",
       "      <td>[02/22 14:31:50]</td>\n",
       "      <td>[02/22 14:25:28]</td>\n",
       "      <td>[02/22 14:24:00]</td>\n",
       "      <td>[02/22 14:15:45]</td>\n",
       "    </tr>\n",
       "    <tr>\n",
       "      <td>acticle</td>\n",
       "      <td>昨天，60E共赴一场“生命的礼赞” 核心大家都懂，为了送那个男人最后一程，为了送自己的青春...</td>\n",
       "      <td>詹姆斯接受采访 一场原本属于科比-布莱恩特和女儿Gigi的追悼会，居然出现了让人意想不到的插...</td>\n",
       "      <td>等了大半个赛季终于来了 锡安 VS 詹姆斯 虽然不是打一个位置但噱头十足 两个超级状元之间...</td>\n",
       "      <td>via 篮球技巧教学　　 今日多场比赛，其中最为精彩，当属鹈鹕诸将联手踢馆斯台普斯中心。 ...</td>\n",
       "      <td>\\n 北京时间2月26日消息，湖人在主场以118比109战胜新奥尔良鹈鹕，湖人拿到6连胜。在...</td>\n",
       "      <td>\\n 北京时间2月26日消息，洛杉矶湖人在主场有惊无险地以118比109战胜新奥尔良鹈鹕，湖...</td>\n",
       "      <td>\\n 北京时间2月26日，湖人在主场以118-109战胜鹈鹕。湖人当家球星勒布朗-詹姆斯27...</td>\n",
       "      <td>\\n 北京时间2月26日，湖人击败鹈鹕获得6连胜。 根据统计，本赛季至今，当詹姆斯单场得分超...</td>\n",
       "      <td>\\n 北京时间2月26日，湖人在主场以118-109击退了鹈鹕。 湖人（44-12）六连胜。...</td>\n",
       "      <td>\\n 北京时间2月26日，湖人主场迎战鹈鹕。第一节开始后不久，勒布朗-詹姆斯在队友罚球时向锡...</td>\n",
       "      <td>...</td>\n",
       "      <td>大莫里斯将与湖人签约\\n 看似仍远非尽头的五连败，在汽车城略带悲戚的轰鸣声的笼罩下已不再令人...</td>\n",
       "      <td>莫里斯 在经过了一轮又一轮的陪跑之后，湖人终于如愿的当上了主角。 马基夫-莫里斯跟活塞达成了...</td>\n",
       "      <td>\\n 北京时间2月22日，湖人击败灰熊收获4连胜，卡鲁索全场得到9分4篮板1抢断。 全场比赛...</td>\n",
       "      <td>\\n 北京时间2月22日，湖人击败灰熊拿到4连胜，詹姆斯全场拿到了32分7助攻。 这是詹姆斯...</td>\n",
       "      <td>\\n 北京时间2月22日消息，洛杉矶湖人主场以117比105击败孟菲斯灰熊，湖人拿到4连胜。...</td>\n",
       "      <td>\\n 北京时间2月22日，湖人主场117-105击败灰熊，在获得4连胜的同时也拿到了本赛季第...</td>\n",
       "      <td>\\n 北京时间2月22日，洛杉矶湖人队主场迎战孟菲斯灰熊，此役两队激战四节，最终湖人以117...</td>\n",
       "      <td>\\n 北京时间2月22日，洛杉矶湖人队主场以117比105战胜孟菲斯灰熊，取得四连胜。本场比...</td>\n",
       "      <td>None</td>\n",
       "      <td>None</td>\n",
       "    </tr>\n",
       "  </tbody>\n",
       "</table>\n",
       "<p>4 rows × 70 columns</p>\n",
       "</div>"
      ],
      "text/plain": [
       "                                                        0   \\\n",
       "title                                去没去追悼会？詹姆斯回应了，黑子们又高潮了   \n",
       "href     https://sports.sina.com.cn/basketball/nba/2020...   \n",
       "time                                      [02/26 21:04:30]   \n",
       "acticle   昨天，60E共赴一场“生命的礼赞” 核心大家都懂，为了送那个男人最后一程，为了送自己的青春...   \n",
       "\n",
       "                                                        1   \\\n",
       "title                                 詹姆斯没出席科比追悼会？他本人这么说……   \n",
       "href     https://sports.sina.com.cn/basketball/nba/2020...   \n",
       "time                                      [02/26 19:42:50]   \n",
       "acticle  詹姆斯接受采访 一场原本属于科比-布莱恩特和女儿Gigi的追悼会，居然出现了让人意想不到的插...   \n",
       "\n",
       "                                                        2   \\\n",
       "title                           锡安29分不输浓眉!詹姆斯40分,这暴扣哪像35岁?   \n",
       "href     https://sports.sina.com.cn/basketball/nba/2020...   \n",
       "time                                      [02/26 15:15:13]   \n",
       "acticle   等了大半个赛季终于来了 锡安 VS 詹姆斯 虽然不是打一个位置但噱头十足 两个超级状元之间...   \n",
       "\n",
       "                                                        3   \\\n",
       "title                                 刚刚！锡安和詹姆斯单挑，老詹亲手教训锡安   \n",
       "href     https://sports.sina.com.cn/basketball/nba/2020...   \n",
       "time                                      [02/26 14:57:52]   \n",
       "acticle   via 篮球技巧教学　　 今日多场比赛，其中最为精彩，当属鹈鹕诸将联手踢馆斯台普斯中心。 ...   \n",
       "\n",
       "                                                        4   \\\n",
       "title                               头撞板飞帽大球+净胜20分！感受下网红的力量   \n",
       "href     https://sports.sina.com.cn/basketball/nba/2020...   \n",
       "time                                      [02/26 14:30:56]   \n",
       "acticle  \\n 北京时间2月26日消息，湖人在主场以118比109战胜新奥尔良鹈鹕，湖人拿到6连胜。在...   \n",
       "\n",
       "                                                        5   \\\n",
       "title                               湖人冲冠最后一块拼图!跟浓眉来电+解放库兹马   \n",
       "href     https://sports.sina.com.cn/basketball/nba/2020...   \n",
       "time                                      [02/26 14:27:40]   \n",
       "acticle  \\n 北京时间2月26日消息，洛杉矶湖人在主场有惊无险地以118比109战胜新奥尔良鹈鹕，湖...   \n",
       "\n",
       "                                                        6   \\\n",
       "title                            赛季新高40+8!詹姆斯追上科比,连得11分仨隔扣   \n",
       "href     https://sports.sina.com.cn/basketball/nba/2020...   \n",
       "time                                      [02/26 14:12:33]   \n",
       "acticle  \\n 北京时间2月26日，湖人在主场以118-109战胜鹈鹕。湖人当家球星勒布朗-詹姆斯27...   \n",
       "\n",
       "                                                        7   \\\n",
       "title                                詹姆斯打疯了！赛季最高！隔扣前队友嗨翻全场   \n",
       "href     https://sports.sina.com.cn/basketball/nba/2020...   \n",
       "time                                      [02/26 14:06:20]   \n",
       "acticle  \\n 北京时间2月26日，湖人击败鹈鹕获得6连胜。 根据统计，本赛季至今，当詹姆斯单场得分超...   \n",
       "\n",
       "                                                        8   \\\n",
       "title                            38-0!18连胜!西部第一的湖人又多两大定律护体   \n",
       "href     https://sports.sina.com.cn/basketball/nba/2020...   \n",
       "time                                      [02/26 14:06:04]   \n",
       "acticle  \\n 北京时间2月26日，湖人在主场以118-109击退了鹈鹕。 湖人（44-12）六连胜。...   \n",
       "\n",
       "                                                        9   ...  \\\n",
       "title                            詹姆斯新高40分锡安29+6 湖人击退鹈鹕获6连胜  ...   \n",
       "href     https://sports.sina.com.cn/basketball/nba/2020...  ...   \n",
       "time                                      [02/26 13:43:48]  ...   \n",
       "acticle  \\n 北京时间2月26日，湖人主场迎战鹈鹕。第一节开始后不久，勒布朗-詹姆斯在队友罚球时向锡...  ...   \n",
       "\n",
       "                                                        60  \\\n",
       "title                                 为了加盟湖人真的拼了，工资全部都不要了！   \n",
       "href     https://sports.sina.com.cn/basketball/nba/2020...   \n",
       "time                                      [02/22 21:41:05]   \n",
       "acticle  大莫里斯将与湖人签约\\n 看似仍远非尽头的五连败，在汽车城略带悲戚的轰鸣声的笼罩下已不再令人...   \n",
       "\n",
       "                                                        61  \\\n",
       "title                                不会被抢了！湖人拿下第一恶汉，总冠军有谱了   \n",
       "href     https://sports.sina.com.cn/basketball/nba/2020...   \n",
       "time                                      [02/22 15:41:11]   \n",
       "acticle  莫里斯 在经过了一轮又一轮的陪跑之后，湖人终于如愿的当上了主角。 马基夫-莫里斯跟活塞达成了...   \n",
       "\n",
       "                                                        62  \\\n",
       "title                             12中11!詹姆斯投疯了!考神被裁，湖人再签一人   \n",
       "href     https://sports.sina.com.cn/basketball/nba/2020...   \n",
       "time                                      [02/22 15:08:46]   \n",
       "acticle  \\n 北京时间2月22日，湖人击败灰熊收获4连胜，卡鲁索全场得到9分4篮板1抢断。 全场比赛...   \n",
       "\n",
       "                                                        63  \\\n",
       "title                               深度|替代品+空间四号位!他会是冠军拼图么?   \n",
       "href     https://sports.sina.com.cn/basketball/nba/2020...   \n",
       "time                                      [02/22 14:50:20]   \n",
       "acticle  \\n 北京时间2月22日，湖人击败灰熊拿到4连胜，詹姆斯全场拿到了32分7助攻。 这是詹姆斯...   \n",
       "\n",
       "                                                        64  \\\n",
       "title                               惊艳补扣+净胜23分！大洛杉矶地区唯一的卡皇   \n",
       "href     https://sports.sina.com.cn/basketball/nba/2020...   \n",
       "time                                      [02/22 14:38:26]   \n",
       "acticle  \\n 北京时间2月22日消息，洛杉矶湖人主场以117比105击败孟菲斯灰熊，湖人拿到4连胜。...   \n",
       "\n",
       "                                                        65  \\\n",
       "title                                  17战全胜！湖人又多了一条必胜铁律护身   \n",
       "href     https://sports.sina.com.cn/basketball/nba/2020...   \n",
       "time                                      [02/22 14:32:51]   \n",
       "acticle  \\n 北京时间2月22日，湖人主场117-105击败灰熊，在获得4连胜的同时也拿到了本赛季第...   \n",
       "\n",
       "                                                        66  \\\n",
       "title                            三分59%防的他14中5！湖人要的顶级3和D他都有   \n",
       "href     https://sports.sina.com.cn/basketball/nba/2020...   \n",
       "time                                      [02/22 14:31:50]   \n",
       "acticle  \\n 北京时间2月22日，洛杉矶湖人队主场迎战孟菲斯灰熊，此役两队激战四节，最终湖人以117...   \n",
       "\n",
       "                                                        67  \\\n",
       "title                              7年来首次胜率过5成!湖人上次这样,科比还健康   \n",
       "href     https://sports.sina.com.cn/basketball/nba/2020...   \n",
       "time                                      [02/22 14:25:28]   \n",
       "acticle  \\n 北京时间2月22日，洛杉矶湖人队主场以117比105战胜孟菲斯灰熊，取得四连胜。本场比...   \n",
       "\n",
       "                                                        68  \\\n",
       "title                         NBA仅此一份的双帽！伤后27+13+7帽DPOY该给他   \n",
       "href     https://sports.sina.com.cn/basketball/nba/2020...   \n",
       "time                                      [02/22 14:24:00]   \n",
       "acticle                                               None   \n",
       "\n",
       "                                                        69  \n",
       "title                          4分半钟0进球!14-1!快忘了湖人防守也曾NBA第1  \n",
       "href     https://sports.sina.com.cn/basketball/nba/2020...  \n",
       "time                                      [02/22 14:15:45]  \n",
       "acticle                                               None  \n",
       "\n",
       "[4 rows x 70 columns]"
      ]
     },
     "execution_count": 20,
     "metadata": {},
     "output_type": "execute_result"
    }
   ],
   "source": [
    "df = pd.DataFrame.from_dict(news_dict, orient='index')\n",
    "df"
   ]
  },
  {
   "cell_type": "code",
   "execution_count": null,
   "metadata": {},
   "outputs": [],
   "source": []
  }
 ],
 "metadata": {
  "kernelspec": {
   "display_name": "Python 3",
   "language": "python",
   "name": "python3"
  },
  "language_info": {
   "codemirror_mode": {
    "name": "ipython",
    "version": 3
   },
   "file_extension": ".py",
   "mimetype": "text/x-python",
   "name": "python",
   "nbconvert_exporter": "python",
   "pygments_lexer": "ipython3",
   "version": "3.7.4"
  }
 },
 "nbformat": 4,
 "nbformat_minor": 2
}
