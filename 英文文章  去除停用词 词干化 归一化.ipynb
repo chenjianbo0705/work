{
 "cells": [
  {
   "cell_type": "code",
   "execution_count": 1,
   "metadata": {},
   "outputs": [],
   "source": [
    "import nltk\n",
    "from nltk.corpus import stopwords\n",
    "from nltk.tokenize import word_tokenize \n",
    "from nltk.stem import PorterStemmer\n",
    "from nltk.stem import WordNetLemmatizer"
   ]
  },
  {
   "cell_type": "code",
   "execution_count": 2,
   "metadata": {},
   "outputs": [
    {
     "data": {
      "text/plain": [
       "'Decades of struggle have brought home to both sides that war is no solution to the arab-israeli conflict. Since the fourth Middle East war, the Middle East has embarked on a long and tortuous road of peaceful development. In 1991, the Middle East peace conference was finally held on the basis of the principle of \"land for peace\", and the israelis and palestinians sat together at the negotiating table for the first time. In 1993, the two sides signed the declaration of principles on Palestinian self-rule in some areas in Washington. But the ongoing violence and the on-again, off-again peace talks suggest that peace in the Middle East still has a long way to go\\n'"
      ]
     },
     "execution_count": 2,
     "metadata": {},
     "output_type": "execute_result"
    }
   ],
   "source": [
    "fr = open('D:\\Python\\Python\\学习Sklearn\\文本分类测试集\\zhongdong.txt',\"r\")\n",
    "st=fr.read()\n",
    "fr.close()\n",
    "st"
   ]
  },
  {
   "cell_type": "code",
   "execution_count": 3,
   "metadata": {},
   "outputs": [],
   "source": [
    "import re\n",
    "text_en = '$How old are you? Could you give me your pen?'\n",
    "reg = \"[^A-Z^a-z^0-9^ ]\"\n",
    "st= re.sub(reg,'',st)"
   ]
  },
  {
   "cell_type": "code",
   "execution_count": 4,
   "metadata": {},
   "outputs": [
    {
     "data": {
      "text/plain": [
       "'Decades of struggle have brought home to both sides that war is no solution to the arabisraeli conflict Since the fourth Middle East war the Middle East has embarked on a long and tortuous road of peaceful development In 1991 the Middle East peace conference was finally held on the basis of the principle of land for peace and the israelis and palestinians sat together at the negotiating table for the first time In 1993 the two sides signed the declaration of principles on Palestinian selfrule in some areas in Washington But the ongoing violence and the onagain offagain peace talks suggest that peace in the Middle East still has a long way to go'"
      ]
     },
     "execution_count": 4,
     "metadata": {},
     "output_type": "execute_result"
    }
   ],
   "source": [
    "st"
   ]
  },
  {
   "cell_type": "code",
   "execution_count": 5,
   "metadata": {},
   "outputs": [],
   "source": [
    "stop_words=set(stopwords.words('english'))\n",
    "word_tokens=word_tokenize(st)\n",
    "filtered_sentence = []\n",
    "for  w in word_tokens:\n",
    "    if w not in stop_words:\n",
    "            filtered_sentence.append(w)"
   ]
  },
  {
   "cell_type": "code",
   "execution_count": 6,
   "metadata": {},
   "outputs": [
    {
     "name": "stdout",
     "output_type": "stream",
     "text": [
      "Decades of struggle have brought home to both sides that war is no solution to the arabisraeli conflict Since the fourth Middle East war the Middle East has embarked on a long and tortuous road of peaceful development In 1991 the Middle East peace conference was finally held on the basis of the principle of land for peace and the israelis and palestinians sat together at the negotiating table for the first time In 1993 the two sides signed the declaration of principles on Palestinian selfrule in some areas in Washington But the ongoing violence and the onagain offagain peace talks suggest that peace in the Middle East still has a long way to go\n"
     ]
    }
   ],
   "source": [
    "print(\" \".join(word_tokens))"
   ]
  },
  {
   "cell_type": "code",
   "execution_count": 7,
   "metadata": {},
   "outputs": [
    {
     "name": "stdout",
     "output_type": "stream",
     "text": [
      "Decades struggle brought home sides war solution arabisraeli conflict Since fourth Middle East war Middle East embarked long tortuous road peaceful development In 1991 Middle East peace conference finally held basis principle land peace israelis palestinians sat together negotiating table first time In 1993 two sides signed declaration principles Palestinian selfrule areas Washington But ongoing violence onagain offagain peace talks suggest peace Middle East still long way go\n"
     ]
    }
   ],
   "source": [
    "print(\" \".join(filtered_sentence))"
   ]
  },
  {
   "cell_type": "code",
   "execution_count": 8,
   "metadata": {},
   "outputs": [
    {
     "name": "stdout",
     "output_type": "stream",
     "text": [
      "['decad', 'struggl', 'brought', 'home', 'side', 'war', 'solut', 'arabisra', 'conflict', 'sinc', 'fourth', 'middl', 'east', 'war', 'middl', 'east', 'embark', 'long', 'tortuou', 'road', 'peac', 'develop', 'In', '1991', 'middl', 'east', 'peac', 'confer', 'final', 'held', 'basi', 'principl', 'land', 'peac', 'isra', 'palestinian', 'sat', 'togeth', 'negoti', 'tabl', 'first', 'time', 'In', '1993', 'two', 'side', 'sign', 'declar', 'principl', 'palestinian', 'selfrul', 'area', 'washington', 'but', 'ongo', 'violenc', 'onagain', 'offagain', 'peac', 'talk', 'suggest', 'peac', 'middl', 'east', 'still', 'long', 'way', 'go']\n"
     ]
    }
   ],
   "source": [
    "Stem_words= []\n",
    "ps = PorterStemmer()\n",
    "for  w  in filtered_sentence:\n",
    "        rootWord = ps.stem(w)\n",
    "        Stem_words.append(rootWord)\n",
    "print(Stem_words)"
   ]
  },
  {
   "cell_type": "code",
   "execution_count": 9,
   "metadata": {},
   "outputs": [
    {
     "name": "stdout",
     "output_type": "stream",
     "text": [
      "['Decades', 'struggle', 'bring', 'home', 'side', 'war', 'solution', 'arabisraeli', 'conflict', 'Since', 'fourth', 'Middle', 'East', 'war', 'Middle', 'East', 'embark', 'long', 'tortuous', 'road', 'peaceful', 'development', 'In', '1991', 'Middle', 'East', 'peace', 'conference', 'finally', 'hold', 'basis', 'principle', 'land', 'peace', 'israeli', 'palestinian', 'sit', 'together', 'negotiate', 'table', 'first', 'time', 'In', '1993', 'two', 'side', 'sign', 'declaration', 'principle', 'Palestinian', 'selfrule', 'area', 'Washington', 'But', 'ongoing', 'violence', 'onagain', 'offagain', 'peace', 'talk', 'suggest', 'peace', 'Middle', 'East', 'still', 'long', 'way', 'go']\n"
     ]
    }
   ],
   "source": [
    "lemma_word = []\n",
    "frwordnet_lemmatizer = WordNetLemmatizer()\n",
    "for w  in filtered_sentence:\n",
    "    word1 = frwordnet_lemmatizer.lemmatize(w, pos =\"n\")\n",
    "    word2 = frwordnet_lemmatizer.lemmatize(word1, pos =\"v\")\n",
    "    word3 = frwordnet_lemmatizer.lemmatize(word2, pos =\"a\")\n",
    "    lemma_word.append(word3)\n",
    "print(lemma_word)"
   ]
  },
  {
   "cell_type": "code",
   "execution_count": 10,
   "metadata": {},
   "outputs": [],
   "source": [
    "st= \" \".join(lemma_word)"
   ]
  },
  {
   "cell_type": "code",
   "execution_count": 11,
   "metadata": {},
   "outputs": [
    {
     "name": "stdout",
     "output_type": "stream",
     "text": [
      "Decades struggle bring home side war solution arabisraeli conflict Since fourth Middle East war Middle East embark long tortuous road peaceful development In 1991 Middle East peace conference finally hold basis principle land peace israeli palestinian sit together negotiate table first time In 1993 two side sign declaration principle Palestinian selfrule area Washington But ongoing violence onagain offagain peace talk suggest peace Middle East still long way go\n"
     ]
    }
   ],
   "source": [
    "print(st)"
   ]
  },
  {
   "cell_type": "code",
   "execution_count": 12,
   "metadata": {},
   "outputs": [],
   "source": [
    "li=st.strip().split('/n')"
   ]
  },
  {
   "cell_type": "code",
   "execution_count": 13,
   "metadata": {},
   "outputs": [
    {
     "data": {
      "text/plain": [
       "['Decades\\xa0struggle\\xa0bring\\xa0home\\xa0side\\xa0war\\xa0solution\\xa0arabisraeli\\xa0conflict\\xa0Since\\xa0fourth\\xa0Middle\\xa0East\\xa0war\\xa0Middle\\xa0East\\xa0embark\\xa0long\\xa0tortuous\\xa0road\\xa0peaceful\\xa0development\\xa0In\\xa01991\\xa0Middle\\xa0East\\xa0peace\\xa0conference\\xa0finally\\xa0hold\\xa0basis\\xa0principle\\xa0land\\xa0peace\\xa0israeli\\xa0palestinian\\xa0sit\\xa0together\\xa0negotiate\\xa0table\\xa0first\\xa0time\\xa0In\\xa01993\\xa0two\\xa0side\\xa0sign\\xa0declaration\\xa0principle\\xa0Palestinian\\xa0selfrule\\xa0area\\xa0Washington\\xa0But\\xa0ongoing\\xa0violence\\xa0onagain\\xa0offagain\\xa0peace\\xa0talk\\xa0suggest\\xa0peace\\xa0Middle\\xa0East\\xa0still\\xa0long\\xa0way\\xa0go']"
      ]
     },
     "execution_count": 13,
     "metadata": {},
     "output_type": "execute_result"
    }
   ],
   "source": [
    "li"
   ]
  },
  {
   "cell_type": "code",
   "execution_count": 14,
   "metadata": {},
   "outputs": [
    {
     "name": "stdout",
     "output_type": "stream",
     "text": [
      "['Decades\\xa0struggle\\xa0bring\\xa0home\\xa0side\\xa0war\\xa0solution\\xa0arabisraeli\\xa0conflict\\xa0Since\\xa0fourth\\xa0Middle\\xa0East\\xa0war\\xa0Middle\\xa0East\\xa0embark\\xa0long\\xa0tortuous\\xa0road\\xa0peaceful\\xa0development\\xa0In\\xa01991\\xa0Middle\\xa0East\\xa0peace\\xa0conference\\xa0finally\\xa0hold\\xa0basis\\xa0principle\\xa0land\\xa0peace\\xa0israeli\\xa0palestinian\\xa0sit\\xa0together\\xa0negotiate\\xa0table\\xa0first\\xa0time\\xa0In\\xa01993\\xa0two\\xa0side\\xa0sign\\xa0declaration\\xa0principle\\xa0Palestinian\\xa0selfrule\\xa0area\\xa0Washington\\xa0But\\xa0ongoing\\xa0violence\\xa0onagain\\xa0offagain\\xa0peace\\xa0talk\\xa0suggest\\xa0peace\\xa0Middle\\xa0East\\xa0still\\xa0long\\xa0way\\xa0go']\n"
     ]
    }
   ],
   "source": [
    "print(li)"
   ]
  },
  {
   "cell_type": "code",
   "execution_count": 15,
   "metadata": {},
   "outputs": [
    {
     "name": "stdout",
     "output_type": "stream",
     "text": [
      "09月27日发布\n"
     ]
    }
   ],
   "source": [
    "s = '09月27日\\xa0发布'\n",
    "s = \"\".join(s.split())\n",
    "print(s)"
   ]
  },
  {
   "cell_type": "code",
   "execution_count": null,
   "metadata": {},
   "outputs": [],
   "source": []
  }
 ],
 "metadata": {
  "kernelspec": {
   "display_name": "Python 3",
   "language": "python",
   "name": "python3"
  },
  "language_info": {
   "codemirror_mode": {
    "name": "ipython",
    "version": 3
   },
   "file_extension": ".py",
   "mimetype": "text/x-python",
   "name": "python",
   "nbconvert_exporter": "python",
   "pygments_lexer": "ipython3",
   "version": "3.6.5"
  }
 },
 "nbformat": 4,
 "nbformat_minor": 2
}
