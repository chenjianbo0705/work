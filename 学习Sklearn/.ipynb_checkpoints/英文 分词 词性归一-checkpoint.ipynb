{
 "cells": [
  {
   "cell_type": "code",
   "execution_count": 70,
   "metadata": {},
   "outputs": [
    {
     "data": {
      "text/plain": [
       "{'a',\n",
       " 'about',\n",
       " 'above',\n",
       " 'after',\n",
       " 'again',\n",
       " 'against',\n",
       " 'all',\n",
       " 'am',\n",
       " 'an',\n",
       " 'and',\n",
       " 'any',\n",
       " 'are',\n",
       " 'as',\n",
       " 'at',\n",
       " 'be',\n",
       " 'because',\n",
       " 'been',\n",
       " 'before',\n",
       " 'being',\n",
       " 'below',\n",
       " 'between',\n",
       " 'both',\n",
       " 'but',\n",
       " 'by',\n",
       " 'can',\n",
       " 'did',\n",
       " 'do',\n",
       " 'does',\n",
       " 'doing',\n",
       " 'don',\n",
       " 'down',\n",
       " 'during',\n",
       " 'each',\n",
       " 'few',\n",
       " 'for',\n",
       " 'from',\n",
       " 'further',\n",
       " 'had',\n",
       " 'has',\n",
       " 'have',\n",
       " 'having',\n",
       " 'he',\n",
       " 'her',\n",
       " 'here',\n",
       " 'hers',\n",
       " 'herself',\n",
       " 'him',\n",
       " 'himself',\n",
       " 'his',\n",
       " 'how',\n",
       " 'i',\n",
       " 'if',\n",
       " 'in',\n",
       " 'into',\n",
       " 'is',\n",
       " 'it',\n",
       " 'its',\n",
       " 'itself',\n",
       " 'just',\n",
       " 'me',\n",
       " 'more',\n",
       " 'most',\n",
       " 'my',\n",
       " 'myself',\n",
       " 'no',\n",
       " 'nor',\n",
       " 'not',\n",
       " 'now',\n",
       " 'of',\n",
       " 'off',\n",
       " 'on',\n",
       " 'once',\n",
       " 'only',\n",
       " 'or',\n",
       " 'other',\n",
       " 'our',\n",
       " 'ours',\n",
       " 'ourselves',\n",
       " 'out',\n",
       " 'over',\n",
       " 'own',\n",
       " 's',\n",
       " 'same',\n",
       " 'she',\n",
       " 'should',\n",
       " 'so',\n",
       " 'some',\n",
       " 'such',\n",
       " 't',\n",
       " 'than',\n",
       " 'that',\n",
       " 'the',\n",
       " 'their',\n",
       " 'theirs',\n",
       " 'them',\n",
       " 'themselves',\n",
       " 'then',\n",
       " 'there',\n",
       " 'these',\n",
       " 'they',\n",
       " 'this',\n",
       " 'those',\n",
       " 'through',\n",
       " 'to',\n",
       " 'too',\n",
       " 'under',\n",
       " 'until',\n",
       " 'up',\n",
       " 'very',\n",
       " 'was',\n",
       " 'we',\n",
       " 'were',\n",
       " 'what',\n",
       " 'when',\n",
       " 'where',\n",
       " 'which',\n",
       " 'while',\n",
       " 'who',\n",
       " 'whom',\n",
       " 'why',\n",
       " 'will',\n",
       " 'with',\n",
       " 'you',\n",
       " 'your',\n",
       " 'yours',\n",
       " 'yourself',\n",
       " 'yourselves'}"
      ]
     },
     "execution_count": 70,
     "metadata": {},
     "output_type": "execute_result"
    }
   ],
   "source": [
    "import nltk\n",
    "from nltk.corpus import stopwords\n",
    "from nltk.tokenize import word_tokenize \n",
    "set(stopwords.words('english'))"
   ]
  },
  {
   "cell_type": "code",
   "execution_count": 71,
   "metadata": {},
   "outputs": [],
   "source": [
    "fr = open('D:\\Python\\Python\\学习Sklearn\\文本分类测试集\\zhongdong.txt',\"r\")\n",
    "st=fr.read()\n",
    "fr.close()"
   ]
  },
  {
   "cell_type": "code",
   "execution_count": 72,
   "metadata": {},
   "outputs": [
    {
     "data": {
      "text/plain": [
       "['Decades of struggle have brought home to both sides that war is no solution to the arab-israeli conflict. Since the fourth Middle East war, the Middle East has embarked on a long and tortuous road of peaceful development. In 1991, the Middle East peace conference was finally held on the basis of the principle of \"land for peace\", and the israelis and palestinians sat together at the negotiating table for the first time. In 1993, the two sides signed the declaration of principles on Palestinian self-rule in some areas in Washington. But the ongoing violence and the on-again, off-again peace talks suggest that peace in the Middle East still has a long way to go']"
      ]
     },
     "execution_count": 72,
     "metadata": {},
     "output_type": "execute_result"
    }
   ],
   "source": [
    "li=st.strip().split('/n ')\n",
    "li"
   ]
  },
  {
   "cell_type": "code",
   "execution_count": 73,
   "metadata": {},
   "outputs": [
    {
     "data": {
      "text/plain": [
       "'Decades of struggle have brought home to both sides that war is no solution to the arab-israeli conflict. Since the fourth Middle East war, the Middle East has embarked on a long and tortuous road of peaceful development. In 1991, the Middle East peace conference was finally held on the basis of the principle of \"land for peace\", and the israelis and palestinians sat together at the negotiating table for the first time. In 1993, the two sides signed the declaration of principles on Palestinian self-rule in some areas in Washington. But the ongoing violence and the on-again, off-again peace talks suggest that peace in the Middle East still has a long way to go\\n'"
      ]
     },
     "execution_count": 73,
     "metadata": {},
     "output_type": "execute_result"
    }
   ],
   "source": [
    "st"
   ]
  },
  {
   "cell_type": "code",
   "execution_count": 74,
   "metadata": {},
   "outputs": [],
   "source": [
    "stop_words=set(stopwords.words('english'))"
   ]
  },
  {
   "cell_type": "code",
   "execution_count": 75,
   "metadata": {},
   "outputs": [],
   "source": [
    "word_tokens=word_tokenize(st)\n"
   ]
  },
  {
   "cell_type": "code",
   "execution_count": 76,
   "metadata": {},
   "outputs": [],
   "source": [
    "filtered_sentence = []"
   ]
  },
  {
   "cell_type": "code",
   "execution_count": 77,
   "metadata": {},
   "outputs": [],
   "source": [
    "for  w in word_tokens:\n",
    "    if w not in stop_words:\n",
    "            filtered_sentence.append(w)"
   ]
  },
  {
   "cell_type": "code",
   "execution_count": 78,
   "metadata": {},
   "outputs": [
    {
     "name": "stdout",
     "output_type": "stream",
     "text": [
      "Decades of struggle have brought home to both sides that war is no solution to the arab-israeli conflict . Since the fourth Middle East war , the Middle East has embarked on a long and tortuous road of peaceful development . In 1991 , the Middle East peace conference was finally held on the basis of the principle of `` land for peace '' , and the israelis and palestinians sat together at the negotiating table for the first time . In 1993 , the two sides signed the declaration of principles on Palestinian self-rule in some areas in Washington . But the ongoing violence and the on-again , off-again peace talks suggest that peace in the Middle East still has a long way to go\n"
     ]
    }
   ],
   "source": [
    "print(\" \".join(word_tokens))"
   ]
  },
  {
   "cell_type": "code",
   "execution_count": 79,
   "metadata": {},
   "outputs": [
    {
     "name": "stdout",
     "output_type": "stream",
     "text": [
      "Decades struggle brought home sides war solution arab-israeli conflict . Since fourth Middle East war , Middle East embarked long tortuous road peaceful development . In 1991 , Middle East peace conference finally held basis principle `` land peace '' , israelis palestinians sat together negotiating table first time . In 1993 , two sides signed declaration principles Palestinian self-rule areas Washington . But ongoing violence on-again , off-again peace talks suggest peace Middle East still long way go\n"
     ]
    }
   ],
   "source": [
    "print(\" \".join(filtered_sentence))"
   ]
  },
  {
   "cell_type": "code",
   "execution_count": 80,
   "metadata": {},
   "outputs": [],
   "source": [
    "from nltk.stem import PorterStemmer"
   ]
  },
  {
   "cell_type": "code",
   "execution_count": 81,
   "metadata": {},
   "outputs": [],
   "source": [
    "Stem_words= []"
   ]
  },
  {
   "cell_type": "code",
   "execution_count": 82,
   "metadata": {},
   "outputs": [],
   "source": [
    "ps = PorterStemmer()"
   ]
  },
  {
   "cell_type": "code",
   "execution_count": 83,
   "metadata": {},
   "outputs": [
    {
     "name": "stdout",
     "output_type": "stream",
     "text": [
      "['Decades', 'struggle', 'brought', 'home', 'sides', 'war', 'solution', 'arab-israeli', 'conflict', '.', 'Since', 'fourth', 'Middle', 'East', 'war', ',', 'Middle', 'East', 'embarked', 'long', 'tortuous', 'road', 'peaceful', 'development', '.', 'In', '1991', ',', 'Middle', 'East', 'peace', 'conference', 'finally', 'held', 'basis', 'principle', '``', 'land', 'peace', \"''\", ',', 'israelis', 'palestinians', 'sat', 'together', 'negotiating', 'table', 'first', 'time', '.', 'In', '1993', ',', 'two', 'sides', 'signed', 'declaration', 'principles', 'Palestinian', 'self-rule', 'areas', 'Washington', '.', 'But', 'ongoing', 'violence', 'on-again', ',', 'off-again', 'peace', 'talks', 'suggest', 'peace', 'Middle', 'East', 'still', 'long', 'way', 'go']\n",
      "['decad', 'struggl', 'brought', 'home', 'side', 'war', 'solut', 'arab-isra', 'conflict', '.', 'sinc', 'fourth', 'middl', 'east', 'war', ',', 'middl', 'east', 'embark', 'long', 'tortuou', 'road', 'peac', 'develop', '.', 'In', '1991', ',', 'middl', 'east', 'peac', 'confer', 'final', 'held', 'basi', 'principl', '``', 'land', 'peac', \"''\", ',', 'isra', 'palestinian', 'sat', 'togeth', 'negoti', 'tabl', 'first', 'time', '.', 'In', '1993', ',', 'two', 'side', 'sign', 'declar', 'principl', 'palestinian', 'self-rul', 'area', 'washington', '.', 'but', 'ongo', 'violenc', 'on-again', ',', 'off-again', 'peac', 'talk', 'suggest', 'peac', 'middl', 'east', 'still', 'long', 'way', 'go']\n"
     ]
    }
   ],
   "source": [
    "for  w  in filtered_sentence:\n",
    "        rootWord = ps.stem(w)\n",
    "        Stem_words.append(rootWord)\n",
    "print(filtered_sentence)\n",
    "print(Stem_words)"
   ]
  },
  {
   "cell_type": "code",
   "execution_count": 84,
   "metadata": {},
   "outputs": [],
   "source": [
    "from nltk.stem import WordNetLemmatizer\n",
    "from nltk.corpus import stopwords\n",
    "from nltk.tokenize import word_tokenize \n",
    "import nltk"
   ]
  },
  {
   "cell_type": "code",
   "execution_count": 85,
   "metadata": {},
   "outputs": [],
   "source": [
    "lemma_word = []\n",
    "frwordnet_lemmatizer = WordNetLemmatizer()"
   ]
  },
  {
   "cell_type": "code",
   "execution_count": 86,
   "metadata": {},
   "outputs": [
    {
     "name": "stdout",
     "output_type": "stream",
     "text": [
      "['Decades', 'struggle', 'bring', 'home', 'side', 'war', 'solution', 'arab-israeli', 'conflict', '.', 'Since', 'fourth', 'Middle', 'East', 'war', ',', 'Middle', 'East', 'embark', 'long', 'tortuous', 'road', 'peaceful', 'development', '.', 'In', '1991', ',', 'Middle', 'East', 'peace', 'conference', 'finally', 'hold', 'basis', 'principle', '``', 'land', 'peace', \"''\", ',', 'israeli', 'palestinian', 'sit', 'together', 'negotiate', 'table', 'first', 'time', '.', 'In', '1993', ',', 'two', 'side', 'sign', 'declaration', 'principle', 'Palestinian', 'self-rule', 'area', 'Washington', '.', 'But', 'ongoing', 'violence', 'on-again', ',', 'off-again', 'peace', 'talk', 'suggest', 'peace', 'Middle', 'East', 'still', 'long', 'way', 'go']\n"
     ]
    }
   ],
   "source": [
    "\n",
    "for w  in filtered_sentence:\n",
    "    word1 = frwordnet_lemmatizer.lemmatize(w, pos =\"n\")\n",
    "    word2 = frwordnet_lemmatizer.lemmatize(word1, pos =\"v\")\n",
    "    word3 = frwordnet_lemmatizer.lemmatize(word2, pos =\"a\")\n",
    "    lemma_word.append(word3)\n",
    "print(lemma_word)"
   ]
  },
  {
   "cell_type": "code",
   "execution_count": 87,
   "metadata": {},
   "outputs": [
    {
     "name": "stdout",
     "output_type": "stream",
     "text": [
      "Decades of struggle have brought home to both sides that war is no solution to the arab-israeli conflict . Since the fourth Middle East war , the Middle East has embarked on a long and tortuous road of peaceful development . In 1991 , the Middle East peace conference was finally held on the basis of the principle of `` land for peace '' , and the israelis and palestinians sat together at the negotiating table for the first time . In 1993 , the two sides signed the declaration of principles on Palestinian self-rule in some areas in Washington . But the ongoing violence and the on-again , off-again peace talks suggest that peace in the Middle East still has a long way to go\n"
     ]
    }
   ],
   "source": [
    "print(\" \".join(word_tokens))"
   ]
  },
  {
   "cell_type": "code",
   "execution_count": 88,
   "metadata": {},
   "outputs": [
    {
     "name": "stdout",
     "output_type": "stream",
     "text": [
      "Decades struggle brought home sides war solution arab-israeli conflict . Since fourth Middle East war , Middle East embarked long tortuous road peaceful development . In 1991 , Middle East peace conference finally held basis principle `` land peace '' , israelis palestinians sat together negotiating table first time . In 1993 , two sides signed declaration principles Palestinian self-rule areas Washington . But ongoing violence on-again , off-again peace talks suggest peace Middle East still long way go\n"
     ]
    }
   ],
   "source": [
    "print(\" \".join(filtered_sentence))"
   ]
  },
  {
   "cell_type": "code",
   "execution_count": 89,
   "metadata": {},
   "outputs": [
    {
     "name": "stdout",
     "output_type": "stream",
     "text": [
      "['decad', 'struggl', 'brought', 'home', 'side', 'war', 'solut', 'arab-isra', 'conflict', '.', 'sinc', 'fourth', 'middl', 'east', 'war', ',', 'middl', 'east', 'embark', 'long', 'tortuou', 'road', 'peac', 'develop', '.', 'In', '1991', ',', 'middl', 'east', 'peac', 'confer', 'final', 'held', 'basi', 'principl', '``', 'land', 'peac', \"''\", ',', 'isra', 'palestinian', 'sat', 'togeth', 'negoti', 'tabl', 'first', 'time', '.', 'In', '1993', ',', 'two', 'side', 'sign', 'declar', 'principl', 'palestinian', 'self-rul', 'area', 'washington', '.', 'but', 'ongo', 'violenc', 'on-again', ',', 'off-again', 'peac', 'talk', 'suggest', 'peac', 'middl', 'east', 'still', 'long', 'way', 'go']\n"
     ]
    }
   ],
   "source": [
    "print(Stem_words)"
   ]
  },
  {
   "cell_type": "code",
   "execution_count": 90,
   "metadata": {},
   "outputs": [
    {
     "name": "stdout",
     "output_type": "stream",
     "text": [
      "['Decades', 'struggle', 'bring', 'home', 'side', 'war', 'solution', 'arab-israeli', 'conflict', '.', 'Since', 'fourth', 'Middle', 'East', 'war', ',', 'Middle', 'East', 'embark', 'long', 'tortuous', 'road', 'peaceful', 'development', '.', 'In', '1991', ',', 'Middle', 'East', 'peace', 'conference', 'finally', 'hold', 'basis', 'principle', '``', 'land', 'peace', \"''\", ',', 'israeli', 'palestinian', 'sit', 'together', 'negotiate', 'table', 'first', 'time', '.', 'In', '1993', ',', 'two', 'side', 'sign', 'declaration', 'principle', 'Palestinian', 'self-rule', 'area', 'Washington', '.', 'But', 'ongoing', 'violence', 'on-again', ',', 'off-again', 'peace', 'talk', 'suggest', 'peace', 'Middle', 'East', 'still', 'long', 'way', 'go']\n"
     ]
    }
   ],
   "source": [
    "print(lemma_word)"
   ]
  },
  {
   "cell_type": "code",
   "execution_count": 91,
   "metadata": {},
   "outputs": [
    {
     "data": {
      "text/plain": [
       "['Decades',\n",
       " 'struggle',\n",
       " 'bring',\n",
       " 'home',\n",
       " 'side',\n",
       " 'war',\n",
       " 'solution',\n",
       " 'arab-israeli',\n",
       " 'conflict',\n",
       " '.',\n",
       " 'Since',\n",
       " 'fourth',\n",
       " 'Middle',\n",
       " 'East',\n",
       " 'war',\n",
       " ',',\n",
       " 'Middle',\n",
       " 'East',\n",
       " 'embark',\n",
       " 'long',\n",
       " 'tortuous',\n",
       " 'road',\n",
       " 'peaceful',\n",
       " 'development',\n",
       " '.',\n",
       " 'In',\n",
       " '1991',\n",
       " ',',\n",
       " 'Middle',\n",
       " 'East',\n",
       " 'peace',\n",
       " 'conference',\n",
       " 'finally',\n",
       " 'hold',\n",
       " 'basis',\n",
       " 'principle',\n",
       " '``',\n",
       " 'land',\n",
       " 'peace',\n",
       " \"''\",\n",
       " ',',\n",
       " 'israeli',\n",
       " 'palestinian',\n",
       " 'sit',\n",
       " 'together',\n",
       " 'negotiate',\n",
       " 'table',\n",
       " 'first',\n",
       " 'time',\n",
       " '.',\n",
       " 'In',\n",
       " '1993',\n",
       " ',',\n",
       " 'two',\n",
       " 'side',\n",
       " 'sign',\n",
       " 'declaration',\n",
       " 'principle',\n",
       " 'Palestinian',\n",
       " 'self-rule',\n",
       " 'area',\n",
       " 'Washington',\n",
       " '.',\n",
       " 'But',\n",
       " 'ongoing',\n",
       " 'violence',\n",
       " 'on-again',\n",
       " ',',\n",
       " 'off-again',\n",
       " 'peace',\n",
       " 'talk',\n",
       " 'suggest',\n",
       " 'peace',\n",
       " 'Middle',\n",
       " 'East',\n",
       " 'still',\n",
       " 'long',\n",
       " 'way',\n",
       " 'go']"
      ]
     },
     "execution_count": 91,
     "metadata": {},
     "output_type": "execute_result"
    }
   ],
   "source": [
    "lemma_word"
   ]
  },
  {
   "cell_type": "code",
   "execution_count": null,
   "metadata": {},
   "outputs": [],
   "source": [
    "print(\" \".join(lemma_word))"
   ]
  },
  {
   "cell_type": "code",
   "execution_count": 93,
   "metadata": {},
   "outputs": [
    {
     "data": {
      "text/plain": [
       "list"
      ]
     },
     "execution_count": 93,
     "metadata": {},
     "output_type": "execute_result"
    }
   ],
   "source": [
    "type(lemma_word)"
   ]
  },
  {
   "cell_type": "code",
   "execution_count": null,
   "metadata": {},
   "outputs": [],
   "source": []
  }
 ],
 "metadata": {
  "kernelspec": {
   "display_name": "Python 3",
   "language": "python",
   "name": "python3"
  },
  "language_info": {
   "codemirror_mode": {
    "name": "ipython",
    "version": 3
   },
   "file_extension": ".py",
   "mimetype": "text/x-python",
   "name": "python",
   "nbconvert_exporter": "python",
   "pygments_lexer": "ipython3",
   "version": "3.7.4"
  }
 },
 "nbformat": 4,
 "nbformat_minor": 2
}
