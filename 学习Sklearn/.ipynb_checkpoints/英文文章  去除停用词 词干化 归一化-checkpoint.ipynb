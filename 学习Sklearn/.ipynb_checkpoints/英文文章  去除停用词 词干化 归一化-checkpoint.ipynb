{
 "cells": [
  {
   "cell_type": "code",
   "execution_count": 11,
   "metadata": {},
   "outputs": [],
   "source": [
    "import nltk\n",
    "from nltk.corpus import stopwords\n",
    "from nltk.tokenize import word_tokenize \n",
    "from nltk.stem import PorterStemmer\n",
    "from nltk.stem import WordNetLemmatizer"
   ]
  },
  {
   "cell_type": "code",
   "execution_count": 7,
   "metadata": {},
   "outputs": [
    {
     "data": {
      "text/plain": [
       "'Decades of struggle have brought home to both sides that war is no solution to the arab-israeli conflict. Since the fourth Middle East war, the Middle East has embarked on a long and tortuous road of peaceful development. In 1991, the Middle East peace conference was finally held on the basis of the principle of \"land for peace\", and the israelis and palestinians sat together at the negotiating table for the first time. In 1993, the two sides signed the declaration of principles on Palestinian self-rule in some areas in Washington. But the ongoing violence and the on-again, off-again peace talks suggest that peace in the Middle East still has a long way to go\\n'"
      ]
     },
     "execution_count": 7,
     "metadata": {},
     "output_type": "execute_result"
    }
   ],
   "source": [
    "fr = open('D:\\Python\\Python\\学习Sklearn\\文本分类测试集\\zhongdong.txt',\"r\")\n",
    "st=fr.read()\n",
    "fr.close()\n",
    "st"
   ]
  },
  {
   "cell_type": "code",
   "execution_count": 51,
   "metadata": {},
   "outputs": [],
   "source": [
    "import re\n",
    "text_en = '$How old are you? Could you give me your pen?'\n",
    "reg = \"[^A-Z^a-z^0-9^ ]\"\n",
    "st= re.sub(reg,'',text_en)"
   ]
  },
  {
   "cell_type": "code",
   "execution_count": 52,
   "metadata": {},
   "outputs": [
    {
     "data": {
      "text/plain": [
       "'DecadesstrugglebringhomesidewarsolutionarabisraeliconflictSincefourthMiddleEastwarMiddleEastembarklongtortuousroadpeacefuldevelopmentIn1991MiddleEastpeaceconferencefinallyholdbasisprinciplelandpeaceisraelipalestiniansittogethernegotiatetablefirsttimeIn1993twosidesigndeclarationprinciplePalestinianselfruleareaWashingtonButongoingviolenceonagainoffagainpeacetalksuggestpeaceMiddleEaststilllongwaygo'"
      ]
     },
     "execution_count": 52,
     "metadata": {},
     "output_type": "execute_result"
    }
   ],
   "source": [
    "st"
   ]
  },
  {
   "cell_type": "code",
   "execution_count": 46,
   "metadata": {},
   "outputs": [],
   "source": [
    "stop_words=set(stopwords.words('english'))\n",
    "word_tokens=word_tokenize(st)\n",
    "filtered_sentence = []\n",
    "for  w in word_tokens:\n",
    "    if w not in stop_words:\n",
    "            filtered_sentence.append(w)"
   ]
  },
  {
   "cell_type": "code",
   "execution_count": 47,
   "metadata": {},
   "outputs": [
    {
     "name": "stdout",
     "output_type": "stream",
     "text": [
      "DecadesstrugglebringhomesidewarsolutionarabisraeliconflictSincefourthMiddleEastwarMiddleEastembarklongtortuousroadpeacefuldevelopmentIn1991MiddleEastpeaceconferencefinallyholdbasisprinciplelandpeaceisraelipalestiniansittogethernegotiatetablefirsttimeIn1993twosidesigndeclarationprinciplePalestinianselfruleareaWashingtonButongoingviolenceonagainoffagainpeacetalksuggestpeaceMiddleEaststilllongwaygo\n"
     ]
    }
   ],
   "source": [
    "print(\" \".join(word_tokens))"
   ]
  },
  {
   "cell_type": "code",
   "execution_count": 10,
   "metadata": {},
   "outputs": [
    {
     "name": "stdout",
     "output_type": "stream",
     "text": [
      "Decades struggle brought home sides war solution arab-israeli conflict . Since fourth Middle East war , Middle East embarked long tortuous road peaceful development . In 1991 , Middle East peace conference finally held basis principle `` land peace '' , israelis palestinians sat together negotiating table first time . In 1993 , two sides signed declaration principles Palestinian self-rule areas Washington . But ongoing violence on-again , off-again peace talks suggest peace Middle East still long way go\n"
     ]
    }
   ],
   "source": [
    "print(\" \".join(filtered_sentence))"
   ]
  },
  {
   "cell_type": "code",
   "execution_count": 15,
   "metadata": {},
   "outputs": [
    {
     "name": "stdout",
     "output_type": "stream",
     "text": [
      "['decad', 'struggl', 'brought', 'home', 'side', 'war', 'solut', 'arab-isra', 'conflict', '.', 'sinc', 'fourth', 'middl', 'east', 'war', ',', 'middl', 'east', 'embark', 'long', 'tortuou', 'road', 'peac', 'develop', '.', 'In', '1991', ',', 'middl', 'east', 'peac', 'confer', 'final', 'held', 'basi', 'principl', '``', 'land', 'peac', \"''\", ',', 'isra', 'palestinian', 'sat', 'togeth', 'negoti', 'tabl', 'first', 'time', '.', 'In', '1993', ',', 'two', 'side', 'sign', 'declar', 'principl', 'palestinian', 'self-rul', 'area', 'washington', '.', 'but', 'ongo', 'violenc', 'on-again', ',', 'off-again', 'peac', 'talk', 'suggest', 'peac', 'middl', 'east', 'still', 'long', 'way', 'go']\n"
     ]
    }
   ],
   "source": [
    "Stem_words= []\n",
    "ps = PorterStemmer()\n",
    "for  w  in filtered_sentence:\n",
    "        rootWord = ps.stem(w)\n",
    "        Stem_words.append(rootWord)\n",
    "print(Stem_words)"
   ]
  },
  {
   "cell_type": "code",
   "execution_count": 16,
   "metadata": {},
   "outputs": [
    {
     "name": "stdout",
     "output_type": "stream",
     "text": [
      "['Decades', 'struggle', 'bring', 'home', 'side', 'war', 'solution', 'arab-israeli', 'conflict', '.', 'Since', 'fourth', 'Middle', 'East', 'war', ',', 'Middle', 'East', 'embark', 'long', 'tortuous', 'road', 'peaceful', 'development', '.', 'In', '1991', ',', 'Middle', 'East', 'peace', 'conference', 'finally', 'hold', 'basis', 'principle', '``', 'land', 'peace', \"''\", ',', 'israeli', 'palestinian', 'sit', 'together', 'negotiate', 'table', 'first', 'time', '.', 'In', '1993', ',', 'two', 'side', 'sign', 'declaration', 'principle', 'Palestinian', 'self-rule', 'area', 'Washington', '.', 'But', 'ongoing', 'violence', 'on-again', ',', 'off-again', 'peace', 'talk', 'suggest', 'peace', 'Middle', 'East', 'still', 'long', 'way', 'go']\n"
     ]
    }
   ],
   "source": [
    "lemma_word = []\n",
    "frwordnet_lemmatizer = WordNetLemmatizer()\n",
    "for w  in filtered_sentence:\n",
    "    word1 = frwordnet_lemmatizer.lemmatize(w, pos =\"n\")\n",
    "    word2 = frwordnet_lemmatizer.lemmatize(word1, pos =\"v\")\n",
    "    word3 = frwordnet_lemmatizer.lemmatize(word2, pos =\"a\")\n",
    "    lemma_word.append(word3)\n",
    "print(lemma_word)"
   ]
  },
  {
   "cell_type": "code",
   "execution_count": 20,
   "metadata": {},
   "outputs": [],
   "source": [
    "st= \" \".join(lemma_word)"
   ]
  },
  {
   "cell_type": "code",
   "execution_count": 38,
   "metadata": {},
   "outputs": [
    {
     "name": "stdout",
     "output_type": "stream",
     "text": [
      "Decades struggle bring home side war solution arab-israeli conflict . Since fourth Middle East war , Middle East embark long tortuous road peaceful development . In 1991 , Middle East peace conference finally hold basis principle `` land peace '' , israeli palestinian sit together negotiate table first time . In 1993 , two side sign declaration principle Palestinian self-rule area Washington . But ongoing violence on-again , off-again peace talk suggest peace Middle East still long way go\n"
     ]
    }
   ],
   "source": [
    "print(st)"
   ]
  },
  {
   "cell_type": "code",
   "execution_count": 22,
   "metadata": {},
   "outputs": [],
   "source": [
    "li=st.strip().split('/n ')"
   ]
  },
  {
   "cell_type": "code",
   "execution_count": 23,
   "metadata": {},
   "outputs": [
    {
     "data": {
      "text/plain": [
       "[\"Decades\\xa0struggle\\xa0bring\\xa0home\\xa0side\\xa0war\\xa0solution\\xa0arab-israeli\\xa0conflict\\xa0.\\xa0Since\\xa0fourth\\xa0Middle\\xa0East\\xa0war\\xa0,\\xa0Middle\\xa0East\\xa0embark\\xa0long\\xa0tortuous\\xa0road\\xa0peaceful\\xa0development\\xa0.\\xa0In\\xa01991\\xa0,\\xa0Middle\\xa0East\\xa0peace\\xa0conference\\xa0finally\\xa0hold\\xa0basis\\xa0principle\\xa0``\\xa0land\\xa0peace\\xa0''\\xa0,\\xa0israeli\\xa0palestinian\\xa0sit\\xa0together\\xa0negotiate\\xa0table\\xa0first\\xa0time\\xa0.\\xa0In\\xa01993\\xa0,\\xa0two\\xa0side\\xa0sign\\xa0declaration\\xa0principle\\xa0Palestinian\\xa0self-rule\\xa0area\\xa0Washington\\xa0.\\xa0But\\xa0ongoing\\xa0violence\\xa0on-again\\xa0,\\xa0off-again\\xa0peace\\xa0talk\\xa0suggest\\xa0peace\\xa0Middle\\xa0East\\xa0still\\xa0long\\xa0way\\xa0go\"]"
      ]
     },
     "execution_count": 23,
     "metadata": {},
     "output_type": "execute_result"
    }
   ],
   "source": [
    "li"
   ]
  },
  {
   "cell_type": "code",
   "execution_count": 27,
   "metadata": {},
   "outputs": [],
   "source": [
    "import re\n",
    "reg = \"[^0-9A-Za-z\\u4e00-\\u9fa5]\"\n",
    "c = re.sub(reg,'',st)"
   ]
  },
  {
   "cell_type": "code",
   "execution_count": 33,
   "metadata": {},
   "outputs": [],
   "source": []
  },
  {
   "cell_type": "code",
   "execution_count": 39,
   "metadata": {},
   "outputs": [
    {
     "name": "stdout",
     "output_type": "stream",
     "text": [
      "DecadesstrugglebringhomesidewarsolutionarabisraeliconflictSincefourthMiddleEastwarMiddleEastembarklongtortuousroadpeacefuldevelopmentIn1991MiddleEastpeaceconferencefinallyholdbasisprinciplelandpeaceisraelipalestiniansittogethernegotiatetablefirsttimeIn1993twosidesigndeclarationprinciplePalestinianselfruleareaWashingtonButongoingviolenceonagainoffagainpeacetalksuggestpeaceMiddleEaststilllongwaygo\n"
     ]
    }
   ],
   "source": [
    "print(c)"
   ]
  },
  {
   "cell_type": "code",
   "execution_count": 48,
   "metadata": {},
   "outputs": [
    {
     "name": "stdout",
     "output_type": "stream",
     "text": [
      "How old are you Could you give me your pen\n",
      "你好我是个程序猿标注码农\n"
     ]
    }
   ],
   "source": [
    "\n",
    "import re\n",
    " \n",
    "# make English text clean\n",
    "def clean_en_text(text):\n",
    "    # keep English, digital and space\n",
    "    comp = re.compile('[^A-Z^a-z^0-9^ ]')\n",
    "    return comp.sub('', text)\n",
    " \n",
    "# make Chinese text clean\n",
    "def clean_zh_text(text):\n",
    "    # keep English, digital and Chinese\n",
    "    comp = re.compile('[^A-Z^a-z^0-9^\\u4e00-\\u9fa5]')\n",
    "    return comp.sub('', text)\n",
    " \n",
    "if __name__ == '__main__':\n",
    "    text_en = '$How old are you? Could you give me your pen?'\n",
    "    text_zh = '$你好！我是个程序猿，标注码农￥'\n",
    "    print(clean_en_text(text_en))\n",
    "    print(clean_zh_text(text_zh))"
   ]
  },
  {
   "cell_type": "code",
   "execution_count": null,
   "metadata": {},
   "outputs": [],
   "source": []
  }
 ],
 "metadata": {
  "kernelspec": {
   "display_name": "Python 3",
   "language": "python",
   "name": "python3"
  },
  "language_info": {
   "codemirror_mode": {
    "name": "ipython",
    "version": 3
   },
   "file_extension": ".py",
   "mimetype": "text/x-python",
   "name": "python",
   "nbconvert_exporter": "python",
   "pygments_lexer": "ipython3",
   "version": "3.7.4"
  }
 },
 "nbformat": 4,
 "nbformat_minor": 2
}
