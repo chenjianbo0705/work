{
 "cells": [
  {
   "cell_type": "code",
   "execution_count": 1,
   "metadata": {},
   "outputs": [],
   "source": [
    "from sklearn.datasets import fetch_20newsgroups\n",
    "from sklearn.feature_extraction.text import CountVectorizer"
   ]
  },
  {
   "cell_type": "code",
   "execution_count": 2,
   "metadata": {},
   "outputs": [],
   "source": [
    "data = fetch_20newsgroups()"
   ]
  },
  {
   "cell_type": "code",
   "execution_count": 3,
   "metadata": {},
   "outputs": [
    {
     "data": {
      "text/plain": [
       "['alt.atheism',\n",
       " 'comp.graphics',\n",
       " 'comp.os.ms-windows.misc',\n",
       " 'comp.sys.ibm.pc.hardware',\n",
       " 'comp.sys.mac.hardware',\n",
       " 'comp.windows.x',\n",
       " 'misc.forsale',\n",
       " 'rec.autos',\n",
       " 'rec.motorcycles',\n",
       " 'rec.sport.baseball',\n",
       " 'rec.sport.hockey',\n",
       " 'sci.crypt',\n",
       " 'sci.electronics',\n",
       " 'sci.med',\n",
       " 'sci.space',\n",
       " 'soc.religion.christian',\n",
       " 'talk.politics.guns',\n",
       " 'talk.politics.mideast',\n",
       " 'talk.politics.misc',\n",
       " 'talk.religion.misc']"
      ]
     },
     "execution_count": 3,
     "metadata": {},
     "output_type": "execute_result"
    }
   ],
   "source": [
    "data.target_names"
   ]
  },
  {
   "cell_type": "code",
   "execution_count": 4,
   "metadata": {},
   "outputs": [],
   "source": [
    "import numpy as np\n",
    "import pandas as pd\n",
    "\n",
    "categories = [\"rec.autos\" #y娱乐 - 汽车\n",
    "              ,\"rec.sport.hockey\" #运动 - 曲棍球\n",
    "              ,\"talk.politics.guns\" #政治 - 枪支问题\n",
    "              ,\"talk.politics.mideast\"] #政治 - 中东问题\n",
    "\n",
    "train = fetch_20newsgroups(subset=\"all\",categories = categories)"
   ]
  },
  {
   "cell_type": "code",
   "execution_count": 5,
   "metadata": {},
   "outputs": [
    {
     "name": "stdout",
     "output_type": "stream",
     "text": [
      "['rec.autos', 'rec.sport.hockey', 'talk.politics.guns', 'talk.politics.mideast']\n",
      "3839\n"
     ]
    }
   ],
   "source": [
    "print(train.target_names)\n",
    "print(len(train.data))"
   ]
  },
  {
   "cell_type": "code",
   "execution_count": 6,
   "metadata": {},
   "outputs": [],
   "source": [
    "list1=[\"娱乐-汽车\",'运动 - 曲棍球','政治 - 枪支问题','政治 - 中东问题']"
   ]
  },
  {
   "cell_type": "code",
   "execution_count": 7,
   "metadata": {},
   "outputs": [],
   "source": [
    "from sklearn.feature_extraction.text import TfidfVectorizer as TFIDF"
   ]
  },
  {
   "cell_type": "code",
   "execution_count": 8,
   "metadata": {},
   "outputs": [],
   "source": [
    "Xtrain = train.data\n",
    "Ytrain = train.target"
   ]
  },
  {
   "cell_type": "code",
   "execution_count": 9,
   "metadata": {},
   "outputs": [
    {
     "data": {
      "text/plain": [
       "'From: rcmolden@parmesan.cs.wisc.edu (Robertc. Moldenhauer)\\nSubject: Re: Saudi clergy condemns debut of human rights group!\\nKeywords: international, non-usa government, government, civil rights, \\tsocial issues, politics\\nOrganization: University of Wisconsin, Madison -- Computer Sciences Dept.\\nLines: 38\\n\\nIn article <39898@optima.cs.arizona.edu> bakken@cs.arizona.edu (Dave Bakken) writes:\\n>In article <benali.737307554@alcor> benali@alcor.concordia.ca ( ILYESS B. BDIRA ) writes:\\n>>It looks like Ben Baz\\'s mind and heart are also blind, not only his eyes.\\n>>I used to respect him, today I lost the minimal amount of respect that\\n>>I struggled to keep for him.\\n>>To All Muslim netters: This is the same guy who gave a \"Fatwah\" that\\n>>Saudi Arabia can be used by the United Ststes to attack Iraq . \\n>\\n>They were attacking the Iraqis to drive them out of Kuwait,\\n>a country whose citizens have close blood and business ties\\n>to Saudi citizens.  And me thinks if the US had not helped out\\n>the Iraqis would have swallowed Saudi Arabia, too (or at \\n>least the eastern oilfields).  And no Muslim country was doing\\n>much of anything to help liberate Kuwait and protect Saudi\\n>Arabia; indeed, in some masses of citizens were demonstrating\\n>in favor of that butcher Saddam (who killed lotsa Muslims),\\n>just because he was killing, raping, and looting relatively\\n>rich Muslims and also thumbing his nose at the West.\\n\\nThe whole \"saddam is going to invade Saudi Arabia\" was nothing but US State\\nDepartment propeganda.  Saddam (and Iraq in general) never recognised the \\nBritish created Kuwait.  They were trying to recover land they believed\\nwas theirs, much like the Argentines in the Faulklands.  The Kuwaitis pushed\\njust a little too far by taking Iraqi oil and Saddam thought he\\'d settle\\nthe dispute the old fashioned way...\\nEverybody would have been much better off had they left the reunited Iraq\\ntogether and concentrated on taking out Saddam.  A strong, united Iraq with\\nan elected government would have gone a long way to ridding the world of\\nthe feudal dictatorships in the Gulf.\\nBut of course a weak divided Arab people better suits US foriegn policy...\\n\\nThe US had no problem killing tens of thousands of ill-equipted Iraqi soldiers,\\nincluding burying several thousand alive and slaughtering retreating batallions\\nfrom the air in defense of Kuwaiti oil, but it has yet to lift a finger against\\nBosnian Serbs while they slaughter Bosnian muslims....\\n\\n\\n\\n'"
      ]
     },
     "execution_count": 9,
     "metadata": {},
     "output_type": "execute_result"
    }
   ],
   "source": [
    "Xtrain[2]"
   ]
  },
  {
   "cell_type": "code",
   "execution_count": 10,
   "metadata": {},
   "outputs": [
    {
     "data": {
      "text/plain": [
       "list"
      ]
     },
     "execution_count": 10,
     "metadata": {},
     "output_type": "execute_result"
    }
   ],
   "source": [
    "type(Xtrain)"
   ]
  },
  {
   "cell_type": "code",
   "execution_count": 11,
   "metadata": {},
   "outputs": [],
   "source": [
    "tfidf = TFIDF().fit(Xtrain)\n",
    "Xtrain_ = tfidf.transform(Xtrain)"
   ]
  },
  {
   "cell_type": "code",
   "execution_count": 12,
   "metadata": {},
   "outputs": [
    {
     "data": {
      "text/plain": [
       "TfidfVectorizer(analyzer='word', binary=False, decode_error='strict',\n",
       "        dtype=<class 'numpy.int64'>, encoding='utf-8', input='content',\n",
       "        lowercase=True, max_df=1.0, max_features=None, min_df=1,\n",
       "        ngram_range=(1, 1), norm='l2', preprocessor=None, smooth_idf=True,\n",
       "        stop_words=None, strip_accents=None, sublinear_tf=False,\n",
       "        token_pattern='(?u)\\\\b\\\\w\\\\w+\\\\b', tokenizer=None, use_idf=True,\n",
       "        vocabulary=None)"
      ]
     },
     "execution_count": 12,
     "metadata": {},
     "output_type": "execute_result"
    }
   ],
   "source": [
    "tfidf"
   ]
  },
  {
   "cell_type": "code",
   "execution_count": 14,
   "metadata": {},
   "outputs": [],
   "source": [
    "from sklearn.naive_bayes import MultinomialNB, BernoulliNB,GaussianNB\n",
    "from sklearn.metrics import brier_score_loss as BS\n",
    "#name = [\"Multinomial\"]\n",
    "models = [BernoulliNB()]"
   ]
  },
  {
   "cell_type": "code",
   "execution_count": 15,
   "metadata": {},
   "outputs": [],
   "source": [
    "for clf in models:\n",
    "    clf.fit(Xtrain_,Ytrain)"
   ]
  },
  {
   "cell_type": "code",
   "execution_count": 16,
   "metadata": {},
   "outputs": [],
   "source": [
    "fr = open('D:\\Python\\Python\\学习Sklearn\\文本分类测试集\\zhongdong.txt',\"r\")\n",
    "st=fr.read()\n",
    "fr.close()"
   ]
  },
  {
   "cell_type": "code",
   "execution_count": 17,
   "metadata": {},
   "outputs": [
    {
     "data": {
      "text/plain": [
       "'Decades of struggle have brought home to both sides that war is no solution to the arabisraeli conflict Since the fourth Middle East war the Middle East has embarked on a long and tortuous road of peaceful development In 1991 the Middle East peace conference was finally held on the basis of the principle of land for peace and the israelis and palestinians sat together at the negotiating table for the first time In 1993 the two sides signed the declaration of principles on Palestinian selfrule in some areas in Washington But the ongoing violence and the onagain offagain peace talks suggest that peace in the Middle East still has a long way to go'"
      ]
     },
     "execution_count": 17,
     "metadata": {},
     "output_type": "execute_result"
    }
   ],
   "source": [
    "import re\n",
    "reg = \"[^A-Z^a-z^0-9^ ]\"\n",
    "st= re.sub(reg,'',st)\n",
    "st"
   ]
  },
  {
   "cell_type": "code",
   "execution_count": 18,
   "metadata": {},
   "outputs": [
    {
     "name": "stdout",
     "output_type": "stream",
     "text": [
      "['Decades', 'struggle', 'bring', 'home', 'side', 'war', 'solution', 'arabisraeli', 'conflict', 'Since', 'fourth', 'Middle', 'East', 'war', 'Middle', 'East', 'embark', 'long', 'tortuous', 'road', 'peaceful', 'development', 'In', '1991', 'Middle', 'East', 'peace', 'conference', 'finally', 'hold', 'basis', 'principle', 'land', 'peace', 'israeli', 'palestinian', 'sit', 'together', 'negotiate', 'table', 'first', 'time', 'In', '1993', 'two', 'side', 'sign', 'declaration', 'principle', 'Palestinian', 'selfrule', 'area', 'Washington', 'But', 'ongoing', 'violence', 'onagain', 'offagain', 'peace', 'talk', 'suggest', 'peace', 'Middle', 'East', 'still', 'long', 'way', 'go']\n"
     ]
    }
   ],
   "source": [
    "import nltk\n",
    "from nltk.corpus import stopwords\n",
    "from nltk.tokenize import word_tokenize \n",
    "from nltk.stem import PorterStemmer\n",
    "from nltk.stem import WordNetLemmatizer\n",
    "stop_words=set(stopwords.words('english'))\n",
    "word_tokens=word_tokenize(st)\n",
    "filtered_sentence = []\n",
    "for  w in word_tokens:\n",
    "    if w not in stop_words:\n",
    "            filtered_sentence.append(w)\n",
    "lemma_word = []\n",
    "frwordnet_lemmatizer = WordNetLemmatizer()\n",
    "for w  in filtered_sentence:\n",
    "    word1 = frwordnet_lemmatizer.lemmatize(w, pos =\"n\")\n",
    "    word2 = frwordnet_lemmatizer.lemmatize(word1, pos =\"v\")\n",
    "    word3 = frwordnet_lemmatizer.lemmatize(word2, pos =\"a\")\n",
    "    lemma_word.append(word3)\n",
    "print(lemma_word)"
   ]
  },
  {
   "cell_type": "code",
   "execution_count": 19,
   "metadata": {},
   "outputs": [
    {
     "data": {
      "text/plain": [
       "'Decades\\xa0struggle\\xa0bring\\xa0home\\xa0side\\xa0war\\xa0solution\\xa0arabisraeli\\xa0conflict\\xa0Since\\xa0fourth\\xa0Middle\\xa0East\\xa0war\\xa0Middle\\xa0East\\xa0embark\\xa0long\\xa0tortuous\\xa0road\\xa0peaceful\\xa0development\\xa0In\\xa01991\\xa0Middle\\xa0East\\xa0peace\\xa0conference\\xa0finally\\xa0hold\\xa0basis\\xa0principle\\xa0land\\xa0peace\\xa0israeli\\xa0palestinian\\xa0sit\\xa0together\\xa0negotiate\\xa0table\\xa0first\\xa0time\\xa0In\\xa01993\\xa0two\\xa0side\\xa0sign\\xa0declaration\\xa0principle\\xa0Palestinian\\xa0selfrule\\xa0area\\xa0Washington\\xa0But\\xa0ongoing\\xa0violence\\xa0onagain\\xa0offagain\\xa0peace\\xa0talk\\xa0suggest\\xa0peace\\xa0Middle\\xa0East\\xa0still\\xa0long\\xa0way\\xa0go'"
      ]
     },
     "execution_count": 19,
     "metadata": {},
     "output_type": "execute_result"
    }
   ],
   "source": [
    "st= \" \".join(lemma_word)\n",
    "st"
   ]
  },
  {
   "cell_type": "code",
   "execution_count": 20,
   "metadata": {},
   "outputs": [],
   "source": [
    "li=st.strip().split('/n ')"
   ]
  },
  {
   "cell_type": "code",
   "execution_count": 21,
   "metadata": {},
   "outputs": [
    {
     "data": {
      "text/plain": [
       "'e'"
      ]
     },
     "execution_count": 21,
     "metadata": {},
     "output_type": "execute_result"
    }
   ],
   "source": [
    "li[0][1]"
   ]
  },
  {
   "cell_type": "code",
   "execution_count": 22,
   "metadata": {},
   "outputs": [],
   "source": [
    "Xte = tfidf.transform(li)"
   ]
  },
  {
   "cell_type": "code",
   "execution_count": 23,
   "metadata": {},
   "outputs": [],
   "source": [
    "tosee = pd.DataFrame(Xte.toarray(),columns=tfidf.get_feature_names())"
   ]
  },
  {
   "cell_type": "code",
   "execution_count": 24,
   "metadata": {},
   "outputs": [
    {
     "data": {
      "text/html": [
       "<div>\n",
       "<style scoped>\n",
       "    .dataframe tbody tr th:only-of-type {\n",
       "        vertical-align: middle;\n",
       "    }\n",
       "\n",
       "    .dataframe tbody tr th {\n",
       "        vertical-align: top;\n",
       "    }\n",
       "\n",
       "    .dataframe thead th {\n",
       "        text-align: right;\n",
       "    }\n",
       "</style>\n",
       "<table border=\"1\" class=\"dataframe\">\n",
       "  <thead>\n",
       "    <tr style=\"text-align: right;\">\n",
       "      <th></th>\n",
       "      <th>00</th>\n",
       "      <th>000</th>\n",
       "      <th>0000</th>\n",
       "      <th>000020</th>\n",
       "      <th>000152</th>\n",
       "      <th>000246</th>\n",
       "      <th>000256</th>\n",
       "      <th>000337</th>\n",
       "      <th>000413</th>\n",
       "      <th>0005111312</th>\n",
       "      <th>...</th>\n",
       "      <th>zx</th>\n",
       "      <th>zx6wre</th>\n",
       "      <th>zxp</th>\n",
       "      <th>zxqi</th>\n",
       "      <th>zy</th>\n",
       "      <th>zyg</th>\n",
       "      <th>zz</th>\n",
       "      <th>zz_g9q3</th>\n",
       "      <th>zzzzzz</th>\n",
       "      <th>älvsjö</th>\n",
       "    </tr>\n",
       "  </thead>\n",
       "  <tbody>\n",
       "    <tr>\n",
       "      <th>0</th>\n",
       "      <td>0.0</td>\n",
       "      <td>0.0</td>\n",
       "      <td>0.0</td>\n",
       "      <td>0.0</td>\n",
       "      <td>0.0</td>\n",
       "      <td>0.0</td>\n",
       "      <td>0.0</td>\n",
       "      <td>0.0</td>\n",
       "      <td>0.0</td>\n",
       "      <td>0.0</td>\n",
       "      <td>...</td>\n",
       "      <td>0.0</td>\n",
       "      <td>0.0</td>\n",
       "      <td>0.0</td>\n",
       "      <td>0.0</td>\n",
       "      <td>0.0</td>\n",
       "      <td>0.0</td>\n",
       "      <td>0.0</td>\n",
       "      <td>0.0</td>\n",
       "      <td>0.0</td>\n",
       "      <td>0.0</td>\n",
       "    </tr>\n",
       "  </tbody>\n",
       "</table>\n",
       "<p>1 rows × 47935 columns</p>\n",
       "</div>"
      ],
      "text/plain": [
       "    00  000  0000  000020  000152  000246  000256  000337  000413  0005111312  \\\n",
       "0  0.0  0.0   0.0     0.0     0.0     0.0     0.0     0.0     0.0         0.0   \n",
       "\n",
       "    ...     zx  zx6wre  zxp  zxqi   zy  zyg   zz  zz_g9q3  zzzzzz  älvsjö  \n",
       "0   ...    0.0     0.0  0.0   0.0  0.0  0.0  0.0      0.0     0.0     0.0  \n",
       "\n",
       "[1 rows x 47935 columns]"
      ]
     },
     "execution_count": 24,
     "metadata": {},
     "output_type": "execute_result"
    }
   ],
   "source": [
    "proba =clf.predict_proba(Xte)\n",
    "tosee"
   ]
  },
  {
   "cell_type": "code",
   "execution_count": 25,
   "metadata": {},
   "outputs": [
    {
     "name": "stdout",
     "output_type": "stream",
     "text": [
      "0\n"
     ]
    }
   ],
   "source": [
    "y_pred = clf.predict(Xte)\n",
    "print(y_pred[0])"
   ]
  },
  {
   "cell_type": "code",
   "execution_count": 26,
   "metadata": {},
   "outputs": [],
   "source": [
    "#tosee.sum(axis=0) / tosee.sum(axis=0).sum()"
   ]
  },
  {
   "cell_type": "code",
   "execution_count": 27,
   "metadata": {},
   "outputs": [
    {
     "data": {
      "text/plain": [
       "array([[9.96402008e-01, 3.59799232e-03, 1.90581793e-18, 1.79897458e-16]])"
      ]
     },
     "execution_count": 27,
     "metadata": {},
     "output_type": "execute_result"
    }
   ],
   "source": [
    "proba"
   ]
  },
  {
   "cell_type": "code",
   "execution_count": 28,
   "metadata": {},
   "outputs": [
    {
     "name": "stdout",
     "output_type": "stream",
     "text": [
      "0.99640\n",
      "0.00360\n",
      "0.00000\n",
      "0.00000\n"
     ]
    }
   ],
   "source": [
    "for i in range(4):\n",
    "    y='{:.5f}'.format(proba[0][i]) # 5f表示保留5位小数点的float型\n",
    "    print(y)"
   ]
  },
  {
   "cell_type": "code",
   "execution_count": 29,
   "metadata": {},
   "outputs": [
    {
     "name": "stdout",
     "output_type": "stream",
     "text": [
      "你输入的文件属于      娱乐-汽车\n"
     ]
    }
   ],
   "source": [
    "print('你输入的文件属于'+\"      \" + list1[y_pred[0]])"
   ]
  },
  {
   "cell_type": "code",
   "execution_count": 30,
   "metadata": {},
   "outputs": [],
   "source": []
  },
  {
   "cell_type": "code",
   "execution_count": null,
   "metadata": {},
   "outputs": [],
   "source": []
  }
 ],
 "metadata": {
  "kernelspec": {
   "display_name": "Python 3",
   "language": "python",
   "name": "python3"
  },
  "language_info": {
   "codemirror_mode": {
    "name": "ipython",
    "version": 3
   },
   "file_extension": ".py",
   "mimetype": "text/x-python",
   "name": "python",
   "nbconvert_exporter": "python",
   "pygments_lexer": "ipython3",
   "version": "3.6.5"
  }
 },
 "nbformat": 4,
 "nbformat_minor": 2
}
